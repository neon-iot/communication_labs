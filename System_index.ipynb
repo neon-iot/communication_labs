{
  "cells": [
    {
      "cell_type": "markdown",
      "metadata": {
        "id": "view-in-github",
        "colab_type": "text"
      },
      "source": [
        "<a href=\"https://colab.research.google.com/github/neon-iot/communication_labs/blob/main/System_index.ipynb\" target=\"_parent\"><img src=\"https://colab.research.google.com/assets/colab-badge.svg\" alt=\"Open In Colab\"/></a>"
      ]
    },
    {
      "cell_type": "markdown",
      "source": [
        "*Adrian Francisco Ramirez*\n",
        "\n",
        "![Book Cover](https://github.com/Addriann/System/blob/main/figures/cover.png?raw=1)"
      ],
      "metadata": {
        "id": "FHQ-69aE-Err"
      }
    },
    {
      "cell_type": "markdown",
      "source": [
        "## Index\n",
        "\n",
        "### [Introduction](introduction.ipynb)\n",
        "\n",
        "### Functions\n",
        "- [ber_ser](ber_ser.ipynb)\n",
        "- [best_delay](best_delay.ipynb)\n",
        "- [binary_to_gray](binary_to_gray.ipynb)\n",
        "- [code](code.ipynb)\n",
        "- [convert_ADC](convert_ADC.ipynb)\n",
        "- [decode](decode.ipynb)\n",
        "- [demodulate](demodulate.ipynb)\n",
        "- [det_lag](det_lag.ipynb)\n",
        "- [detect](detect.ipynb)\n",
        "- [downsample](downsample.ipynb)\n",
        "- [equalize](equalize.ipynb)\n",
        "- [estimate_errors](estimate_errors.ipynb)\n",
        "- [eye_diagram](eye_diagram.ipynb)\n",
        "- [freq_response](freq_response.ipynb)\n",
        "- [fun_asymp](fun_asymp.ipynb)\n",
        "- [fun_c_opt](fun_c_opt.ipynb)\n",
        "- [interpol](interpol.ipynb)\n",
        "- [loop_filter](loop_filter.ipynb)\n",
        "- [modulate](modulate.ipynb)\n",
        "- [nco](nco.ipynb)\n",
        "- [process_chan](process_chan.ipynb)\n",
        "- [rc_analysis](rc_analysis.ipynb)\n",
        "- [rcos_bixio](rcos_bixio.ipynb)\n",
        "- [receive](receive.ipynb)\n",
        "- [source](source.ipynb)\n",
        "- [superimposed](superimposed.ipynb)\n",
        "- [sync_detect](sync_detect.ipynb)\n",
        "- [sync_recover](sync_recover.ipynb)\n",
        "- [ted](ted.ipynb)\n",
        "- [transform](transform.ipynb)\n",
        "- [upsample](upsample.ipynb)\n",
        "\n"
      ],
      "metadata": {
        "id": "NKQ_rZSB-Mpv"
      }
    }
  ],
  "metadata": {
    "colab": {
      "collapsed_sections": [],
      "provenance": [],
      "include_colab_link": true
    },
    "kernelspec": {
      "display_name": "Python 3",
      "name": "python3"
    },
    "language_info": {
      "name": "python"
    }
  },
  "nbformat": 4,
  "nbformat_minor": 0
}
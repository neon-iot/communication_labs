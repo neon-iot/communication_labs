{
  "cells": [
    {
      "cell_type": "markdown",
      "metadata": {
        "id": "view-in-github",
        "colab_type": "text"
      },
      "source": [
        "<a href=\"https://colab.research.google.com/github/neon-iot/communication_labs/blob/main/detection_theory/notebooks/SpectrumSensing_GroupFormer1.ipynb\" target=\"_parent\"><img src=\"https://colab.research.google.com/assets/colab-badge.svg\" alt=\"Open In Colab\"/></a>"
      ]
    },
    {
      "cell_type": "markdown",
      "metadata": {
        "id": "OgphFGn0rIDx"
      },
      "source": [
        "# SENSADO DE ESPECTRO: detección para modelo Gaussiano y Chi-cuadrado de la señal de energía\n",
        "\n",
        "## Narella Cerquetti, Ignacio Ibañez Salas,...\n"
      ]
    },
    {
      "cell_type": "markdown",
      "metadata": {
        "id": "cFA0kGOSZb38"
      },
      "source": [
        "## Introducción"
      ]
    },
    {
      "cell_type": "markdown",
      "metadata": {
        "id": "w7_1c9i-Z5dv"
      },
      "source": [
        "*Radios Cognitivas* o *Cognitive Radios* es un paradigma de las comunicaciones inalámbricas (*wireless comunication*) en el cual tanto las redes como los nodos inalámbricos varían sus parámetros de transmisión y/o recepción para poder efectuar un intercambio de información (comuniacación entre pares) de forma más eficiente sin interferir con otros usuarios. La modificación de los parámetros está basada en la observación de distintos factores tales como el espectro de radiofrecuencia, el comportamiento del usuario o el estado de la red.\n",
        "\n",
        "De manera general, las radios cognitivas examinan el ambiente electromagnético en el que están operando, detectan las bandas de frecuencia que no están siendo utilizadas, y adaptan sus parámetros de trabaja para trasmitir su información dentro de dichas bandas. Así, el *sensado de espectro* cumple un rol fundamental en el rendimiento de esta tecnología; la detección correcta de las bandas de frecuencia en uso determina la performance de la comunicación entre pares establecida por el sistema."
      ]
    },
    {
      "cell_type": "markdown",
      "metadata": {
        "id": "1N9ZPMX7faCv"
      },
      "source": [
        "## Sensado de espectro"
      ]
    },
    {
      "cell_type": "markdown",
      "metadata": {
        "id": "gLck7Sz0rLPl"
      },
      "source": [
        "Como ya se mencionó, una de las tareas principales en las radios cognitivas es que el usuario (o nodo) que desea hacer una transmisión (denominado *usuario secundario*, SU) debe, primeramente verificar las bandas de frecuencia permitidas que no están siendo ocupadas por un *usuario primario*, PU, para de esta manera evitar interferencia entre las señales.\n",
        "\n",
        "Así, el sensado de espectro es una técnica utilizada para determinar si un determinado ancho de banda está siendo ocupado por algún usuario primario.\n",
        "\n",
        "Existen diferentes métodos a partir de los cuales un nodo puede decidir si un cierto ancho de banda está disponible para su uso o no, pero independientemente de cuál sea la opción escogida todas ellas consisten en realizar un test de hipótesis binaria donde:\n",
        "\n",
        "*   $H_0:$ Ausencia de usuario primario (canal libre de señal)\n",
        "*   $H_1:$ Presencia de usuario primario (canal ocupado)"
      ]
    },
    {
      "cell_type": "code",
      "execution_count": 22,
      "metadata": {
        "id": "EjltDOmby_fq"
      },
      "outputs": [],
      "source": [
        "import numpy as np\n",
        "import matplotlib.pyplot as plt\n",
        "import math\n",
        "import scipy.stats as scs"
      ]
    },
    {
      "cell_type": "markdown",
      "metadata": {
        "id": "2JyhLhz530yH"
      },
      "source": [
        "## Detector de Energía"
      ]
    },
    {
      "cell_type": "markdown",
      "metadata": {
        "id": "LxE0RCeaqCiF"
      },
      "source": [
        "La determinación de la ocupación o no de un canal mediante el método del $Detector$ $de$ $Energía$ se basa en comparar el nivel de energía de la señal captada por el receptor con un $threshold$ (umbral de enrgía), simbolizado como $\\lambda$, que se obtiene a partir de la señal de ruido propia del canal. Es decir, este método se basa en el principio que la energía de una señal transmitida siempre es mayor que la energía de la señal de ruido propia del canal.\n",
        "\n",
        "La señal capturada por el receptor a partir de la cual se realiza la detección es $Y(n)$, donde:\n",
        "\n",
        "\n",
        "*   $Y(n) = W(n)$; si no hay presencia de señal,\n",
        "*   $Y(n) = S(n) + W(n)$; si se está transmitiendo una señal.\n",
        "\n",
        "$S(n)$ se corresponde con la señal transmitida por un usuario primario mientras que $W(n)$ es el ruido Gaussiano de media cero adicionado por el canal.\n"
      ]
    },
    {
      "cell_type": "markdown",
      "metadata": {
        "id": "J9B6BYoTiD9n"
      },
      "source": [
        "Lo que se compara con el threshold es la energía de la señal receptada por el nodo, la cual se calcula para cualquier señal como:\n",
        "\n",
        "$E = \\int_{T_0} |Y(t)|^2 \\cdot dt$\n",
        "\n",
        "donde $Y(t)$ es la señal observada y $T_0$ es el intervalo de duración (o intervalo de análisis) de la señal.\n",
        "\n",
        "El nodo receptor tomará muestras de la señal que está capturando resultando así en una discretización de la señal original. En consecuencia el estadístico de prueba utilizado finalmente resulta: \n",
        "\n",
        "$T = \\sum_{n=1}^{N}|Y(n)|^2$ [1]\n",
        "\n",
        "donde $N$ se corresponde con la cantidad de muestras tomadas de la señal capturada. \n",
        "\n",
        "El estadístico $T$ se compara con el threshold $\\lambda$, este threshold es la energía del ruido intrínseco del canal\n",
        "\n",
        "Si $T > λ$ el detector concluirá que el canal está ocupado, es decir que una señal primaria está siendo trasmitida a través de él; esto es el test de hipótesis se decidirá por $H_1$. En caso contrario la detección indicará que el canal está disponible lo que implica que el test de hipótesis se resuelva por $H_0$.\n"
      ]
    },
    {
      "cell_type": "markdown",
      "metadata": {
        "id": "acdcTxgaFg7G"
      },
      "source": [
        "### Parámentros de análisis"
      ]
    },
    {
      "cell_type": "markdown",
      "metadata": {
        "id": "sQS-EqpoFjyO"
      },
      "source": [
        "La performance del detector de energía se caracteriza através de 3 parámetros basados en estadísticos de prueba bajo hipótesis binaria:\n",
        "\n",
        "\n",
        "*   **Probabilidad de Detección, $P_D$:** Probabilidad que la decisión tomada haya sido la \n",
        "correcta.\n",
        "*   **Probabilidad de Falsa Alarma, $P_{FA}$:** Probabilidad que la decisión tomada indique presencia de señal en el canal pero esta esté ausente.\n",
        "*   **Probabilidad de Detección Perdida, $P_{MD}$:** Probabilidad que la decisión tomada indique ausencia de señal en el canal pero esta esté presente.\n",
        "\n",
        "\n"
      ]
    },
    {
      "cell_type": "markdown",
      "metadata": {
        "id": "Bjb6Kcx76PhC"
      },
      "source": [
        "###Detector de Energía en canales Gaussianos"
      ]
    },
    {
      "cell_type": "markdown",
      "metadata": {
        "id": "hSGPznYB6cC0"
      },
      "source": [
        "Si el comportamiento del canal puede modelarse como *Ruido Blanco Gaussiano* tal que para un canal desocupado cada muestra tomada del mismo puede suponerse una variable aleatorial de distribución gaussiana de *media* 0 y varianza $σ_w^2$:\n",
        "\n",
        "$W(n) \\thicksim N(0, σ_w^2)$\n",
        "\n",
        "la distribución del estadístico de prueba $T_0$ para la hipótesis $H_0$ se corresponde a una distribución $chi_2$ de media cero, $χ^{2}_{N}$, donde la cantidad de muestras $N$ determina los grados de libertad [4].\n",
        "\n",
        "De igual manera la distribución del estadístico $T_1$ para la $H_1$ puede representarse mediante una distribución $chi_2$ no centrada, $χ^{2}_{N}(2\\cdot γ)$, sindo $\\gamma$ la relación señal-ruido y $N$ los grados de libertad [4].\n",
        "\n",
        "De esta forma queda planteado:\n",
        "\n",
        "\n",
        "$T \\thicksim \\left\\{ \\begin{array}{lcc}\n",
        "             H_0:  χ^{2}_{N}\\\\ \\qquad \\qquad \\qquad \\qquad \\qquad [4]\n",
        "             \\\\ H_1: χ^{2}_{N}(2\\cdot γ) \\\\\n",
        "             \\end{array}\n",
        "   \\right.$\n",
        "\n",
        "Ahora bien, si al cantidad de muestras que se ha tomado del canal es lo suficientemente grande surge una simplificación respecto a la distribución del estadístico $T$ ya que su comportamiento en esas circunstancias puede aproximarse a una distribución Gaussinana. Con esta aproximación las distribuciones del estadístico para ambas hipótesis resultan como se muestra a continuación:\n",
        "\n",
        "$T \\thicksim \\left\\{ \\begin{array}{lcc}\n",
        "             H_0:  Z(Nσ_{n}^2, 2Nσ_{n}^2)\\\\  \\qquad \\qquad \\qquad \\qquad\n",
        "             \\qquad \\qquad \\qquad \\qquad \\qquad [1]\n",
        "             \\\\ H_1: Z(N(σ_{n}^2 + σ_{s}^2), 2N(σ_{s}^2 + σ_{s}^2)^2) \\\\\n",
        "             \\end{array}\n",
        "   \\right.$\n"
      ]
    },
    {
      "cell_type": "markdown",
      "metadata": {
        "id": "S8Ycuw_XYKHO"
      },
      "source": [
        "Para canales Gaussianos, y para muestras lo suficientemente grandes tal que el comportamiento del estadístico se aproxima de un comportamieto Gaussiano, las probabilidades $P_D$, $P_{FA}$ y $P_{MD}$ están dadas por las siguientes ecuaciones [1]:\n",
        "\n",
        "$P_D = P(T>\\lambda | H_1) = Q \\left( \\frac{λ - N(σ_{n}^2 + σ_{s}^2)}{\\sqrt{2N(σ_{n}^2 + σ_{s}^2)^2}}\\right) $\n",
        "\n",
        "$P_{FA} = P(T>\\lambda | H_0) = Q \\left( \\frac{λ - Nσ_{n}^2}{\\sqrt{2Nσ_{n}^4}}\\right) $\n",
        "\n",
        "$P_{MD} = 1 - P_D$\n"
      ]
    },
    {
      "cell_type": "markdown",
      "source": [
        "Para canales Gaussianos donde no se aplica la simplificación antes mencionada las probabilidades $P_D$, $P_{FA}$ y $P_{MD}$ están dadas por las siguientes ecuaciones:\n",
        "\n",
        "$P_D = P(T>\\lambda | H_1) = F \\left( \\frac{λ}{σ_{n}^2 + σ_{s}^2}, N\\right) $\n",
        "\n",
        "$P_{FA} = P(T>\\lambda | H_0) = F \\left( \\frac{λ}{σ_{n}^2}, N\\right)\\qquad \\qquad [4]$\n",
        "\n",
        "$P_{MD} = 1 - P_D$\n",
        "\n",
        "donde la función $F$ es la función de *supervivencia* de la distribución $χ_2$ y $N$ los grados de libertad. Notar que $F(x) = 1 - P(∞ < T < x)$ y $Q(x) = 1 - P(∞ < T < x)$ son las funciones de supervivencia de la densidad de probailidad $χ_2$ y gaussiana, respectivamente."
      ],
      "metadata": {
        "id": "gvT3UlWiDB3e"
      }
    },
    {
      "cell_type": "markdown",
      "metadata": {
        "id": "QvDGQnsbs3p5"
      },
      "source": [
        "### Determinación del $threshold$"
      ]
    },
    {
      "cell_type": "markdown",
      "source": [
        "El threshold de decisión puede calcularse a partir de la *probabilidad de falsa alarma* si esta se tiene como dato. En las secciones que siguen se indica cómo calcular el mismo para el caso que el comportamiento del estadístico $T$ se aproxime con una distribución gaussiana o haciendo uso de la distribución $χ_2$."
      ],
      "metadata": {
        "id": "7gsvCO7Qm6ae"
      }
    },
    {
      "cell_type": "markdown",
      "source": [
        "#### Calculo de threshold para la distribución Gaussiana"
      ],
      "metadata": {
        "id": "OzCmcConj70M"
      }
    },
    {
      "cell_type": "markdown",
      "metadata": {
        "id": "YgkYnyHAs_Gd"
      },
      "source": [
        "El umbral de decisión para el caso donde se aproxima la distribución del estadístico a un comportamiento Gaussiano se deriva de la expresión de cálculo de la $P_{FA}$ como se muestra a continuación:\n",
        "\n",
        "$λ = Q^{-1}(P_{FA}) \\cdot \\sqrt{2Nσ_{n}^4} + Nσ_{n}^2$"
      ]
    },
    {
      "cell_type": "markdown",
      "source": [
        "#### Cálculo de threshold para la distribución $χ_2$"
      ],
      "metadata": {
        "id": "Yw05mR6Bkflz"
      }
    },
    {
      "cell_type": "markdown",
      "source": [
        "El umbral de decisión para el caso donde se considera una distribución $χ_2$ para el estadístico de prueba también puede calcularse a partir de la $P_{FA}$ de la siguiente manera:\n",
        "\n",
        "$λ = F^{-1}(P_{FA}, N) \\cdot σ_{n}^2$"
      ],
      "metadata": {
        "id": "272eMfXfkqiN"
      }
    },
    {
      "cell_type": "markdown",
      "metadata": {
        "id": "CebIXooXxHo1"
      },
      "source": [
        "### Resultados y análisis"
      ]
    },
    {
      "cell_type": "markdown",
      "metadata": {
        "id": "2dEqjXUexrzg"
      },
      "source": [
        "A continuación se estudia el desempeño de un sistema de sensado de espectro por detección de energía en el canal de tranmisión. El respectivo análisis se hace en función a la actuación del sistema de sensado para distintos valores de relación señal ruido y para una $P_{FA}$ fija deseada del $5\\%$. A su vez se comparan los resultados obtenidos por medio del uso de la distribución $χ^2$ y la aproximación Gaussiana."
      ]
    },
    {
      "cell_type": "code",
      "execution_count": 23,
      "metadata": {
        "id": "ebT3tjmHczJ6"
      },
      "outputs": [],
      "source": [
        "# PARAMETERS\n",
        "sigma_s = 1           # desviación de la señal primaria\n",
        "P_FA = 0.05           # probabilidad de falso positivo deseada\n",
        "num_samples = 4000    # número de muestras\n",
        "num_stats = 1000      # cantidad de veces que se repite el test\n",
        "# SNR set up\n",
        "SNR_LOW = -20           \n",
        "SNR_UP = 6\n",
        "SNR_STEP = 2"
      ]
    },
    {
      "cell_type": "code",
      "execution_count": 24,
      "metadata": {
        "id": "qB_0jmyhh8uS"
      },
      "outputs": [],
      "source": [
        "def generate_statistic(num_stats, sigma_w, num_samples, test_signal):\n",
        "\n",
        "  T = []\n",
        "\n",
        "  if test_signal == False:        # si se está testeando un canal sin señal\n",
        "\n",
        "    for ind in range(num_stats):\n",
        "      # noise signal\n",
        "      w = sigma_w * np.random.randn(num_samples)\n",
        "      # sample\n",
        "      y = w\n",
        "\n",
        "      # Calculate test statistic\n",
        "      T.append(np.sum(np.square(np.abs(y))))\n",
        "\n",
        "    return T\n",
        "\n",
        "  else:                           # si se está testeando un canal con señal\n",
        "\n",
        "    for ind in range(num_stats):\n",
        "      # signal\n",
        "      x = sigma_s * np.random.randn(num_samples)\n",
        "      # noise\n",
        "      w = sigma_w * np.random.randn(num_samples)\n",
        "      # sample\n",
        "      y = x + w\n",
        "\n",
        "      # Calculate test statistic\n",
        "      T.append(np.sum(np.square(np.abs(y))))\n",
        "\n",
        "    return T"
      ]
    },
    {
      "cell_type": "code",
      "execution_count": 25,
      "metadata": {
        "id": "nvRJxucvqvQ4"
      },
      "outputs": [],
      "source": [
        "SNR_list = np.arange(SNR_LOW, SNR_UP, SNR_STEP)\n",
        "\n",
        "P_FA_THEO = np.zeros(len(SNR_list))\n",
        "P_D_THEO = np.zeros(len(SNR_list))\n",
        "\n",
        "P_M_CALC = np.zeros(len(SNR_list))\n",
        "P_D_CALC = np.zeros(len(SNR_list))\n",
        "\n",
        "P_D_THEO_NORM = []\n",
        "                      \n",
        "lambdas = []                   # threshold chi2\n",
        "lambdas_norm = []              # threshold norm\n",
        "T_to_plot = []\n",
        "\n",
        "# Evaluate the performance on H0 and H1\n",
        "for ind, SNR in enumerate(SNR_list):\n",
        "    NUM_FALSE_ALARM = 0\n",
        "    NUM_DETECTION = 0\n",
        "    NUM_MISS_DETECTION = 0\n",
        "\n",
        "    # Standard deviation calculation for the noise signal\n",
        "    sigma_w = np.sqrt(sigma_s ** 2 / 10 ** (SNR / 10))\n",
        "\n",
        "    # Energy threshold calculation\n",
        "    # Chi2\n",
        "    lambda_ = scs.chi2.isf(q=P_FA, df=num_samples) * (sigma_w ** 2)\n",
        "    lambdas.append(lambda_)\n",
        "    # Gaussian\n",
        "    l_ = scs.norm.isf(P_FA) * np.sqrt(2*num_samples*sigma_w**4) + num_samples*sigma_w**2\n",
        "    lambdas_norm.append(l_)\n",
        "\n",
        "    # Test static calculation\n",
        "    T_y_0 = generate_statistic(num_stats, sigma_w, num_samples, False)\n",
        "    T_y_1 = generate_statistic(num_stats, sigma_w, num_samples, True)\n",
        "\n",
        "    if ind == 6:\n",
        "      T_to_plot.append(T_y_0)\n",
        "      T_to_plot.append(T_y_1)\n",
        "\n",
        "    # Decision making (spectrum sensing)\n",
        "    for T in T_y_0:\n",
        "        if T >= lambda_:\n",
        "            NUM_FALSE_ALARM += 1\n",
        "\n",
        "    for T in T_y_1:\n",
        "        if T >= lambda_:\n",
        "            NUM_DETECTION += 1\n",
        "        else:\n",
        "            NUM_MISS_DETECTION += 1\n",
        "\n",
        "    # Probabilities\n",
        "    # Aproximations (mean)\n",
        "    P_M_CALC[ind] = NUM_MISS_DETECTION / num_stats\n",
        "    P_D_CALC[ind] = NUM_DETECTION / num_stats\n",
        "\n",
        "    # Theorical\n",
        "    # Pfa definida\n",
        "    P_FA_THEO[ind] = P_FA\n",
        "    # Pd calculada por chi2\n",
        "    P_D_THEO[ind] = scs.chi2.sf(x=lambda_ / (sigma_s ** 2 + sigma_w ** 2), df=num_samples)\n",
        "    # Pd calculada por norm\n",
        "    P_D_THEO_NORM.append(scs.norm.sf(x=l_ ,loc=num_samples*(sigma_w**2+sigma_s**2), scale=np.sqrt(2*num_samples*(sigma_w**2+sigma_s**2)**2)))"
      ]
    },
    {
      "cell_type": "markdown",
      "metadata": {
        "id": "TwvRU_bi20DY"
      },
      "source": [
        "En las tablas que siguen se muestran los resultados obtenidos en el cálculo de la *probabilidad de detección* y en los valores de *threshold* para cada *SNR*. En ambos casos queda comprobado que la aproximación al comportamiendo del estadístico de prueba $T$ a una distribución Gaussiana es correcto ya que los resultados obtenidos son prácticamente idénticos."
      ]
    },
    {
      "cell_type": "code",
      "execution_count": 26,
      "metadata": {
        "colab": {
          "base_uri": "https://localhost:8080/"
        },
        "id": "1QffqyvriS5t",
        "outputId": "0e6453a2-68a8-4d79-a88f-0e260a043793"
      },
      "outputs": [
        {
          "output_type": "stream",
          "name": "stdout",
          "text": [
            "PROBABILITIES TABLE\n",
            "\n",
            "SNR          Prob. of Detection (aprox)          Prob. of Detection (Gaussian)          Prob. of Detection (Chi2) \n",
            "----------------------------------------------------------------------------------------------------------------------\n",
            "-20                   0.093                               0.1179                                0.116\n",
            "-18                   0.184                               0.1784                                0.175\n",
            "-16                   0.297                               0.3055                                0.299\n",
            "-14                   0.55                               0.5519                                0.544\n",
            "-12                   0.857                               0.8659                                0.864\n",
            "-10                   0.994                               0.9949                                0.995\n",
            "-8                      1.0                                1.0                                  1.0\n",
            "-6                      1.0                                1.0                                  1.0\n",
            "-4                      1.0                                1.0                                  1.0\n",
            "-2                      1.0                                1.0                                  1.0\n",
            "0                      1.0                                1.0                                  1.0\n",
            "2                      1.0                                1.0                                  1.0\n",
            "4                      1.0                                1.0                                  1.0\n"
          ]
        }
      ],
      "source": [
        "# Comparative Table\n",
        "print('PROBABILITIES TABLE')\n",
        "print()\n",
        "print('SNR          Prob. of Detection (aprox)          Prob. of Detection (Gaussian)          Prob. of Detection (Chi2) ')\n",
        "print('----------------------------------------------------------------------------------------------------------------------')\n",
        "\n",
        "for pd in range(len(SNR_list)):\n",
        "\n",
        "  if P_D_CALC[pd] == 1.0:\n",
        "    print(SNR_list[pd], '                    ',round(P_D_CALC[pd], 4), '                              ', round(P_D_THEO_NORM[pd], 4), '                                ', round(P_D_THEO[pd], 3))\n",
        "    continue\n",
        "\n",
        "  print(SNR_list[pd], '                 ', round(P_D_CALC[pd], 4), '                             ', round(P_D_THEO_NORM[pd], 4), '                              ', round(P_D_THEO[pd], 3))"
      ]
    },
    {
      "cell_type": "code",
      "execution_count": 27,
      "metadata": {
        "colab": {
          "base_uri": "https://localhost:8080/"
        },
        "id": "yd8z9UGYmWOa",
        "outputId": "24f03338-bb19-4622-8c4b-fcb528a87d67"
      },
      "outputs": [
        {
          "output_type": "stream",
          "name": "stdout",
          "text": [
            "THRESHOLD TABLE\n",
            "\n",
            "SNR                           threshold CHI2                       threshold NORM\n",
            "-------------------------------------------------------------------------------------\n",
            "-20                             414824.8404                            414712.0181\n",
            "-18                             261736.7798                            261665.5937\n",
            "-16                             165144.7435                            165099.8281\n",
            "-14                             104199.2888                            104170.9491\n",
            "-12                             65745.3066                            65727.4254\n",
            "-10                             41482.484                            41471.2018\n",
            "-8                             26173.678                            26166.5594\n",
            "-6                             16514.4744                            16509.9828\n",
            "-4                             10419.9289                            10417.0949\n",
            "-2                             6574.5307                            6572.7425\n",
            "0                             4148.2484                            4147.1202\n",
            "2                             2617.3678                            2616.6559\n",
            "4                             1651.4474                            1650.9983\n"
          ]
        }
      ],
      "source": [
        "# Thresholds Table\n",
        "\n",
        "print('THRESHOLD TABLE')\n",
        "print()\n",
        "print('SNR                           threshold CHI2                       threshold NORM')\n",
        "print('-------------------------------------------------------------------------------------')\n",
        "\n",
        "for threshold in range(len(SNR_list)):\n",
        "\n",
        "  print(SNR_list[threshold],'                           ' ,round(lambdas[threshold], 4), '                          ', round(lambdas_norm[threshold], 4))"
      ]
    },
    {
      "cell_type": "markdown",
      "metadata": {
        "id": "YILpaxFK4ae4"
      },
      "source": [
        "En las gráficas siguientes se comprueba una vez más que puede lograrse una muy buena aproximación a la descripción de la distribución del estadístico $T$ asociando a la misma al comportamiento de una campana Gaussiana. En las imagenes se observan las distribuciones obtenidas para el estadístico $T$ para el caso de $SNR=-20$ y $SNR=6$ con señal ausente y presente en el canal. "
      ]
    },
    {
      "cell_type": "code",
      "source": [
        "plt.hist(T_to_plot[0], bins=20, label=\"Distribución $T_0$\")\n",
        "plt.hist(T_to_plot[1], bins=20, color=\"red\", label=\"Distribución $T_1$\")\n",
        "plt.title(\"Distrbución del estadístico T para $SNR=-20$\")\n",
        "plt.legend()\n",
        "plt.show()"
      ],
      "metadata": {
        "colab": {
          "base_uri": "https://localhost:8080/",
          "height": 283
        },
        "id": "q41x2h2fYM69",
        "outputId": "85817314-9ee1-48a8-847d-874a161e45f1"
      },
      "execution_count": 28,
      "outputs": [
        {
          "output_type": "display_data",
          "data": {
            "text/plain": [
              "<Figure size 432x288 with 1 Axes>"
            ],
            "image/png": "[encoded data removed]"
          },
          "metadata": {
            "needs_background": "light"
          }
        }
      ]
    },
    {
      "cell_type": "code",
      "execution_count": 29,
      "metadata": {
        "colab": {
          "base_uri": "https://localhost:8080/",
          "height": 283
        },
        "id": "VQ5d26YauIOa",
        "outputId": "beb65d2e-9736-4627-8193-8506ba8333f9"
      },
      "outputs": [
        {
          "output_type": "display_data",
          "data": {
            "text/plain": [
              "<Figure size 432x288 with 1 Axes>"
            ],
            "image/png": "[encoded data removed]"
          },
          "metadata": {
            "needs_background": "light"
          }
        }
      ],
      "source": [
        "plt.hist(T_y_0, bins=20, label=\"Distribución $T_0$\")\n",
        "plt.hist(T_y_1, bins=20, color=\"red\", label=\"Distribución $T_1$\")\n",
        "plt.title(\"Distrbución del estadístico T para $SNR=6$\")\n",
        "plt.legend()\n",
        "plt.show()"
      ]
    },
    {
      "cell_type": "code",
      "execution_count": 30,
      "metadata": {
        "colab": {
          "base_uri": "https://localhost:8080/",
          "height": 730
        },
        "id": "QuG4aFtChQ_v",
        "outputId": "027c9c3e-faaf-4ac5-e1fa-3780b463ad55"
      },
      "outputs": [
        {
          "output_type": "display_data",
          "data": {
            "text/plain": [
              "<Figure size 864x864 with 1 Axes>"
            ],
            "image/png": "[encoded data removed]"
          },
          "metadata": {
            "needs_background": "light"
          }
        }
      ],
      "source": [
        "# Plot and save the results\n",
        "plt.figure(figsize=(12,12))\n",
        "plt.plot(SNR_list, P_M_CALC, label=\"Aproximated $P_{M}$\")\n",
        "plt.plot(SNR_list, P_D_CALC, label=\"Aproximated $P_{D}$\")\n",
        "plt.plot(SNR_list, P_D_THEO, label=\"Theoretical $P_{D}$\")\n",
        "plt.plot(SNR_list, P_FA_THEO, label=\"Theoretical ($chi_{2}$) $P_{FA}$\")\n",
        "plt.plot(SNR_list, P_D_THEO_NORM, label=\"Theoretical (norm) $P_{D}$\")\n",
        "plt.xlabel(\"SNR\")\n",
        "plt.ylabel(\"Probability\")\n",
        "#plt.yscale('log')\n",
        "plt.title(\"Energy detector\")\n",
        "plt.legend()\n",
        "#plt.savefig('./results/energy_detector_a.png')\n",
        "plt.show()"
      ]
    },
    {
      "cell_type": "markdown",
      "metadata": {
        "id": "p_pzbO8EV3Dl"
      },
      "source": [
        "De la gráfica anterior resulta claro que la performance de un sistema de sensado de espectro basado en la detección de energía mejora considerablemente a medida que aumenta la relación señal ruido. \n",
        "\n",
        "Como puede apreciarse, para valores de $SNR$ muy bajos la probabilidad de detección de un usuario primario en el canal es muy baja; mientras que la probabilidad de que estando el canal ocupado el detector indique la ausencia de señal es elevada. A medida que se incrementa la relación señal ruido la $P_D$ crece exponencialmente y la $P_M$ decae muy rápido."
      ]
    },
    {
      "cell_type": "markdown",
      "metadata": {
        "id": "gfxjUCG0tgXZ"
      },
      "source": [
        "## Filtro Matcheado"
      ]
    },
    {
      "cell_type": "markdown",
      "source": [
        "La técnica de $Filtro$ $Matcheado$ consiste implementar a la salida del canal que se quiere analizar un filtro apareado cuya función principal es detectar la presencia de una señal conocida, o de referencia, dentro de una señal recibida. La característica de este tipo de filtros es que su respuesta al impulso, $h(n)$, es una versión invertida de la señal de referencia que se desea detectar la cual se denomina $x_p(n)$. \n",
        "\n",
        "Para este caso la señal de referencia $x_p(n)$ [2] representa la señal transmitida por un usuario primario.\n",
        "\n",
        "La respuesta al impulso del canal resulta entonces:\n",
        "\n",
        "$h(n) = x_p(-n)$ [2]\n",
        "\n",
        "La señal que llega a la entrada del filtro desde el canal es $S(n)$ donde:\n",
        "\n",
        "$S(n) \\thicksim \\left\\{ \\begin{array}{lcc}\n",
        "             W(n) \\qquad \\qquad \\quad \\text{si el canal está desocupado}\\\\ \n",
        "             \\\\ x_p(n) + W(n)  \\qquad \\text{si el canal está ocupado}\\\\\n",
        "             \\end{array}\n",
        "   \\right.$\n",
        "\n",
        "donde $W(n)$ se corresponde con la señal de ruido propio del canal. Debido a la aleatoriedad del ruido del canal $W(n)$ puede modelarse como una variable aleatoria de distribución gaussiana como se muestra a continuación:\n",
        "\n",
        "$W(n) \\thicksim N(0, σ_w^2)$"
      ],
      "metadata": {
        "id": "t4l_B2L1uuGz"
      }
    },
    {
      "cell_type": "markdown",
      "source": [
        "Una vez que $S(n)$ ha pasado el filtro, la señal que finalmente llega al detector es $Y(n)$, es decir la respuesta del filtro. $Y(n)$ resulta de la convolución entre la respuesta del filtro $h(n)$ y la señal de entrada al filtro $S(n)$:\n",
        "\n",
        "$Y(n) = \\sum^{\\infty}_{k=-∞} h(n-k) \\cdot S(k)$     [1]\n",
        "\n",
        "Dado que $h(n) = x_p(-n)$, la expresión de convolución resulta:\n",
        "\n",
        "$Y(n) = \\sum^{\\infty}_{k=-∞} x_p(k-n) \\cdot S(k)$"
      ],
      "metadata": {
        "id": "9Y9kveR32QJb"
      }
    },
    {
      "cell_type": "markdown",
      "metadata": {
        "id": "lp5ocKThmP_V"
      },
      "source": [
        "Al igual que en el caso del detector de energía, el test de hipótesis se realiza a través de la comparación con un determinado $threshold$ el cual, para esta técnica, es dependiente de la energía de la señal primaria como se verá en los incisos siguientes. \n",
        "\n",
        "El estadístico de prueba con el cual se realiza la comparación es:\n",
        "\n",
        "$T_{MFD} = \\sum_{N} Y(n) \\cdot x_p^*(n)$   [2]\n",
        "\n",
        "El comportamiento del estadístico puede describirse a través de una distribución guassiana tanto para la hipótesis $H_0$ como para la hipótesis $H_1$ tal que:\n",
        "\n",
        "$T_{MFD} \\thicksim \\left\\{ \\begin{array}{lcc}\n",
        "             H_0:  Z(0, \\sqrt{E ⋅ σ_{n}^2 })\\\\ \\qquad \\qquad \\qquad \\qquad \\qquad [3]\n",
        "             \\\\ H_1: Z(E, \\sqrt{E ⋅ σ_{n}^2 }) \\\\\n",
        "             \\end{array}\n",
        "   \\right.$\n",
        "\n",
        "donde $E$ es la energía de la señal de referencia y $σ_n$ la varianza de la señal de ruido del canal."
      ]
    },
    {
      "cell_type": "markdown",
      "metadata": {
        "id": "6Bvi7YkY0teH"
      },
      "source": [
        "### Parámetros de análisis"
      ]
    },
    {
      "cell_type": "markdown",
      "metadata": {
        "id": "wjYvLYfg0w6_"
      },
      "source": [
        "Al igual que en el detector de energía la performance de la técnica de filtro matcheado se determina por medio de los mismos 3 parámetros:\n",
        "\n",
        "\n",
        "*   **Probabilidad de Detección, $P_D$:** Probabilidad que la decisión tomada tras la comparación con el threshold haya sido la \n",
        "correcta.\n",
        "*   **Probabilidad de Falsa Alarma, $P_{FA}$:** Probabilidad que la decisión tomada indique presencia de señal en el canal pero esta esté ausente.\n",
        "*   **Probabilidad de Detección Perdida, $P_{MMF}$:** Probabilidad que la decisión tomada indique ausencia de señal en el canal pero esta esté presente."
      ]
    },
    {
      "cell_type": "markdown",
      "source": [
        "Los cálculos de las probabilidades pueden efectuarese a partir de la función $Q$ debido a la distribución gaussiana que presenta el estadístico [1] [3]:"
      ],
      "metadata": {
        "id": "kJnRFfDIJW-g"
      }
    },
    {
      "cell_type": "markdown",
      "metadata": {
        "id": "C_EpCLyj-D6B"
      },
      "source": [
        "$P_D = P(T>\\lambda | H_1) = Q \\left( \\frac{λ - E}{\\sqrt{E ⋅ σ_{n}^2 }}\\right) $\n",
        "\n",
        "$P_{FA} = P(T>\\lambda | H_0) = Q \\left( \\frac{λ}{\\sqrt{E ⋅ σ_{n}^2 }}\\right) $\n",
        "\n",
        "$P_{MMF} = 1 - P_D$\n"
      ]
    },
    {
      "cell_type": "markdown",
      "metadata": {
        "id": "QpXLCLbP-dI5"
      },
      "source": [
        "### Cálculo del $threshold$"
      ]
    },
    {
      "cell_type": "markdown",
      "metadata": {
        "id": "i52rMFtm-iZ4"
      },
      "source": [
        "Igual que en el caso del detector de energía es posible despejar el threshold a part de la *probabilidad de falsa alarma* si esta se fija en un valor determinado:\n",
        "\n",
        "$λ = Q^{-1}(P_{FA}) \\cdot \\sqrt{E ⋅ \\sigma_n^2}  \\qquad [1][3]$\n",
        "\n",
        "De la expresión se observa que el valor umbral depende de la energía de la señal primaria conocida y no solo de la señal de ruido del canal."
      ]
    },
    {
      "cell_type": "markdown",
      "metadata": {
        "id": "ImK9TCJZ_CLE"
      },
      "source": [
        "### Resultados y análisis"
      ]
    },
    {
      "cell_type": "markdown",
      "source": [
        "Al igual que en el caso anterior, la performance del sistema se estudia para distintos valores de $SNR$ y un valor fijo de $P_{FA}$ igual al $5\\%$."
      ],
      "metadata": {
        "id": "7KYu0krAAS0F"
      }
    },
    {
      "cell_type": "code",
      "execution_count": 31,
      "metadata": {
        "id": "RmKFjLDqtd1b"
      },
      "outputs": [],
      "source": [
        "def rrcosinefilter(tt,beta,Ts,shift):\n",
        "  # tt: intervalo de tiempo\n",
        "  # beta: roll-off\n",
        "  # Ts: tiempo de símbolo\n",
        "  # shift: desplazamiento para cada uno\n",
        "  rrc = (1/np.sqrt(Ts))*np.sinc((tt-shift)/Ts)*np.cos(np.pi*beta*(tt-shift)/Ts)/(1-(2*beta*(tt-shift)/Ts)**2)\n",
        "\n",
        "  return rrc\n",
        "\n",
        "def get_signal(simbolos,beta,Ts,tt):\n",
        "\n",
        "  signal_added = 0\n",
        "  signal = []\n",
        "\n",
        "  for symb in range(len(simbolos)):\n",
        "    signal.append(simbolos[symb]*rrcosinefilter(tt,beta,Ts,symb*Ts))\n",
        "    signal_added = signal_added+signal[symb]\n",
        "\n",
        "  return signal_added"
      ]
    },
    {
      "cell_type": "code",
      "execution_count": 32,
      "metadata": {
        "id": "Kva25GlAa6d8"
      },
      "outputs": [],
      "source": [
        "def generate_statisticMTF(num_stats, x_p, sigmaS, sigmaW, signal_state=False):\n",
        "\n",
        "  T = []\n",
        "  add_signal = 0\n",
        "\n",
        "  if signal_state:\n",
        "    add_signal = 1\n",
        "  else:\n",
        "    add_signal = 0\n",
        "\n",
        "  for i in range(num_stats):\n",
        "    # Transmitted signal\n",
        "    x = sigmaS * x_p * add_signal\n",
        "    # Noise\n",
        "    w = sigmaW * np.random.randn(len(x))\n",
        "    # Matched filter impulse response\n",
        "    flipped_xp = np.flip(x_p)       \n",
        "    # Recieved signal --> output of the filter\n",
        "    y = np.convolve((x + w), flipped_xp, 'same')\n",
        "\n",
        "    # Test static calculation\n",
        "    T_aux = y * np.conjugate(x_p)\n",
        "    if signal_state:\n",
        "      T.append(np.abs(np.sum(T_aux)))\n",
        "    else:\n",
        "      T.append(np.sum(T_aux))\n",
        "\n",
        "  return np.array(T)"
      ]
    },
    {
      "cell_type": "markdown",
      "metadata": {
        "id": "p9QKig6C_809"
      },
      "source": [
        "Para efectuar el análisis de esta técnica de sensado de espectro se supone a la señal primaria con un comportamiento similar al que se muestra en la gráfica inferior y se toma la versión invertida de ésta señal como respuesta del filtro matcheado."
      ]
    },
    {
      "cell_type": "code",
      "execution_count": 33,
      "metadata": {
        "colab": {
          "base_uri": "https://localhost:8080/",
          "height": 0
        },
        "id": "Qs9RZjLC4FVN",
        "outputId": "9f1836d9-1ec1-4e08-d609-c2aa3b482b1c"
      },
      "outputs": [
        {
          "output_type": "display_data",
          "data": {
            "text/plain": [
              "<Figure size 432x288 with 1 Axes>"
            ],
            "image/png": "[encoded data removed]"
          },
          "metadata": {
            "needs_background": "light"
          }
        }
      ],
      "source": [
        "# Transmitted signal (noiseless)\n",
        "symbols = np.array([1,1,-1,1])\n",
        "beta = 0.5\n",
        "Ts = 10\n",
        "t0 = -40\n",
        "tf = 70\n",
        "step = (tf - t0) / num_samples\n",
        "t = np.arange(t0, tf, step)\n",
        "# Signal\n",
        "x_p = get_signal(symbols,beta,Ts,t)\n",
        "# Signal Energy\n",
        "E = np.dot(x_p, x_p)\n",
        "\n",
        "plt.plot(t, x_p)\n",
        "plt.show()"
      ]
    },
    {
      "cell_type": "code",
      "execution_count": 34,
      "metadata": {
        "colab": {
          "base_uri": "https://localhost:8080/"
        },
        "id": "QAmgSl5LULRy",
        "outputId": "0e17eca3-033b-4312-a2ce-fc4e174b53a1"
      },
      "outputs": [
        {
          "output_type": "execute_result",
          "data": {
            "text/plain": [
              "121.09886768405823"
            ]
          },
          "metadata": {},
          "execution_count": 34
        }
      ],
      "source": [
        "# Signal Energy\n",
        "E"
      ]
    },
    {
      "cell_type": "code",
      "execution_count": 35,
      "metadata": {
        "id": "-Zg1VXW-88Dl"
      },
      "outputs": [],
      "source": [
        "PFA_THEO_MTF = np.zeros(len(SNR_list))\n",
        "PFA_THEO_MTF2 = np.zeros(len(SNR_list))\n",
        "PD_THEO_MTF = np.zeros(len(SNR_list))\n",
        "PM_THEO_MTF = np.zeros(len(SNR_list))\n",
        "\n",
        "PD_CALC_MTF = np.zeros(len(SNR_list))\n",
        "PM_CALC_MTF = np.zeros(len(SNR_list))\n",
        "\n",
        "\n",
        "\n",
        "# Evaluate the performance on H0 and H1\n",
        "for ind, SNR in enumerate(SNR_list):\n",
        "    N_FALSE_ALARM = 0\n",
        "    N_DETECTION = 0\n",
        "    N_MISS_DETECTION = 0\n",
        "\n",
        "    sigma_w = np.sqrt(sigma_s ** 2 / 10 ** (SNR / 10))\n",
        "\n",
        "    # Energy threshold calculation\n",
        "    lambda_ = scs.norm.isf(P_FA) * np.sqrt(E*sigma_w**2)\n",
        "\n",
        "    # Test static generation\n",
        "    Tmf_y_0= generate_statisticMTF(num_stats, x_p, sigma_s, sigma_w, False)\n",
        "    Tmf_y_1= generate_statisticMTF(num_stats, x_p, sigma_s, sigma_w, True)\n",
        "\n",
        "    if ind == 12:\n",
        "      T1 = Tmf_y_1\n",
        "      T0 = Tmf_y_0\n",
        "  \n",
        "    # Decision making (spectrum sensing)\n",
        "    for T in Tmf_y_0:\n",
        "        if T >= (lambda_):\n",
        "            N_FALSE_ALARM += 1\n",
        "\n",
        "    for T in Tmf_y_1:\n",
        "        if T >= (lambda_):\n",
        "            N_DETECTION += 1\n",
        "        else:\n",
        "            N_MISS_DETECTION += 1\n",
        "\n",
        "    # Probabilities\n",
        "    # Aproximations\n",
        "    PD_CALC_MTF[ind] = N_DETECTION / num_stats\n",
        "    PM_CALC_MTF[ind] = N_MISS_DETECTION / num_stats\n",
        "\n",
        "    # Theorical\n",
        "    PFA_THEO_MTF[ind] = P_FA\n",
        "    PFA_THEO_MTF2[ind] = scs.norm.sf(x=lambda_, loc=0, scale=np.sqrt(E*sigma_w**2))\n",
        "    PD_THEO_MTF[ind] = scs.norm.sf(x=lambda_, loc=E, scale=np.sqrt(E*sigma_w**2))\n",
        "    PM_THEO_MTF[ind] = scs.norm.cdf(x=lambda_, loc=E, scale=np.sqrt(E*sigma_w**2))"
      ]
    },
    {
      "cell_type": "markdown",
      "source": [
        "De la gráfica siguiente se observa claramente que el estadístico de prueba sigue el comportamiento de una variable aleatoria Gaussiana."
      ],
      "metadata": {
        "id": "XiLSAwzYAr8P"
      }
    },
    {
      "cell_type": "code",
      "source": [
        "plt.hist(T0, bins=20)\n",
        "plt.show()"
      ],
      "metadata": {
        "colab": {
          "base_uri": "https://localhost:8080/",
          "height": 0
        },
        "id": "OAEZT_Nwb-P2",
        "outputId": "60717fda-0ac9-4f24-a5ef-5594c3c5ebae"
      },
      "execution_count": 36,
      "outputs": [
        {
          "output_type": "display_data",
          "data": {
            "text/plain": [
              "<Figure size 432x288 with 1 Axes>"
            ],
            "image/png": "[encoded data removed]"
          },
          "metadata": {
            "needs_background": "light"
          }
        }
      ]
    },
    {
      "cell_type": "code",
      "source": [
        "# Probability Table\n",
        "\n",
        "print('PROBABILITY TABLE')\n",
        "print('SNR                      Prob. of Detection                  Prob. of Miss-Detecciton')\n",
        "print('-----------------------------------------------------------------------------------')\n",
        "\n",
        "for _, snr in enumerate(SNR_list):\n",
        "\n",
        "  print(snr, '                       ', round(PD_THEO_MTF[_],4), '                                ',round(PM_THEO_MTF[_],4))"
      ],
      "metadata": {
        "colab": {
          "base_uri": "https://localhost:8080/"
        },
        "id": "aKVvzeDkCou1",
        "outputId": "7dd750ec-c506-4c33-f50b-39ec19e30a12"
      },
      "execution_count": 37,
      "outputs": [
        {
          "output_type": "stream",
          "name": "stdout",
          "text": [
            "PROBABILITY TABLE\n",
            "SNR                      Prob. of Detection                  Prob. of Miss-Detecciton\n",
            "-----------------------------------------------------------------------------------\n",
            "-20                         0.2931                                  0.7069\n",
            "-18                         0.3976                                  0.6024\n",
            "-16                         0.5395                                  0.4605\n",
            "-14                         0.7091                                  0.2909\n",
            "-12                         0.8685                                  0.1315\n",
            "-10                         0.9668                                  0.0332\n",
            "-8                         0.9969                                  0.0031\n",
            "-6                         0.9999                                  0.0001\n",
            "-4                         1.0                                  0.0\n",
            "-2                         1.0                                  0.0\n",
            "0                         1.0                                  0.0\n",
            "2                         1.0                                  0.0\n",
            "4                         1.0                                  0.0\n"
          ]
        }
      ]
    },
    {
      "cell_type": "code",
      "execution_count": 38,
      "metadata": {
        "colab": {
          "base_uri": "https://localhost:8080/",
          "height": 0
        },
        "id": "py3p-QG2nI9_",
        "outputId": "b176728c-1a03-4157-ed2f-13a8402bbdee"
      },
      "outputs": [
        {
          "output_type": "display_data",
          "data": {
            "text/plain": [
              "<Figure size 864x864 with 1 Axes>"
            ],
            "image/png": "[encoded data removed]"
          },
          "metadata": {
            "needs_background": "light"
          }
        }
      ],
      "source": [
        "# Plot and save the results\n",
        "plt.figure(figsize=(12,12))\n",
        "plt.plot(SNR_list, PFA_THEO_MTF, label=\"Theoretical $P_{FA}$\")\n",
        "plt.plot(SNR_list, PFA_THEO_MTF2, label=\"Theoretical (norm) $P_{FA}$\")\n",
        "plt.plot(SNR_list, PD_THEO_MTF, label=\"Theoretical $P_{D}$\")\n",
        "plt.plot(SNR_list, PM_THEO_MTF, label=\"Theoretical $P_{M}$\")\n",
        "plt.xlabel(\"SNR\")\n",
        "plt.ylabel(\"Probability\")\n",
        "#plt.yscale('log')\n",
        "plt.title(\"Matched Filter detector\")\n",
        "plt.legend()\n",
        "plt.show()"
      ]
    },
    {
      "cell_type": "markdown",
      "source": [
        "Para los distintos $SNR$ planteados se advierte tanto de la tabla como de la gráfica que la probabilidad de detección correcta se incrementa en conjunto con la relación señal ruido. Para valores bajos de $SNR$ la probabilidad de que el resultado del test de hipótesis no sea el correcto es superior a la probabilidad de una detección correcta del canal sensado.\n",
        "\n",
        "Cuando la relación señal-ruido es lo suficientemente grande, la probailidad de que el resultado del test de hipótesis sea correcto es prácticamente del 100%."
      ],
      "metadata": {
        "id": "wlW1x4-qBULT"
      }
    },
    {
      "cell_type": "markdown",
      "metadata": {
        "id": "8jTTV0yb17ju"
      },
      "source": [
        "### Ventajas y desventajas de la técnica de Filtro Matcheado"
      ]
    },
    {
      "cell_type": "markdown",
      "metadata": {
        "id": "pzyWGINr2Ch_"
      },
      "source": [
        "La principal desventaja de este modelo respecto al detector de energía es que resulta necesario tener información preliminar a cerca de la señal/es que (usualmente) se transmite por el canal para poder construir el filtro. Sin embargo, si se dispone de los datos necesarios de la señal primaria para implementar el detector, el desempeño de este modelo es superior al del detector de energía dado que por su arquitectura maximiza la relación señal-ruido. \n",
        "\n",
        "Para el caso del detector de energía, el umbral de comparación toma como referencia la energía del ruido propio del canal, la cual, al ser el ruido una señal con comportamiento aleatorio, puede verse modificada abruptamente durante ciertos periodos de tiempo tomando valores muy superiores al umbral definido y llevando a que se produzca una detección por *falsa alarma* o que incluso al sumarse a la señal que se transmite modifique su estado de energía y produzca que se *pierda* la detección."
      ]
    },
    {
      "cell_type": "markdown",
      "source": [
        "## Conclusiones: Detector de Energía vs. Filtro Matcheado"
      ],
      "metadata": {
        "id": "jiO0gjAC-b51"
      }
    },
    {
      "cell_type": "markdown",
      "source": [
        "Como se pudo observar, existen diferencias en la performance de las dos técnicas para el sensado de espectro analizadas en este trabajo. En la gráfica siguiente es posible observar claramente que los resultados obtenidos para una baja relación señal-ruido en el modelo de filtro matcheado son mejores que las respuestas del detector de energía. Sin embargo, como también ya se discutió, implementar un sistema de sensado por filtro matcheado requiere que se cumplan ciertas condiciones repecto a la utilización del canal, específicamente las señales transmitidas por el ancho de banda que está siendo sensado deben ser similares entre sí tal que se pueda tomar una señal de referencia para construir la respuesta del filtro del sistema detector.\n"
      ],
      "metadata": {
        "id": "C4uts7MREeC6"
      }
    },
    {
      "cell_type": "code",
      "execution_count": 39,
      "metadata": {
        "colab": {
          "base_uri": "https://localhost:8080/",
          "height": 730
        },
        "id": "74w_Q1C2ouWn",
        "outputId": "e6c8dd4e-c5d2-4676-95c4-d5af74761829"
      },
      "outputs": [
        {
          "output_type": "display_data",
          "data": {
            "text/plain": [
              "<Figure size 864x864 with 1 Axes>"
            ],
            "image/png": "[encoded data removed]"
          },
          "metadata": {
            "needs_background": "light"
          }
        }
      ],
      "source": [
        "plt.figure(figsize=(12,12))\n",
        "plt.plot(SNR_list, P_D_THEO, label=\"$P_D$ Energy Detection\")\n",
        "plt.plot(SNR_list, PD_THEO_MTF, label=\"$P_D$ Matched Filter\")\n",
        "plt.plot(SNR_list, P_FA_THEO, label=\"$P_{FA}$\")\n",
        "plt.xlabel(\"SNR\")\n",
        "plt.ylabel(\"Probability\")\n",
        "plt.title(\"Matched Filter vs. Energy\")\n",
        "plt.legend()\n",
        "plt.show()"
      ]
    },
    {
      "cell_type": "markdown",
      "source": [
        "Ahora bien, la performance de un detector de energía puede mejorar considerablemente dependiendo de la precisión con la que se determina el threshold de comparación, el problema que se presenta es que dado que la referencia para el cálculo del umbral es el nivel de ruido del canal y este cambia aleatoriamente, un umbral que se adecúa perfectamente para un tiempo de análisis, puede no ser el correcto para un tiempo de sensado posterior razón por la que resulta necesario recalcular el umbral de desición prácticamente de forma permanente. No obstante, el beneficio de emplear este tipo de sistema de detección es que no se requiere de ningún tipo de condición o conocimiento previo sobre el espectro de frecuencias para su implementación.\n",
        "\n",
        "A partir del análisis realizado se puede concluir que el desempeño de los sistemas de sensado de espectro dependen principalmente de la correcta definición del umbral que determina el resultado del test de hipótesis a efectuar. La alta precisión en el cálculo del mismo incrementa en gran medida la exactitud de la respuesta del sistema. Sin embargo la dependencia del umbral a utilizar tanto del sistema de sensado empleado como de las condiciones del canal convierten la tarea en poco eficiente debido a que resulta necesario recalcular el mismo cada vez que se modifican alguno de dichos aspectos para ajustarlo a las nuevas condiciones de trabajo. \n",
        "\n",
        "Para superar este conjunto de dificultades se propone un modelo capaz de adaptar de forma automática el umbral de decisión a través de un algoritomo de aprendizaje generado por una red neuronal."
      ],
      "metadata": {
        "id": "oIzWQW7FJpMn"
      }
    },
    {
      "cell_type": "markdown",
      "source": [
        "## Referencias"
      ],
      "metadata": {
        "id": "XypW2VlDWLvx"
      }
    },
    {
      "cell_type": "markdown",
      "source": [
        "[1] kockaya K., Develi I. (2020). \"Spectrum sensing in cognitive radio networks: threshold optimization and analysis\". *J Wireless Com Network 2020*, 255. https://doi.org/10.1186/s13638-020-01870-7\n",
        "\n",
        "[2] F. Salahdine H. E. Ghazi N. Kaabouch and W. F. Fihri. (2015). \"Matched filter detection with dynamic threshold for cognitive radio networks\". *International Conference on Wireless Networks and Mobile Communications (WINCOM). pp. 1-6*, doi: 10.1109/WINCOM.2015.7381345.\n",
        "\n",
        "[3] Odhavjibhai B.A., Rana S. (2017). \"Analysis of Matched filter based spectrum sensing in cognitive radio\". *International Research Journal of Engineering and Technology (IRJET) Vol.4.*\n",
        "\n",
        "[4] Abdulsattar M.A., Hussei Z.A. (2012). \"Energy detection technique for spectrum sensing in Cognitive Radio: A Survey\". *International Journal of Computer Networks & Communications (IJCNC) Vol.4, No.5*\n",
        "\n",
        "[5] Zeng Y., Ying-Chang L., Hoang A.T, Zhang R. (2009). \"A Review on Spectrum Sensing for Cognitive Radio: Challenges and Solutions\". *EURASIP Journal on Advances in Signal Processing Vol. 2010*, doi:10.1155/2010/381465\n",
        "\n",
        "[6] Thangalakshmi B., Bharathy G.T. (2016). \"Matched Filter detection based spectrum sensing in Cognitive Radio Networks\". *International Journal of Emerging Technology in Computer Science & Electronics (IJETCSE) Vol. 22*"
      ],
      "metadata": {
        "id": "miwgKjL7WNR4"
      }
    }
  ],
  "metadata": {
    "colab": {
      "provenance": [],
      "toc_visible": true,
      "include_colab_link": true
    },
    "gpuClass": "standard",
    "kernelspec": {
      "display_name": "Python 3",
      "name": "python3"
    },
    "language_info": {
      "name": "python"
    }
  },
  "nbformat": 4,
  "nbformat_minor": 0
}
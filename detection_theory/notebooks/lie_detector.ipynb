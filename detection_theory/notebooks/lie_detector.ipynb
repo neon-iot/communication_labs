{
 "cells": [
  {
   "cell_type": "markdown",
   "metadata": {
    "id": "X8LIptOn2LJC"
   },
   "source": [
    "# Detector de Mentiras"
   ]
  },
  {
   "cell_type": "code",
   "execution_count": 1,
   "metadata": {
    "colab": {
     "base_uri": "https://localhost:8080/"
    },
    "id": "YNL5uHcoOJlp",
    "outputId": "c387d4fc-ab0b-4795-e841-aac8a29c2e9d"
   },
   "outputs": [
    {
     "name": "stdout",
     "output_type": "stream",
     "text": [
      "0.0963\n"
     ]
    }
   ],
   "source": [
    "import numpy as np\n",
    "nb_hypothesis = 20000\n",
    "alpha = 1\n",
    "beta = 20\n",
    "p_lye = 0.5\n",
    "p_truth = 0.5\n",
    "\n",
    "np.random.seed(1234)\n",
    "# Hypothesis source : TRUE (1) False (0)\n",
    "def get_hypothesis(p_true,nb):\n",
    "  p_lye = 1 - p_true\n",
    "  out = np.random.choice(2,nb,p=[p_true,p_lye])\n",
    "  return out\n",
    "hypothesis = get_hypothesis(p_truth,nb_hypothesis)\n",
    "# Output of brain cell activity instrument\n",
    "def get_brain_activity(hypothesis, alfa, beta):\n",
    "  out = [np.random.exponential(1/alfa) if hypothesis[i]==1 else np.random.exponential(1/beta) for i in range(len(hypothesis)) ]\n",
    "  return out\n",
    "observation = get_brain_activity(hypothesis, alpha, beta)\n",
    "\n",
    "# Lyier Detector\n",
    "def detect(input, alpha, beta, p_true):\n",
    "  p_lye = 1 - p_true\n",
    "  theta = 1/(beta-alpha) * np.log( (p_lye*beta)/(p_true*alpha))\n",
    "  out_hypothesis = [1 if input[i]>theta else 0 for i in range(len(input))]\n",
    "  return [theta, out_hypothesis]\n",
    "\n",
    "theta, hyp_detected = detect(observation, alpha, beta, p_truth)\n",
    "error = [1 if hypothesis[i]!= hyp_detected[i] else 0 for i in range(nb_hypothesis)]\n",
    "print(np.sum(error)/nb_hypothesis)  \n",
    "#print(error)\n",
    "#print(hypothesis)\n",
    "#print(observation)\n",
    "#print(hyp_detected)\n",
    "#print(theta)"
   ]
  },
  {
   "cell_type": "code",
   "execution_count": 2,
   "metadata": {
    "colab": {
     "base_uri": "https://localhost:8080/"
    },
    "id": "cHoGStidiazo",
    "outputId": "b94e7616-e898-4677-ba7f-ee4875a98f91"
   },
   "outputs": [
    {
     "name": "stdout",
     "output_type": "stream",
     "text": [
      "0.0882\n"
     ]
    }
   ],
   "source": [
    "def simulador_pe(alpha, beta, p_truth, nb):\n",
    "  hypothesis = get_hypothesis(p_truth,nb)\n",
    "  observation = get_brain_activity(hypothesis, alpha, beta)\n",
    "  [theta, hyp_detected] = detect(observation, alpha, beta, p_truth)\n",
    "  error = [1 if hypothesis[i]!= hyp_detected[i] else 0 for i in range(nb)]\n",
    "  #print(hypothesis)\n",
    "  #print(observation)\n",
    "  #print(hyp_detected)\n",
    "  #print(theta)\n",
    "  #print(error)\n",
    "  return (np.sum(error)/nb)\n",
    "\n",
    "nb_hypothesis = 10000\n",
    "alpha = 1\n",
    "beta = 20\n",
    "p_truth = 0.5\n",
    "\n",
    "#print(detect([1.56],alpha,beta,0.5))\n",
    "pe = simulador_pe(alpha, beta, p_truth, nb_hypothesis)\n",
    "print(pe)\n",
    "#print(hypothesis)\n",
    "#print(observation)\n",
    "#print(hyp_detected)\n",
    "#np.random.choice(2,nb_hypothesis,p )"
   ]
  },
  {
   "cell_type": "code",
   "execution_count": 3,
   "metadata": {
    "colab": {
     "base_uri": "https://localhost:8080/",
     "height": 455
    },
    "id": "a0t67C1lc4LU",
    "outputId": "574a73c5-4a0a-4c3a-bb04-deb137bb8ac3"
   },
   "outputs": [
    {
     "data": {
      "text/plain": [
       "(array([[736., 200.,  46.,  14.,   1.,   3.,   0.,   0.,   0.,   0.,   0.,\n",
       "           0.,   0.,   0.,   0.,   0.,   0.,   0.,   0.,   0.],\n",
       "        [337., 244., 145.,  92.,  67.,  48.,  24.,  17.,  12.,   3.,   5.,\n",
       "           1.,   2.,   0.,   0.,   0.,   0.,   2.,   0.,   1.]]),\n",
       " array([2.60816631e-03, 1.27606028e+00, 2.54951239e+00, 3.82296451e+00,\n",
       "        5.09641662e+00, 6.36986874e+00, 7.64332085e+00, 8.91677297e+00,\n",
       "        1.01902251e+01, 1.14636772e+01, 1.27371293e+01, 1.40105814e+01,\n",
       "        1.52840335e+01, 1.65574857e+01, 1.78309378e+01, 1.91043899e+01,\n",
       "        2.03778420e+01, 2.16512941e+01, 2.29247462e+01, 2.41981983e+01,\n",
       "        2.54716505e+01]),\n",
       " <a list of 2 BarContainer objects>)"
      ]
     },
     "execution_count": 3,
     "metadata": {},
     "output_type": "execute_result"
    },
    {
     "data": {
      "image/png": "[encoded data removed]",
      "text/plain": [
       "<Figure size 432x288 with 1 Axes>"
      ]
     },
     "metadata": {
      "needs_background": "light"
     },
     "output_type": "display_data"
    }
   ],
   "source": [
    "import matplotlib.pyplot as plt\n",
    "\n",
    "y_truth = np.random.exponential(1,1000)\n",
    "plt.hist(y_truth,20,align='left')\n",
    "y_lyier = np.random.exponential(3,1000)\n",
    "plt.hist([y_truth, y_lyier],20,align='right')"
   ]
  }
 ],
 "metadata": {
  "colab": {
   "name": "lie_detector.ipynb",
   "provenance": []
  },
  "kernelspec": {
   "display_name": "Python 3",
   "language": "python",
   "name": "python3"
  },
  "language_info": {
   "codemirror_mode": {
    "name": "ipython",
    "version": 3
   },
   "file_extension": ".py",
   "mimetype": "text/x-python",
   "name": "python",
   "nbconvert_exporter": "python",
   "pygments_lexer": "ipython3",
   "version": "3.8.8"
  }
 },
 "nbformat": 4,
 "nbformat_minor": 1
}

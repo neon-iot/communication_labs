{
  "nbformat": 4,
  "nbformat_minor": 0,
  "metadata": {
    "colab": {
      "name": "lie_detector.ipynb",
      "provenance": [],
      "authorship_tag": "ABX9TyNXrplu+x4VoaTzBkr+2qg3",
      "include_colab_link": true
    },
    "kernelspec": {
      "name": "python3",
      "display_name": "Python 3"
    }
  },
  "cells": [
    {
      "cell_type": "markdown",
      "metadata": {
        "id": "view-in-github",
        "colab_type": "text"
      },
      "source": [
        "<a href=\"https://colab.research.google.com/github/neon-iot/communication_labs/blob/main/lie_detector.ipynb\" target=\"_parent\"><img src=\"https://colab.research.google.com/assets/colab-badge.svg\" alt=\"Open In Colab\"/></a>"
      ]
    },
    {
      "cell_type": "markdown",
      "source": [
        "# Detector de Mentiras"
      ],
      "metadata": {
        "id": "X8LIptOn2LJC"
      }
    },
    {
      "cell_type": "code",
      "metadata": {
        "id": "YNL5uHcoOJlp",
        "outputId": "c387d4fc-ab0b-4795-e841-aac8a29c2e9d",
        "colab": {
          "base_uri": "https://localhost:8080/"
        }
      },
      "source": [
        "import numpy as np\n",
        "nb_hypothesis = 20000\n",
        "alpha = 1\n",
        "beta = 20\n",
        "p_lye = 0.5\n",
        "p_truth = 0.5\n",
        "\n",
        "np.random.seed(1234)\n",
        "# Hypothesis source : TRUE (1) False (0)\n",
        "def get_hypothesis(p_true,nb):\n",
        "  p_lye = 1 - p_true\n",
        "  out = np.random.choice(2,nb,p=[p_true,p_lye])\n",
        "  return out\n",
        "hypothesis = get_hypothesis(p_truth,nb_hypothesis)\n",
        "# Output of brain cell activity instrument\n",
        "def get_brain_activity(hypothesis, alfa, beta):\n",
        "  out = [np.random.exponential(1/alfa) if hypothesis[i]==1 else np.random.exponential(1/beta) for i in range(len(hypothesis)) ]\n",
        "  return out\n",
        "observation = get_brain_activity(hypothesis, alpha, beta)\n",
        "\n",
        "# Lyier Detector\n",
        "def detect(input, alpha, beta, p_true):\n",
        "  p_lye = 1 - p_true\n",
        "  theta = 1/(beta-alpha) * np.log( (p_lye*beta)/(p_true*alpha))\n",
        "  out_hypothesis = [1 if input[i]>theta else 0 for i in range(len(input))]\n",
        "  return [theta, out_hypothesis]\n",
        "\n",
        "theta, hyp_detected = detect(observation, alpha, beta, p_truth)\n",
        "error = [1 if hypothesis[i]!= hyp_detected[i] else 0 for i in range(nb_hypothesis)]\n",
        "print(np.sum(error)/nb_hypothesis)  \n",
        "#print(error)\n",
        "#print(hypothesis)\n",
        "#print(observation)\n",
        "#print(hyp_detected)\n",
        "#print(theta)"
      ],
      "execution_count": null,
      "outputs": [
        {
          "output_type": "stream",
          "text": [
            "0.0963\n"
          ],
          "name": "stdout"
        }
      ]
    },
    {
      "cell_type": "code",
      "metadata": {
        "id": "cHoGStidiazo",
        "outputId": "b94e7616-e898-4677-ba7f-ee4875a98f91",
        "colab": {
          "base_uri": "https://localhost:8080/"
        }
      },
      "source": [
        "def simulador_pe(alpha, beta, p_truth, nb):\n",
        "  hypothesis = get_hypothesis(p_truth,nb)\n",
        "  observation = get_brain_activity(hypothesis, alpha, beta)\n",
        "  [theta, hyp_detected] = detect(observation, alpha, beta, p_truth)\n",
        "  error = [1 if hypothesis[i]!= hyp_detected[i] else 0 for i in range(nb)]\n",
        "  #print(hypothesis)\n",
        "  #print(observation)\n",
        "  #print(hyp_detected)\n",
        "  #print(theta)\n",
        "  #print(error)\n",
        "  return (np.sum(error)/nb)\n",
        "\n",
        "nb_hypothesis = 10000\n",
        "alpha = 1\n",
        "beta = 20\n",
        "p_truth = 0.5\n",
        "\n",
        "#print(detect([1.56],alpha,beta,0.5))\n",
        "pe = simulador_pe(alpha, beta, p_truth, nb_hypothesis)\n",
        "print(pe)\n",
        "#print(hypothesis)\n",
        "#print(observation)\n",
        "#print(hyp_detected)\n",
        "#np.random.choice(2,nb_hypothesis,p )"
      ],
      "execution_count": null,
      "outputs": [
        {
          "output_type": "stream",
          "text": [
            "0.0882\n"
          ],
          "name": "stdout"
        }
      ]
    },
    {
      "cell_type": "code",
      "metadata": {
        "id": "a0t67C1lc4LU",
        "outputId": "574a73c5-4a0a-4c3a-bb04-deb137bb8ac3",
        "colab": {
          "base_uri": "https://localhost:8080/",
          "height": 455
        }
      },
      "source": [
        "import matplotlib.pyplot as plt\n",
        "\n",
        "y_truth = np.random.exponential(1,1000)\n",
        "plt.hist(y_truth,20,align='left')\n",
        "y_lyier = np.random.exponential(3,1000)\n",
        "plt.hist([y_truth, y_lyier],20,align='right')"
      ],
      "execution_count": null,
      "outputs": [
        {
          "output_type": "execute_result",
          "data": {
            "text/plain": [
              "(array([[727., 207.,  53.,   8.,   2.,   2.,   1.,   0.,   0.,   0.,   0.,\n",
              "           0.,   0.,   0.,   0.,   0.,   0.,   0.,   0.,   0.],\n",
              "        [351., 217., 158., 100.,  61.,  42.,  33.,  11.,  10.,   6.,   5.,\n",
              "           3.,   0.,   0.,   0.,   1.,   1.,   0.,   0.,   1.]]),\n",
              " array([8.69388771e-04, 1.28391301e+00, 2.56695663e+00, 3.85000025e+00,\n",
              "        5.13304388e+00, 6.41608750e+00, 7.69913112e+00, 8.98217474e+00,\n",
              "        1.02652184e+01, 1.15482620e+01, 1.28313056e+01, 1.41143492e+01,\n",
              "        1.53973929e+01, 1.66804365e+01, 1.79634801e+01, 1.92465237e+01,\n",
              "        2.05295673e+01, 2.18126110e+01, 2.30956546e+01, 2.43786982e+01,\n",
              "        2.56617418e+01]),\n",
              " <a list of 2 Lists of Patches objects>)"
            ]
          },
          "metadata": {
            "tags": []
          },
          "execution_count": 4
        },
        {
          "output_type": "display_data",
          "data": {
            "image/png": "[encoded data removed]",
            "text/plain": [
              "<Figure size 432x288 with 1 Axes>"
            ]
          },
          "metadata": {
            "tags": [],
            "needs_background": "light"
          }
        }
      ]
    }
  ]
}

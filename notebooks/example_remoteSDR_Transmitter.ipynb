{
 "cells": [
  {
   "cell_type": "code",
   "execution_count": 1,
   "id": "e2ab571f",
   "metadata": {},
   "outputs": [],
   "source": [
    "import numpy as np\n",
    "import adi"
   ]
  },
  {
   "cell_type": "code",
   "execution_count": 2,
   "id": "4b023f3a",
   "metadata": {},
   "outputs": [],
   "source": [
    "sample_rate = 1e6 # Hz\n",
    "center_freq = 2915e6 # Hz"
   ]
  },
  {
   "cell_type": "code",
   "execution_count": 3,
   "id": "378a7030",
   "metadata": {},
   "outputs": [],
   "source": [
    "sdr = adi.Pluto(\"ip:192.168.1.16\")\n",
    "sdr.sample_rate = int(sample_rate)\n",
    "sdr.tx_rf_bandwidth = int(sample_rate) # filter cutoff, just set it to the same as sample rate\n",
    "sdr.tx_lo = int(center_freq)\n",
    "sdr.tx_hardwaregain_chan0 = -70 # Increase to increase tx power, valid range is -90 to 0 dB\n",
    "\n",
    "N = 10000 # number of samples to transmit at once\n",
    "t = np.arange(N)/sample_rate\n",
    "samples = 0.5*np.exp(2.0j*np.pi*100e3*t) # Simulate a sinusoid of 100 kHz, so it should show up at 915.1 MHz at the receiver\n",
    "samples *= 2**14 # The PlutoSDR expects samples to be between -2^14 and +2^14, not -1 and +1 like some SDRs\n",
    "\n",
    "# Transmit our batch of samples 100 times, so it should be 1 second worth of samples total, if USB can keep up\n",
    "for i in range(5):\n",
    "    sdr.tx(samples) # transmit the batch of samples once"
   ]
  },
  {
   "cell_type": "code",
   "execution_count": null,
   "id": "1e604e33",
   "metadata": {},
   "outputs": [],
   "source": []
  },
  {
   "cell_type": "code",
   "execution_count": null,
   "id": "fbeef095",
   "metadata": {},
   "outputs": [],
   "source": []
  }
 ],
 "metadata": {
  "kernelspec": {
   "display_name": "Python 3",
   "language": "python",
   "name": "python3"
  },
  "language_info": {
   "codemirror_mode": {
    "name": "ipython",
    "version": 3
   },
   "file_extension": ".py",
   "mimetype": "text/x-python",
   "name": "python",
   "nbconvert_exporter": "python",
   "pygments_lexer": "ipython3",
   "version": "3.8.8"
  }
 },
 "nbformat": 4,
 "nbformat_minor": 5
}

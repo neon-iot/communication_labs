{
  "nbformat": 4,
  "nbformat_minor": 0,
  "metadata": {
    "colab": {
      "name": "Demo Jupyter Notebook",
      "provenance": []
    },
    "kernelspec": {
      "name": "python3",
      "display_name": "Python 3"
    },
    "language_info": {
      "name": "python"
    }
  },
  "cells": [
    {
      "cell_type": "code",
      "metadata": {
        "id": "QBHioFKRiWZq"
      },
      "source": [
        "print(1+1)"
      ],
      "execution_count": null,
      "outputs": []
    }
  ]
}
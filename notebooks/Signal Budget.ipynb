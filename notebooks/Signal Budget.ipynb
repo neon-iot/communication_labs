{
 "cells": [
  {
   "cell_type": "code",
   "execution_count": 1,
   "metadata": {},
   "outputs": [],
   "source": [
    "import adi\n",
    "import matplotlib.pyplot as plt\n",
    "import time"
   ]
  },
  {
   "cell_type": "code",
   "execution_count": 10,
   "metadata": {},
   "outputs": [
    {
     "name": "stdout",
     "output_type": "stream",
     "text": [
      "Buffer size: 1048576\n",
      "seconds elapsed: 15.03173017501831\n",
      "transfer rate [Mbytes/s] 0.6652594134918217\n"
     ]
    }
   ],
   "source": [
    "sample_rate = 32e6 # Hz\n",
    "center_freq = 1000e6 # Hz\n",
    "\n",
    "sdr = adi.Pluto(\"ip:192.168.1.100\")\n",
    "sdr.sample_rate = int(sample_rate)\n",
    "\n",
    "for \n",
    "sdr.rx_rf_bandwidth = int(sample_rate) # filter cutoff, just set it to the same as sample rate\n",
    "sdr.rx_lo = int(center_freq)\n",
    "sdr.rx_buffer_size = 2**20 # this is the buffer the Pluto uses to buffer samples\n",
    "\n",
    "N=10\n",
    "start_time = time.time()\n",
    "for i in range(N):\n",
    "    samples = sdr.rx() # receive samples off Pluto\n",
    "\n",
    "end_time = time.time()\n",
    "print('Buffer size:',sdr.rx_buffer_size )\n",
    "print('seconds elapsed:', end_time - start_time)\n",
    "print('transfer rate [Mbytes/s]',sdr.rx_buffer_size* N /((end_time - start_time)*1024*1024))\n"
   ]
  },
  {
   "cell_type": "code",
   "execution_count": 2,
   "metadata": {},
   "outputs": [],
   "source": [
    "# sample_rate = 8e6 # Hz \n",
    "# Buffer size: 1048576\n",
    "# seconds elapsed: 63.71934485435486\n",
    "# transfer rate [Mbytes/s] 0.15693821119563123\n",
    "\n",
    "#sample_rate = 2e6 # Hz\n",
    "#Buffer size: 1048576\n",
    "#seconds elapsed: 17.844543933868408\n",
    "#transfer rate [Mbytes/s] 0.560395381191015"
   ]
  },
  {
   "cell_type": "code",
   "execution_count": null,
   "metadata": {},
   "outputs": [],
   "source": []
  }
 ],
 "metadata": {
  "kernelspec": {
   "display_name": "Python 3",
   "language": "python",
   "name": "python3"
  },
  "language_info": {
   "codemirror_mode": {
    "name": "ipython",
    "version": 3
   },
   "file_extension": ".py",
   "mimetype": "text/x-python",
   "name": "python",
   "nbconvert_exporter": "python",
   "pygments_lexer": "ipython3",
   "version": "3.7.1"
  }
 },
 "nbformat": 4,
 "nbformat_minor": 1
}

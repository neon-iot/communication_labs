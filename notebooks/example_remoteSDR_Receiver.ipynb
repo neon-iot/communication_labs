{
 "cells": [
  {
   "cell_type": "code",
   "execution_count": 5,
   "id": "6a32a29a",
   "metadata": {},
   "outputs": [],
   "source": [
    "import numpy as np\n",
    "import adi\n",
    "import time\n",
    "#!pip install pyadi-iio"
   ]
  },
  {
   "cell_type": "code",
   "execution_count": 6,
   "id": "b132139d",
   "metadata": {
    "scrolled": true
   },
   "outputs": [
    {
     "name": "stdout",
     "output_type": "stream",
     "text": [
      "[-48. -8.j -56. +2.j -58. -6.j -63.-11.j -53.+12.j -49.+37.j -45. +1.j\n",
      " -64. +7.j -70.+33.j -52.+34.j]\n"
     ]
    }
   ],
   "source": [
    "sample_rate = 1e6 # Hz\n",
    "center_freq = 400e6 # Hz\n",
    "num_samps = 1024 # number of samples returned per call to rx()\n",
    "sdr = adi.Pluto(\"ip:192.168.1.16\")\n",
    "sdr.gain_control_mode_chan0 = \"slow_attack\"\n",
    "#sdr.rx_hardwaregain_chan0 = 70.0 # dB\n",
    "sdr.rx_lo = int(center_freq)\n",
    "sdr.sample_rate = int(sample_rate)\n",
    "sdr.rx_rf_bandwidth = int(sample_rate) # filter width, just set it to the same as sample rate for now\n",
    "sdr.rx_buffer_size = num_samps\n",
    "N = 80\n",
    "start_time = time.time()\n",
    "for i in range(N):\n",
    "    samples = sdr.rx() # receive samples off Pluto\n",
    "end_time = time.time()\n",
    "print(samples[0:10])"
   ]
  },
  {
   "cell_type": "code",
   "execution_count": 7,
   "id": "a0408e1f",
   "metadata": {},
   "outputs": [
    {
     "name": "stdout",
     "output_type": "stream",
     "text": [
      "seconds elapsed: 6.952397584915161\n"
     ]
    }
   ],
   "source": [
    "print('seconds elapsed:', end_time - start_time)"
   ]
  },
  {
   "cell_type": "code",
   "execution_count": 8,
   "id": "4dd603ba",
   "metadata": {},
   "outputs": [
    {
     "name": "stdout",
     "output_type": "stream",
     "text": [
      "sample rate [Samples/s]:  11782.985509595199\n"
     ]
    }
   ],
   "source": [
    "print('sample rate [Samples/s]: ',sdr.rx_buffer_size*N /(end_time - start_time))"
   ]
  },
  {
   "cell_type": "code",
   "execution_count": null,
   "id": "cdfc0651",
   "metadata": {},
   "outputs": [],
   "source": []
  }
 ],
 "metadata": {
  "kernelspec": {
   "display_name": "Python 3",
   "language": "python",
   "name": "python3"
  },
  "language_info": {
   "codemirror_mode": {
    "name": "ipython",
    "version": 3
   },
   "file_extension": ".py",
   "mimetype": "text/x-python",
   "name": "python",
   "nbconvert_exporter": "python",
   "pygments_lexer": "ipython3",
   "version": "3.8.8"
  }
 },
 "nbformat": 4,
 "nbformat_minor": 5
}

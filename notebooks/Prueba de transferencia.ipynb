{
 "cells": [
  {
   "cell_type": "code",
   "execution_count": 1,
   "metadata": {},
   "outputs": [
    {
     "data": {
      "text/plain": [
       "'C:\\\\Users\\\\PC-Admin\\\\Anaconda'"
      ]
     },
     "execution_count": 1,
     "metadata": {},
     "output_type": "execute_result"
    }
   ],
   "source": [
    "import sys; sys.prefix"
   ]
  },
  {
   "cell_type": "code",
   "execution_count": 2,
   "metadata": {},
   "outputs": [
    {
     "data": {
      "text/plain": [
       "['C:\\\\Users\\\\PC-Admin\\\\Documents\\\\Jupyter\\\\Pluto',\n",
       " 'C:\\\\Users\\\\PC-Admin\\\\Anaconda\\\\python37.zip',\n",
       " 'C:\\\\Users\\\\PC-Admin\\\\Anaconda\\\\DLLs',\n",
       " 'C:\\\\Users\\\\PC-Admin\\\\Anaconda\\\\lib',\n",
       " 'C:\\\\Users\\\\PC-Admin\\\\Anaconda',\n",
       " '',\n",
       " 'C:\\\\Users\\\\PC-Admin\\\\AppData\\\\Roaming\\\\Python\\\\Python37\\\\site-packages',\n",
       " 'C:\\\\Users\\\\PC-Admin\\\\Anaconda\\\\lib\\\\site-packages',\n",
       " 'c:\\\\felipe\\\\python\\\\radar\\\\software\\\\pyradar',\n",
       " 'C:\\\\Users\\\\PC-Admin\\\\Anaconda\\\\lib\\\\site-packages\\\\keras_rl2-1.0.5-py3.7.egg',\n",
       " 'C:\\\\Users\\\\PC-Admin\\\\Anaconda\\\\lib\\\\site-packages\\\\win32',\n",
       " 'C:\\\\Users\\\\PC-Admin\\\\Anaconda\\\\lib\\\\site-packages\\\\win32\\\\lib',\n",
       " 'C:\\\\Users\\\\PC-Admin\\\\Anaconda\\\\lib\\\\site-packages\\\\Pythonwin',\n",
       " 'C:\\\\Users\\\\PC-Admin\\\\Anaconda\\\\lib\\\\site-packages\\\\IPython\\\\extensions',\n",
       " 'C:\\\\Users\\\\PC-Admin\\\\.ipython']"
      ]
     },
     "execution_count": 2,
     "metadata": {},
     "output_type": "execute_result"
    }
   ],
   "source": [
    "sys.path"
   ]
  },
  {
   "cell_type": "code",
   "execution_count": 5,
   "metadata": {},
   "outputs": [],
   "source": [
    "\n",
    "#!pip install pyadi-iio"
   ]
  },
  {
   "cell_type": "code",
   "execution_count": 8,
   "metadata": {},
   "outputs": [
    {
     "name": "stdout",
     "output_type": "stream",
     "text": [
      "Name: pyadi-iio\n",
      "Version: 0.0.5\n",
      "Summary: Interfaces to stream data from ADI hardware\n",
      "Home-page: https://github.com/analogdevicesinc/pyadi-iio\n",
      "Author: Travis Collins\n",
      "Author-email: travis.collins@analog.com\n",
      "License: UNKNOWN\n",
      "Location: c:\\users\\pc-admin\\anaconda\\lib\\site-packages\n",
      "Requires: numpy\n",
      "Required-by: \n"
     ]
    }
   ],
   "source": [
    "! pip show pyadi-iio"
   ]
  },
  {
   "cell_type": "code",
   "execution_count": 2,
   "metadata": {},
   "outputs": [
    {
     "data": {
      "text/plain": [
       "'3.7.1 (default, Dec 10 2018, 22:54:23) [MSC v.1915 64 bit (AMD64)]'"
      ]
     },
     "execution_count": 2,
     "metadata": {},
     "output_type": "execute_result"
    }
   ],
   "source": [
    "sys.version\n"
   ]
  },
  {
   "cell_type": "code",
   "execution_count": 10,
   "metadata": {},
   "outputs": [
    {
     "name": "stdout",
     "output_type": "stream",
     "text": [
      "Name: pylibiio\n",
      "Version: 0.21\n",
      "Summary: Library for interfacing with Linux IIO devices\n",
      "Home-page: https://github.com/analogdevicesinc/libiio\n",
      "Author: None\n",
      "Author-email: None\n",
      "License: UNKNOWN\n",
      "Location: c:\\users\\pc-admin\\anaconda\\lib\\site-packages\n",
      "Requires: \n",
      "Required-by: \n"
     ]
    }
   ],
   "source": [
    "! pip show pylibiio"
   ]
  },
  {
   "cell_type": "code",
   "execution_count": 3,
   "metadata": {},
   "outputs": [],
   "source": [
    "import adi\n",
    "import matplotlib.pyplot as plt\n",
    "import time"
   ]
  },
  {
   "cell_type": "code",
   "execution_count": 14,
   "metadata": {},
   "outputs": [
    {
     "data": {
      "text/plain": [
       "'C:\\\\Users\\\\PC-Admin\\\\Anaconda\\\\lib\\\\site-packages\\\\adi\\\\__init__.py'"
      ]
     },
     "execution_count": 14,
     "metadata": {},
     "output_type": "execute_result"
    }
   ],
   "source": [
    "adi.__file__"
   ]
  },
  {
   "cell_type": "code",
   "execution_count": 8,
   "metadata": {},
   "outputs": [
    {
     "data": {
      "text/plain": [
       "(None, 'C:\\\\Users\\\\PC-Admin\\\\Anaconda\\\\lib\\\\site-packages\\\\adi', ('', '', 5))"
      ]
     },
     "execution_count": 8,
     "metadata": {},
     "output_type": "execute_result"
    }
   ],
   "source": [
    "import imp\n",
    "imp.find_module('adi')"
   ]
  },
  {
   "cell_type": "code",
   "execution_count": 5,
   "metadata": {},
   "outputs": [
    {
     "name": "stdout",
     "output_type": "stream",
     "text": [
      "Buffer size: 1048576\n",
      "seconds elapsed: 23.930182933807373\n",
      "transfer rate [Mbytes/s] 0.41788230485578515\n"
     ]
    }
   ],
   "source": [
    "sample_rate = 32e6 # Hz\n",
    "center_freq = 1000e6 # Hz\n",
    "\n",
    "sdr = adi.Pluto(\"ip:192.168.1.16\")\n",
    "sdr.sample_rate = int(sample_rate)\n",
    "sdr.rx_rf_bandwidth = int(sample_rate) # filter cutoff, just set it to the same as sample rate\n",
    "sdr.rx_lo = int(center_freq)\n",
    "sdr.rx_buffer_size = 2**20 # this is the buffer the Pluto uses to buffer samples\n",
    "\n",
    "N=10\n",
    "start_time = time.time()\n",
    "for i in range(N):\n",
    "    samples = sdr.rx() # receive samples off Pluto\n",
    "\n",
    "end_time = time.time()\n",
    "print('Buffer size:',sdr.rx_buffer_size )\n",
    "print('seconds elapsed:', end_time - start_time)\n",
    "print('transfer rate [Mbytes/s]',sdr.rx_buffer_size* N /((end_time - start_time)*1024*1024))\n"
   ]
  },
  {
   "cell_type": "code",
   "execution_count": 2,
   "metadata": {},
   "outputs": [],
   "source": [
    "# sample_rate = 8e6 # Hz \n",
    "# Buffer size: 1048576\n",
    "# seconds elapsed: 63.71934485435486\n",
    "# transfer rate [Mbytes/s] 0.15693821119563123\n",
    "\n",
    "#sample_rate = 2e6 # Hz\n",
    "#Buffer size: 1048576\n",
    "#seconds elapsed: 17.844543933868408\n",
    "#transfer rate [Mbytes/s] 0.560395381191015"
   ]
  },
  {
   "cell_type": "code",
   "execution_count": 7,
   "metadata": {},
   "outputs": [
    {
     "name": "stdout",
     "output_type": "stream",
     "text": [
      "Library version: 0.15 (git tag: 6ecff5d)\n",
      "Compiled with backends: xml ip usb serial\n"
     ]
    },
    {
     "name": "stderr",
     "output_type": "stream",
     "text": [
      "Unable to create IIO context: Function not implemented\n"
     ]
    }
   ],
   "source": [
    "! iio_info"
   ]
  },
  {
   "cell_type": "code",
   "execution_count": null,
   "metadata": {},
   "outputs": [],
   "source": []
  }
 ],
 "metadata": {
  "kernelspec": {
   "display_name": "Python 3",
   "language": "python",
   "name": "python3"
  },
  "language_info": {
   "codemirror_mode": {
    "name": "ipython",
    "version": 3
   },
   "file_extension": ".py",
   "mimetype": "text/x-python",
   "name": "python",
   "nbconvert_exporter": "python",
   "pygments_lexer": "ipython3",
   "version": "3.7.1"
  }
 },
 "nbformat": 4,
 "nbformat_minor": 1
}

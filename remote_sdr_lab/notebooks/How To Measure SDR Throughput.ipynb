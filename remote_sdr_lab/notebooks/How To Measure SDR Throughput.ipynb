{
 "cells": [
  {
   "cell_type": "markdown",
   "id": "170f5db7",
   "metadata": {},
   "source": [
    "# Medición de la tasa de transferencia de datos entre el SDR y una computadora o host."
   ]
  },
  {
   "cell_type": "code",
   "execution_count": 1,
   "id": "f5e7903a",
   "metadata": {},
   "outputs": [],
   "source": [
    "#---------------------------------------------------------------------------------\n",
    "#Project     : Erasmus + NEON\n",
    "# Authors    : Martin Ayarde , Felipe Pasquevich\n",
    "# Affiliation: UNC , CONAE\n",
    "# E-mail     : martin.ayarde@unc.edu.ar , felipe.pasquevich@conae.gov.ar\n",
    "#---------------------------------------------------------------------------------"
   ]
  },
  {
   "cell_type": "markdown",
   "id": "80839236",
   "metadata": {},
   "source": [
    "El laboratorio de SDRs remoto está instalado físicamente en el Laboratorio de Comunicaciones Digitales (LCD) perteneciente a la facultad de Ciencias Exactas Físicas y Naturales de la UNC. Este laboratorio remoto cuenta con  una computadora o host local que ejecuta un servidor de Jupyter Notebooks y con diez SDRs del tipo Adalm Pluto fabricados por Analog Device. Todos estos dispositivos se encuentran conectados a un router Cisco a través de un Switch Tp-Link conformando una red LAN cableada. El router cuenta además con un servidor VPN SSL que permite configurar una red privada virtual (VPN) para tener un acceso remoto y seguro tanto a los dispositivos SDRs como a la computadora. En la Fig. 1 se detalla el diagrama topográfico de dicha red. \n",
    "\n",
    "| <img src=\"images/SdrNetwork.png\" alt=\"SdrNetwork\" width=\"500\"/> | \n",
    "|:--:| \n",
    "|Fig. 1: Diagrama topográfico laboratorio de SDR remoto.|\n",
    "\n",
    "Esta configuración de la red permite usar el laboratorio de SDR de la siguiente manera:\n",
    "- **Usuario externo a la red sin drivers de los dispositivos SDR**: Utilizando la VPN se puede acceder a la computadora del laboratorio para escribir y ejecutar programas escritos en Jupyter Notebooks que configuren e interaccionen con los SDRs.\n",
    "\n",
    "- **Usuario externo a la red con drivers de los dispositivos SDR y con programas específicos**: Utilizando la VPN un usuario externo puede ejecutar en su computadora o host remoto un programa específico, como por ejemplo Matlab, Python, GNU-Radio, iio Oscilloscope, etc,  para que configuren e interaccionen con los SDRs de forma remota. Para poder detectar a los SDR es necesario tener instalados los drivers de estos dispositivos.\n",
    "\n",
    "- **Usuario interno a la red sin drivers de los dispositivos SDR**: Al estar un usuario conectado a la red del laboratorio remoto puede acceder a la computadora para escribir y ejecutar programas escritos en Jupyter Notebooks que configuren e interaccionen con los SDRs.\n",
    "\n",
    "- **Usuario interno a la red con drivers de los dispositivos SDR y con programas específicos**: Al estar el usuario conectado a la red del laboratorio remoto y contando con los drivers necesarios puede ejecutar programas en su computadora que configuren e interaccionen con los SDRs.\n",
    "\n",
    "En la Fig.2 se muestra un diagrama esquemático que permite visualizar el tipo de acceso realizado para los dos primeros casos listados arriba.\n",
    "\n",
    "| <img src=\"images/SdrLabAccess.png\" alt=\"SdrNetwork\" width=\"400\"/> | \n",
    "|:--:| \n",
    "|Fig. 2: Diagrama esquemático del acceso al laboratorio de SDR remoto.|"
   ]
  },
  {
   "cell_type": "markdown",
   "id": "1860a20c",
   "metadata": {},
   "source": [
    "Una vez entendido las diferentes forma de acceso con las que cuenta el laboratorio de SDRs remoto, es importante saber la tasa de transferencia de datos disponible en la red. Esta importancia se debe a que la red debe asegurar una tasa de transferencia tal que todos los datos enviados al SDR o recibidos desde éste no generen un cuello de botella debido a una incompatibilidad entre dicha tasa de transferencia y la frecuencia de muestreo configurada en el SDR.\n",
    "Existen dos formas de funcionamiento de la cadena transmisora: \n",
    "\n",
    "- **Transmisión de una señal de forma cíclica o repetitiva**: En este caso la computadora envía por única vez los datos a ser transmitidos por el SDR, los cuales se guardan en una memoria interna del dispositivo para luego ser enviados a la antena de forma cíclica e ininterrumpida. El tamaño de la memoria utilizada en el dispositivo va a depender del tamaño de datos enviados por la computadora pudiendo llegar a un máximo de $2^{24}$ muestras. La tasa de transferencia de la red no es un parámetro crítico para esta forma de funcionamiento.\n",
    "- **Transmisión de una señal bajo demanda**: En este caso la computadora es la que decide cuando y que datos deben transmitirse por la antena del SDR. Cada nuevo conjunto de datos son guardados en la memoria interna del dispositivos para luego ser enviados a la antena transmisora. La tasa de transferencia de la red puede ser un parámetro crítico para esta forma de funcionamiento si se transmite de forma consecutiva más de un conjunto de datos. \n",
    "\n",
    "Para el caso de la cadena receptora existe una única forma de funcionamiento:\n",
    "\n",
    "- **Recepción de una señal bajo demanda**: Cada vez que la computadora pide una nueva recepción de la señal presente en la antena del SDR, el dispositivo guarda en un tamaño de memoria especificada por el usuario las muestras de la señal recibida para luego ser enviadas a dicha computadora. El tamaño de memoria asignada para la recepción de la señal puede tener un máximo de $2^{28}$ muestras. La tasa de transferencia de la red puede ser un parámetro crítico si la computadora pide de forma consecutiva más de una recepción de la señal.  "
   ]
  },
  {
   "cell_type": "markdown",
   "id": "160c6e99",
   "metadata": {},
   "source": [
    "El siguiente script permite obtener la tasa de transferencia de datos disponible en la red (\"Network throughput\") para poder compararla con la frecuencia de muestreo (\"Sampling Rate\") configurada en el SDR. Esta comparación puede ser utilizada para evaluar posibles congestionamientos en la transferencia de datos según sea el modo de funcionamiento elegido para la cadena transmisora y receptora del SDR."
   ]
  },
  {
   "cell_type": "code",
   "execution_count": 2,
   "id": "c9b2aef1",
   "metadata": {},
   "outputs": [],
   "source": [
    "import numpy as np\n",
    "import adi\n",
    "import matplotlib.pyplot as plt\n",
    "import time"
   ]
  },
  {
   "cell_type": "code",
   "execution_count": 3,
   "id": "9f0c9f73",
   "metadata": {},
   "outputs": [],
   "source": [
    "#------------------------------- SDR Parameter Configuration -------------------------------\n",
    "Uri              = \"ip:192.168.1.31\" \n",
    "SamplingRate     = 10e6   # Samples/sec\n",
    "Loopback         = 1      # 0=Disabled, 1=Digital, 2=RF\n",
    "RxBufferSize     = 2**20"
   ]
  },
  {
   "cell_type": "code",
   "execution_count": 4,
   "id": "4c9f6e48",
   "metadata": {},
   "outputs": [],
   "source": [
    "sdr = adi.Pluto(Uri)\n",
    "sdr.sample_rate = int(SamplingRate)\n",
    "sdr.rx_buffer_size = RxBufferSize    # this is the buffer the Pluto uses to buffer samples\n",
    "sdr.loopback = Loopback\n",
    "sdr.tx_cyclic_buffer = True\n",
    "#sdr._ctrl.context.set_timeout(0)    # <- disable timeout if you want to use large buffer size"
   ]
  },
  {
   "cell_type": "code",
   "execution_count": 5,
   "id": "c9f1ba9d",
   "metadata": {},
   "outputs": [],
   "source": [
    "#------------------------------- Transmitter ------------------------------- \n",
    "txSignal = np.arange(-2**19,2**19,1)+ 1j*np.arange(-2**19,2**19,1)\n",
    "txSignal = txSignal/np.real(txSignal[-1])\n",
    "\n",
    "sdr.tx(txSignal*2**15-1)"
   ]
  },
  {
   "cell_type": "code",
   "execution_count": 6,
   "id": "d2c10679",
   "metadata": {},
   "outputs": [],
   "source": [
    "def plotSignal(signal):\n",
    "#------------------------------- Transmitted I component ------------------------------- \n",
    "# Plot time domain\n",
    "    plt.figure(figsize=(20,8), dpi= 80, facecolor='w', edgecolor='k')\n",
    "    plt.subplot(2,1,1)\n",
    "    plt.plot(np.real(signal))\n",
    "    plt.xlabel('n')\n",
    "    plt.ylabel('Amplitud')\n",
    "    plt.title('Componente en fase de la señal')\n",
    "    plt.grid()\n",
    "#------------------------------- Transmitted Q component -------------------------------\n",
    "# Plot time domain\n",
    "    plt.subplot(2,1,2)\n",
    "    plt.plot(np.imag(signal))\n",
    "    plt.xlabel('n')\n",
    "    plt.ylabel('Amplitud')\n",
    "    plt.title('Componente en cuadratura de la señal')\n",
    "    plt.grid()\n",
    "    plt.show()"
   ]
  },
  {
   "cell_type": "code",
   "execution_count": null,
   "id": "33bc7684",
   "metadata": {},
   "outputs": [],
   "source": [
    "it         = 6\n",
    "start_time = time.time()\n",
    "for i in range(it):\n",
    "    samples = sdr.rx() \n",
    "    \n",
    "end_time = time.time()\n",
    "timeSlot = end_time - start_time\n",
    "print('seconds elapsed:', timeSlot, 'Sec')\n",
    "\n",
    "sampleRate = sdr.rx_buffer_size*(i+1)/timeSlot\n",
    "print('SDR nominal sampling rate:', SamplingRate*1e-6,'Msps')\n",
    "print('Network throughput:', sampleRate*1e-6,'Msps')\n"
   ]
  },
  {
   "cell_type": "code",
   "execution_count": null,
   "id": "68ec4891",
   "metadata": {},
   "outputs": [],
   "source": [
    "print('Señal transmitida por el SDR')\n",
    "plotSignal(txSignal)"
   ]
  },
  {
   "cell_type": "code",
   "execution_count": null,
   "id": "50e07b7d",
   "metadata": {},
   "outputs": [],
   "source": [
    "print('Señal recibida por el SDR')\n",
    "plotSignal(samples)"
   ]
  },
  {
   "cell_type": "code",
   "execution_count": null,
   "id": "3c762c38",
   "metadata": {},
   "outputs": [],
   "source": [
    "# Since it is not possible to turn off Tx, it is configured to transmit at low power and on a different frequency than Rx.\n",
    "sdr.tx_destroy_buffer()\n",
    "sdr.tx_hardwaregain_chan0 = -89 \n",
    "sdr.tx_lo                 = int(2400e6)\n",
    "sdr.rx_lo                 = int(950e6)\n",
    "sdr.tx(np.zeros(2048))"
   ]
  },
  {
   "cell_type": "code",
   "execution_count": null,
   "id": "364a0cb2",
   "metadata": {},
   "outputs": [],
   "source": [
    "# Destroy radio object\n",
    "del(sdr)"
   ]
  },
  {
   "cell_type": "markdown",
   "id": "19e87882",
   "metadata": {},
   "source": [
    "[![CC BY 4.0][cc-by-shield]][cc-by]\n",
    "\n",
    "This work is licensed under a\n",
    "[Creative Commons Attribution 4.0 International License][cc-by].\n",
    "\n",
    "[![CC BY 4.0][cc-by-image]][cc-by]\n",
    "\n",
    "[cc-by]: http://creativecommons.org/licenses/by/4.0/\n",
    "[cc-by-image]: https://i.creativecommons.org/l/by/4.0/88x31.png\n",
    "[cc-by-shield]: https://img.shields.io/badge/License-CC%20BY%204.0-lightgrey.svg\n",
    "\n",
    "![logo_neon_erasmus](https://raw.githubusercontent.com/neon-iot/communication_labs/main/detection_theory/notebooks/images/BannerSupportErasmus_.png)\n",
    "\n"
   ]
  }
 ],
 "metadata": {
  "kernelspec": {
   "display_name": "Python 3 (ipykernel)",
   "language": "python",
   "name": "python3"
  },
  "language_info": {
   "codemirror_mode": {
    "name": "ipython",
    "version": 3
   },
   "file_extension": ".py",
   "mimetype": "text/x-python",
   "name": "python",
   "nbconvert_exporter": "python",
   "pygments_lexer": "ipython3",
   "version": "3.9.13"
  }
 },
 "nbformat": 4,
 "nbformat_minor": 5
}

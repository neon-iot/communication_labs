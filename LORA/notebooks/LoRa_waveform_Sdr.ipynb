{
 "cells": [
  {
   "cell_type": "code",
   "execution_count": null,
   "metadata": {},
   "outputs": [],
   "source": [
    "#---------------------------------------------------------------------------------\n",
    "#Project     : Erasmus + NEON\n",
    "# Authors    : J. Martin Ayarde , Graciela Corral Briones\n",
    "# Affiliation: UNC , UNC\n",
    "# E-mail     : martin.ayarde@unc.edu.ar , graciela.corral@unc.edu.ar\n",
    "#---------------------------------------------------------------------------------"
   ]
  },
  {
   "cell_type": "code",
   "execution_count": null,
   "metadata": {},
   "outputs": [],
   "source": [
    "# Run these lines of code if this is your first time using this Jupyter Notebook\n",
    "\n",
    "#! pip install pyadi-iio\n",
    "#! pip install scikit-dsp-comm\n",
    "#! pip install scikit-commpy"
   ]
  },
  {
   "cell_type": "code",
   "execution_count": null,
   "metadata": {
    "id": "lfmXk1682NyL"
   },
   "outputs": [],
   "source": [
    "#LIBRERIAS UTILIZADAS\n",
    "import numpy as np\n",
    "import matplotlib.pyplot as plt\n",
    "#from scipy.signal import spectrogram\n",
    "import adi"
   ]
  },
  {
   "cell_type": "code",
   "execution_count": null,
   "metadata": {},
   "outputs": [],
   "source": [
    "#------------------------------- SDR Parameter Configuration -------------------------------\n",
    "\n",
    "Uri              = \"ip:192.168.1.17\" # RELLENAR CON LA IP DEL SDR ASIGNADO\n",
    "SamplingRate     = 2e6           # Sample rate RX and TX paths[Samples/Sec]\n",
    "Loopback         = 1            # 0=Disabled, 1=Digital, 2=RF\n",
    "\n",
    "TxLOFreq         = 910e6         # Carrier frequency of TX path [Hz] RELLENAR CON LA FREC. DE PORTADORA ASIGNADA\n",
    "TxAtten          = -10           # Attenuation applied to TX path, valid range is -90 to 0 dB [dB]\n",
    "TxRfBw           = 4e6           # Bandwidth of front-end analog filter of TX path [Hz]\n",
    "\n",
    "RxLOFreq         = TxLOFreq      # Carrier frequency of RX path [Hz]\n",
    "GainControlModes = \"slow_attack\" # Receive path AGC Options: slow_attack, fast_attack, manual\n",
    "RxHardwareGain   = 0             # Gain applied to RX path. Only applicable when gain_control_mode is set to 'manual'    \n",
    "RxRfBw           = TxRfBw        # Bandwidth of front-end analog filter of RX path [Hz] \n",
    "RxBufferSize     = 2**20-1"
   ]
  },
  {
   "cell_type": "code",
   "execution_count": null,
   "metadata": {},
   "outputs": [],
   "source": [
    "#------------------------------- SDR Setup ------------------------------- \n",
    "\n",
    "sdr             = adi.Pluto(Uri)\n",
    "sdr.sample_rate = SamplingRate\n",
    "sdr.loopback    = Loopback\n",
    "#Tx:\n",
    "sdr.tx_lo                 = int(TxLOFreq)\n",
    "sdr.tx_hardwaregain_chan0 = TxAtten \n",
    "sdr.tx_rf_bandwidth       = int(TxRfBw)\n",
    "sdr.tx_cyclic_buffer      = True\n",
    "# Rx:\n",
    "sdr.rx_lo                   = int(RxLOFreq)\n",
    "sdr.gain_control_mode_chan0 = GainControlModes\n",
    "sdr.rx_rf_bandwidth         = int(RxRfBw)\n",
    "sdr.rx_cyclic_buffer        = False\n",
    "sdr.rx_buffer_size          = RxBufferSize"
   ]
  },
  {
   "cell_type": "markdown",
   "metadata": {
    "id": "XwCBdQPO2z4y"
   },
   "source": [
    "#Referencias Principales\n",
    "\n",
    "*   Lorenzo Vangelista, Frequency Shift Chirp Modulation: The LoRa Modulation\n",
    "*   Video resumen del paper de Lorenzo: How LoRa Modulation really works\n",
    " *   https://www.youtube.com/watch?v=jHWepP1ZWTk&t=856s\n",
    "\n",
    "*   LoRa Modulation\n",
    " *   https://en.wikipedia.org/wiki/LoRa"
   ]
  },
  {
   "cell_type": "code",
   "execution_count": null,
   "metadata": {},
   "outputs": [],
   "source": [
    "caso = 0 #Casos de uso de la modulación Lora."
   ]
  },
  {
   "cell_type": "markdown",
   "metadata": {
    "id": "BTEPm43n3eJP"
   },
   "source": [
    "# Modulación LoRa\n",
    "\n",
    "LoRa es una modulación de espectro expandido que utiliza la técnica chirp que consiste en modular el mensaje por medio de una señal que varía la frecuencia de manera continua y lineal.\n",
    "\n",
    "\n",
    "\n",
    "\n",
    "## Parámetros de la modulación\n",
    "\n",
    "**SF (Spreading factor)**\n",
    "\n",
    "El spreading factor define dos valores fundamentales:\n",
    "\n",
    "- El número de chips contenidos por símbolo, dado por $2^{SF}$\n",
    "- El número de bits de cada simbolo, dado por SF.\n",
    "\n",
    "Para este tipo de modulacion su valor esta entre [7-12]\n",
    "\n",
    "Por ejemplo:\n",
    "\n",
    "-  Para un SF de 7, se tiene 128 chips por simbolo. Cada símbolo transmite 7 bits\n",
    "\n",
    "**B (BandWidth)**\n",
    "\n",
    "Ancho de banda definido para la transmisión\n",
    "\n",
    "**Ts (Symbol time)**\n",
    "\n",
    "Tiempo que tarda en enviarse un símbolo, dado por $\\frac{2^{SF}}{Bw}$\n",
    "\n",
    "\n",
    "**T (Tiempo de muestra)**\n",
    "\n",
    "Delta de tiempo en el cual se toma una muestra $T$ = $\\frac{1}{Bw}$\n",
    "\n",
    "**s (Symbol)**\n",
    "\n",
    "Símbolo a transmitir, toma valores entre $\\{0,...,2^{SF}-1\\}$\n",
    "\n",
    "La forma de onda transmitida de duración $T_s$ para cada $s(nT_s)$ es la siguiente:\n",
    "$$c(nT_s+kT) = \\frac{1}{\\sqrt{2^{SF}}} e^{j2\\pi \\left[ (s(nT_s)+k)_{mod}2^{SF}\\right]kT\\frac{B}{2^{SF}}}$$\n",
    "\n",
    "$\\text{para } k=0,1,...,2^{SF}-1$\n",
    "\n",
    "\n",
    "# Forma de onda en frecuencia\n",
    "\n",
    "A continuacion se muestra la forma de onda en el dominio de frecuencia de la señal modulada en chirp de un símbolo."
   ]
  },
  {
   "cell_type": "code",
   "execution_count": null,
   "metadata": {
    "id": "ew3rM2N94T-J"
   },
   "outputs": [],
   "source": [
    "#----------------------------- FUNCIONES ------------------------------------------------------------\n",
    "def generate_chirp(simbolo, sf, Bw, time_interval, samples):\n",
    "\n",
    "  M = 2**sf\n",
    "  Ts = M/np.abs(Bw)      \n",
    "  wf_f = []\n",
    "\n",
    "  for i in range(samples):\n",
    "    wf_f.append((simbolo*np.abs(Bw)/M + Bw/Ts*time_interval[i]) % np.abs(Bw)) \n",
    "\n",
    "  return wf_f  \n",
    "\n",
    "def generate_symbols(sf, n_data, Bw, samples, ):\n",
    "        \n",
    "  data = []\n",
    "  chirps = np.array([])\n",
    "  Ts =  2**sf/Bw #Tiempo de simbolo   \n",
    "  t_c = np.linspace(0, Ts, samples)\n",
    "\n",
    "  for i in range(n_data):\n",
    "    data.append(np.random.randint(0, 2**sf))\n",
    "    chirps = np.append(chirps, generate_chirp(data[i], sf, Bw, t_c, samples))\n",
    "\n",
    "  return np.array(data), chirps\n",
    "\n",
    "def plot_waveform(ax, t, wf, axis_x_label, axis_y_label, title, Ts, len_packet_tx):\n",
    "            \n",
    "  ax.set_facecolor('black')\n",
    "  ax.set_title(title, fontdict={'color':'white','weight':'bold','size' : 20}, pad = 20)\n",
    "  ax.set_xlabel(axis_x_label, fontdict={'color':'white','weight':'bold','size' : 20}, labelpad = 10)\n",
    "  ax.set_ylabel(axis_y_label, fontdict={'color':'white','weight':'bold','size' : 20}, labelpad = 5)\n",
    "  ax.tick_params(axis='both', which='major', labelsize=10, colors='white')\n",
    "  ax.set_xticks(np.arange(0, len_packet_tx, Ts))\n",
    "  ax.xaxis.set_major_formatter(plt.FormatStrFormatter('%.3f'))\n",
    "  ax.plot(t, wf, lw=2)   \n",
    "  ax.grid()    \n"
   ]
  },
  {
   "cell_type": "code",
   "execution_count": null,
   "metadata": {
    "colab": {
     "base_uri": "https://localhost:8080/",
     "height": 402
    },
    "id": "JMoWuF-623cR",
    "outputId": "32fab784-f0d7-4cec-f334-e863da519341"
   },
   "outputs": [],
   "source": [
    "#------------------------------ MAIN --------------------------------------------------------------------------\n",
    "sf = 7 #Spreading factor\n",
    "Bw = 125 #Khz\n",
    "Ts = 2**sf/Bw #Tiempo de simbolo\n",
    "n_data = 1 # numero de datos a transmitir\n",
    "spc = 1  # samples per 1/B \n",
    "sps = int(2**sf * spc) #samples = int(2**sf*1/delta) # samples per symbol \n",
    "variance= 0.13\n",
    "\n",
    "#symbs, data_tx_f  = generate_symbols(sf, n_data, Bw, sps) # symbs son los datos generados aleatoriamente, data_tx son los crirp en frecuencia\n",
    "t_c = np.linspace(0, Ts, sps)\n",
    "symb = 50\n",
    "data_tx_f = generate_chirp(symb, sf, Bw, t_c, sps)\n",
    "\n",
    "print(\"Simbolo transmitido\", symb)\n",
    "# Grafico Frecuencia vs tiempo\n",
    "fig1, ax1 = plt.subplots(1, figsize = (20, 5))    \n",
    "fig1.patch.set_facecolor('black')\n",
    "\n",
    "t = np.linspace(0, Ts, sps)\n",
    "\n",
    "# Grafico Frecuencia vs tiempo\n",
    "plot_waveform(ax1, t, data_tx_f, \"Time [ms]\", \"Frequency [Khz]\", \"LoRa Modulation\", Ts, sps)"
   ]
  },
  {
   "cell_type": "markdown",
   "metadata": {
    "id": "hxpzFeYQGNsj"
   },
   "source": [
    "Como se puede observar en las imagenes anteriores, el chirp se incrementa linealmente desde una frecuencia inicial (simbolo a transmitir) a una frecuencia maxima ${BW}$-$\\frac{BW}{2^{SF}}$ . Una vez que llegue a la frecuencia maxima decae a la frecuencia 0 y se vuelve incrementar linealmente hasta el simbolo inicial."
   ]
  },
  {
   "cell_type": "code",
   "execution_count": null,
   "metadata": {},
   "outputs": [],
   "source": [
    "#------------------------------- Transmitter ------------------------------- \n",
    "if caso == 0:\n",
    "    sdr.tx(data_tx_f*2**14)"
   ]
  },
  {
   "cell_type": "code",
   "execution_count": null,
   "metadata": {},
   "outputs": [],
   "source": [
    "#------------------------------- Receiver ------------------------------- \n",
    "if caso == 0:\n",
    "    rxSignal = sdr.rx()/2**14"
   ]
  },
  {
   "cell_type": "code",
   "execution_count": null,
   "metadata": {},
   "outputs": [],
   "source": [
    "# Grafico Amplitud vs tiempo sin ruido gaussiano\n",
    "if caso == 0:\n",
    "    fig10, ax2 = plt.subplots(1, figsize = (20, 10))    \n",
    "    fig10.patch.set_facecolor('black')\n",
    "\n",
    "    t = np.linspace(0, Ts, len(rxSignal[0:2000]))\n",
    "\n",
    "    plot_waveform(ax2, t, np.real(rxSignal[0:2000]), \"Time [ms]\", \"Frequency [Khz]\", \"LoRa Modulation\", Ts, sps)\n"
   ]
  },
  {
   "cell_type": "markdown",
   "metadata": {
    "id": "R4JkY44jGZaS"
   },
   "source": [
    "# Forma de onda en tiempo\n",
    "\n",
    "A continuacion se muestra la forma de onda de la señal modulada en tiempo para transmitir solo un simbolo.\n",
    "\n",
    "$$c(nT_s+\\frac{kT}{spc}) = \\frac{1}{\\sqrt{2^{SF}}} e^{j2\\pi \\left[ (s(nT_s)+k)_{mod}2^{SF}\\right]\\frac{k}{spc*2^{SF}}}$$\n",
    "\n",
    "El siguiente codigo permite generar la waveform en tiempo con ruido gaussiano y sin ruido para ver las diferencias.\n",
    "\n",
    "Parametros:\n",
    "  - symb: Simbolo a transmitir (representa la frecuencia inicial de la waveform)\n",
    "  - sf: spreading factor\n",
    "  - B: ancho de banda del canal.\n",
    "  - spc: cantidad de muestras en el tiempo 1/B\n",
    "  - sps: cantidad de muestras por símbolo"
   ]
  },
  {
   "cell_type": "code",
   "execution_count": null,
   "metadata": {
    "colab": {
     "base_uri": "https://localhost:8080/",
     "height": 620
    },
    "id": "s-D0faJhGQln",
    "outputId": "fc58df61-bfe6-424a-c4da-553a1e980442"
   },
   "outputs": [],
   "source": [
    "#---------------------------------------------FUNCIONES-----------------------------------------------------\n",
    "def waveform_chirp_time(symb, sf, Bw, spc, samples):\n",
    "       \n",
    "  Ts =2**sf\n",
    "  T = 1/Bw\n",
    "  delta = 1/spc    \n",
    "  wf = np.array([])       \n",
    "        \n",
    "  fMax = (2**sf-1)*Bw/(2**sf)\n",
    "  k = symb\n",
    "  \n",
    "  for n in range(samples):\n",
    "    f = k*Bw/(2**sf)\n",
    "    t = k*T\n",
    "    if (f > fMax):\n",
    "      k = k-Ts\n",
    "      f = k*Bw/(2**sf)\n",
    "\n",
    "    sample = (1/(np.sqrt(2**sf)))*np.exp(1j*2*np.pi*f*t*1/2)\n",
    "    wf = np.append(wf, sample)\n",
    "\n",
    "    k += delta\n",
    "\n",
    "  return  wf\n",
    "\n",
    "def add_noise_gaussiano(tx_signal, mean, variance):\n",
    "         \n",
    "  wn = generate_awgn(mean, variance, len(tx_signal))        \n",
    "  rx_signal = (tx_signal + wn)\n",
    "\n",
    "  return rx_signal\n",
    "\n",
    "def generate_awgn(mean, variance, samples):     \n",
    "  return np.random.normal(mean, variance, samples) #creando muestra de ruido\n",
    "\n",
    "def plot_waveform(ax, t, wf, axis_x_label, axis_y_label, title, Ts, len_packet_tx):\n",
    "            \n",
    "  ax.set_facecolor('black')\n",
    "  ax.set_title(title, fontdict={'color':'white','weight':'bold','size' : 20}, pad = 20)\n",
    "  ax.set_xlabel(axis_x_label, fontdict={'color':'white','weight':'bold','size' : 20}, labelpad = 10)\n",
    "  ax.set_ylabel(axis_y_label, fontdict={'color':'white','weight':'bold','size' : 20}, labelpad = 5)\n",
    "  ax.tick_params(axis='both', which='major', labelsize=10, colors='white')\n",
    "  ax.set_xticks(np.arange(0, len_packet_tx, Ts))\n",
    "  ax.xaxis.set_major_formatter(plt.FormatStrFormatter('%.3f'))\n",
    "  ax.plot(t, wf, lw=2)   \n",
    "  ax.grid()\n",
    "\n",
    "#---------------------------------------------MAIN----------------------------------------------------------\n",
    "sf = 7 #Spreading factor\n",
    "Bw = 125 #Khz\n",
    "Ts = 2**sf/Bw #Tiempo de simbolo\n",
    "spc = 10\n",
    "sps = int(2**sf * spc)\n",
    "variance = 0.13\n",
    "\n",
    "packet_tx_t = np.array([]) #waveform en tiempo\n",
    "\n",
    "symb = 30 # simbolo a transmitir\n",
    "\n",
    "packet_tx_t = np.append(packet_tx_t, waveform_chirp_time(symb, sf, Bw, spc, sps)) # chirp en tiempo\n",
    "\n",
    "# Grafico Amplitud vs tiempo sin ruido gaussiano\n",
    "\n",
    "fig1, [ax1, ax2] = plt.subplots(2, figsize = (20, 10))    \n",
    "fig1.patch.set_facecolor('black')\n",
    "\n",
    "t = np.linspace(0, Ts, sps)\n",
    "\n",
    "plot_waveform(ax1, t, np.real(packet_tx_t), \"\", \"Amplitude\", \"\", Ts, sps)\n",
    "\n",
    "# Grafico Amplitud vs tiempo sin ruido gaussiano\n",
    "\n",
    "rx_signal = add_noise_gaussiano(packet_tx_t, 0, variance) # waveform en tiempo con ruido gaussiano\n",
    "plot_waveform(ax2, t, np.real(rx_signal), \"Time [ms]\", \"Amplitude\", \"\", Ts, sps)"
   ]
  },
  {
   "cell_type": "code",
   "execution_count": null,
   "metadata": {
    "id": "ewFKBU4AkWhn"
   },
   "outputs": [],
   "source": [
    "#------------------------------- Transmitter ------------------------------- \n",
    "if caso == 1 or caso == 2:\n",
    "    sdr.tx(packet_tx_t*2**14)"
   ]
  },
  {
   "cell_type": "code",
   "execution_count": null,
   "metadata": {},
   "outputs": [],
   "source": [
    "#------------------------------- Receiver ------------------------------- \n",
    "if caso == 1 or caso == 2:\n",
    "    rxSignal = sdr.rx()/2**14"
   ]
  },
  {
   "cell_type": "code",
   "execution_count": null,
   "metadata": {},
   "outputs": [],
   "source": [
    "# Grafico Amplitud vs tiempo sin ruido gaussiano\n",
    "if caso == 1 or caso == 2:\n",
    "    fig10, ax1 = plt.subplots(1, figsize = (20, 10))    \n",
    "    fig10.patch.set_facecolor('black')\n",
    "\n",
    "    t = np.linspace(0, Ts, len(rxSignal[0:3000]))\n",
    "\n",
    "    plot_waveform(ax1, t, np.real(rxSignal[0:3000]), \"\", \"Amplitude\", \"\", Ts, sps)\n"
   ]
  },
  {
   "cell_type": "code",
   "execution_count": null,
   "metadata": {},
   "outputs": [],
   "source": [
    "# Destroy radio object\n",
    "if caso == 2:\n",
    "    del(sdr)"
   ]
  },
  {
   "cell_type": "markdown",
   "metadata": {},
   "source": [
    "[![CC BY 4.0][cc-by-shield]][cc-by]\n",
    "\n",
    "This work is licensed under a\n",
    "[Creative Commons Attribution 4.0 International License][cc-by].\n",
    "\n",
    "[![CC BY 4.0][cc-by-image]][cc-by]\n",
    "\n",
    "[cc-by]: http://creativecommons.org/licenses/by/4.0/\n",
    "[cc-by-image]: https://i.creativecommons.org/l/by/4.0/88x31.png\n",
    "[cc-by-shield]: https://img.shields.io/badge/License-CC%20BY%204.0-lightgrey.svg\n",
    "\n",
    "![logo_neon_erasmus](https://raw.githubusercontent.com/neon-iot/communication_labs/main/detection_theory/notebooks/images/BannerSupportErasmus_.png)\n"
   ]
  },
  {
   "cell_type": "code",
   "execution_count": null,
   "metadata": {},
   "outputs": [],
   "source": []
  }
 ],
 "metadata": {
  "colab": {
   "provenance": []
  },
  "kernelspec": {
   "display_name": "Python 3 (ipykernel)",
   "language": "python",
   "name": "python3"
  },
  "language_info": {
   "codemirror_mode": {
    "name": "ipython",
    "version": 3
   },
   "file_extension": ".py",
   "mimetype": "text/x-python",
   "name": "python",
   "nbconvert_exporter": "python",
   "pygments_lexer": "ipython3",
   "version": "3.11.5"
  }
 },
 "nbformat": 4,
 "nbformat_minor": 1
}

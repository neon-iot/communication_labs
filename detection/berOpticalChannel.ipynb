{
  "nbformat": 4,
  "nbformat_minor": 0,
  "metadata": {
    "colab": {
      "name": "berOpticalChannel.ipynb",
      "provenance": []
    },
    "kernelspec": {
      "name": "python3",
      "display_name": "Python 3"
    }
  },
  "cells": [
    {
      "cell_type": "markdown",
      "metadata": {
        "id": "vSkFyy6yOflQ"
      },
      "source": [
        "# Detección MAP y ML para función de distribución de Poisson (canal de fibra óptica)\n",
        "1) Grafique en una misma figura las probabilidades condicionales P(Y|H) para H=0 y H=1 del Ejemplo 2.4 del libro. Elija parámetros para la función de densidad de Poisson y saque conclusiones\n",
        "\n",
        "2) Genere una distribución de Poisson y realice su histograma\n",
        "\n",
        "3) Determine las regiones de decisión MAP y ML. Para el caso MAP, proponga una distribución de probabilidad de las hipótesis\n",
        "\n",
        "4) Estime estadísticamente la probabilidad error y realice una gráfica de probabilidad de error vs SNR[DB]"
      ]
    },
    {
      "cell_type": "code",
      "metadata": {
        "id": "vzhXV1lwOlpE",
        "colab": {
          "base_uri": "https://localhost:8080/",
          "height": 558
        },
        "outputId": "cd443b56-9d3a-4149-d627-f2aa4300ca8b"
      },
      "source": [
        "import numpy as np\n",
        "import matplotlib as plt\n",
        "\n",
        "lambda0 = 1 \n",
        "lambda1 = 3\n",
        "nb_samples = 50000\n",
        "\n",
        "# Analizando la estadística\n",
        "signal_received_h0 =  np.random.poisson(lambda0, nb_samples)\n",
        "signal_received_h1 = np.random.poisson(lambda1, nb_samples)\n",
        "\n",
        "plt.pyplot.hist(signal_received_h0,50,align='left')\n",
        "plt.pyplot.hist(signal_received_h1,50,align='right')\n"
      ],
      "execution_count": null,
      "outputs": [
        {
          "output_type": "execute_result",
          "data": {
            "text/plain": [
              "(array([2.5530e+03, 0.0000e+00, 0.0000e+00, 7.4820e+03, 0.0000e+00,\n",
              "        0.0000e+00, 0.0000e+00, 1.1136e+04, 0.0000e+00, 0.0000e+00,\n",
              "        0.0000e+00, 1.1248e+04, 0.0000e+00, 0.0000e+00, 0.0000e+00,\n",
              "        8.4170e+03, 0.0000e+00, 0.0000e+00, 0.0000e+00, 4.9800e+03,\n",
              "        0.0000e+00, 0.0000e+00, 0.0000e+00, 2.5470e+03, 0.0000e+00,\n",
              "        0.0000e+00, 1.0710e+03, 0.0000e+00, 0.0000e+00, 0.0000e+00,\n",
              "        3.7000e+02, 0.0000e+00, 0.0000e+00, 0.0000e+00, 1.4100e+02,\n",
              "        0.0000e+00, 0.0000e+00, 0.0000e+00, 3.9000e+01, 0.0000e+00,\n",
              "        0.0000e+00, 0.0000e+00, 1.1000e+01, 0.0000e+00, 0.0000e+00,\n",
              "        0.0000e+00, 4.0000e+00, 0.0000e+00, 0.0000e+00, 1.0000e+00]),\n",
              " array([ 0.  ,  0.26,  0.52,  0.78,  1.04,  1.3 ,  1.56,  1.82,  2.08,\n",
              "         2.34,  2.6 ,  2.86,  3.12,  3.38,  3.64,  3.9 ,  4.16,  4.42,\n",
              "         4.68,  4.94,  5.2 ,  5.46,  5.72,  5.98,  6.24,  6.5 ,  6.76,\n",
              "         7.02,  7.28,  7.54,  7.8 ,  8.06,  8.32,  8.58,  8.84,  9.1 ,\n",
              "         9.36,  9.62,  9.88, 10.14, 10.4 , 10.66, 10.92, 11.18, 11.44,\n",
              "        11.7 , 11.96, 12.22, 12.48, 12.74, 13.  ]),\n",
              " <a list of 50 Patch objects>)"
            ]
          },
          "metadata": {
            "tags": []
          },
          "execution_count": 1
        },
        {
          "output_type": "display_data",
          "data": {
            "image/png": "[encoded data removed]",
            "text/plain": [
              "<Figure size 432x288 with 1 Axes>"
            ]
          },
          "metadata": {
            "tags": [],
            "needs_background": "light"
          }
        }
      ]
    },
    {
      "cell_type": "markdown",
      "metadata": {
        "id": "XsKwPG0_Syf6"
      },
      "source": [
        "El criterio de decisión para el caso ML es para lambda0=1 y lambda1=3 $$y\\gt 1 \\Rightarrow \\hat{H}=1 \\\\ y\\le 1 \\Rightarrow \\hat{H}=0$$"
      ]
    },
    {
      "cell_type": "code",
      "metadata": {
        "id": "XMFrJ-UbSvvh",
        "colab": {
          "base_uri": "https://localhost:8080/",
          "height": 35
        },
        "outputId": "e7ddf62c-2feb-4ee5-c662-31ef640e7750"
      },
      "source": [
        "# Simulador de hipotesis + canal + receptor\n",
        "# GENERADOR DE HIPOTESIS\n",
        "hypothesis = np.random.randint(0,2,nb_samples)\n",
        "# SALIDA DEL CANAL \n",
        "y = [np.random.poisson(lambda1) if hypothesis[i]>0 else np.random.poisson(lambda0) for i in range(nb_samples)]\n",
        "# RECEPTOR \n",
        "nivel = 1\n",
        "hypothesis_detected = [1 if y[i]>nivel else 0 for i in range(nb_samples)]\n",
        "\n",
        "pe = sum(abs(hypothesis - np.array(hypothesis_detected)))/nb_samples\n",
        "print(pe)"
      ],
      "execution_count": null,
      "outputs": [
        {
          "output_type": "stream",
          "text": [
            "0.23102\n"
          ],
          "name": "stdout"
        }
      ]
    },
    {
      "cell_type": "markdown",
      "metadata": {
        "id": "zKzAoul2aBC9"
      },
      "source": [
        "## Pe vs SNR\n",
        "Sea y la cantidad de fotones a la salida del foto detector. La media y varianza está dada por $$\\mu = E\\{y\\}=\\sum_{y=0}yp(y)=\\sum_{y=0}yp(y/ho)p(ho)+\\sum_{y=0}yp(y/h1)p(h1)=\\lambda_o p(ho)+\\lambda_1p(h1)$$\n",
        "$$\\sigma^2=E\\{(y-\\mu)^2\\}=\\lambda_o p(ho)+\\lambda_1p(h1)$$\n",
        "De este modo, la relación entre la potencia de la señal $\\mu^2$ y su varianza (ruido) está dada por\n",
        "$$SNR = \\frac{\\mu^2}{\\sigma^2}=\\lambda_o p(ho)+\\lambda_1p(h1)$$"
      ]
    },
    {
      "cell_type": "code",
      "metadata": {
        "id": "fUgdfmcBqric",
        "colab": {
          "base_uri": "https://localhost:8080/",
          "height": 299
        },
        "outputId": "a2792342-bcf4-4ab6-af8a-c9c5d0529aa1"
      },
      "source": [
        "# Las diferentes SNR se generan variando lambda1\n",
        "import numpy as np\n",
        "import matplotlib as plt\n",
        "\n",
        "lambda1 = np.array([2, 3, 5, 8, 12, 20])\n",
        "snrdB = 10*np.log10(lambda0 + lambda1)\n",
        "ber = np.array([])\n",
        "lambda0 = 1\n",
        "for lambdaX in lambda1:\n",
        "  # SALIDA DEL CANAL \n",
        "  y = [np.random.poisson(lambdaX) if hypothesis[i]>0 else np.random.poisson(lambda0) for i in range(nb_samples)]\n",
        "  # RECEPTOR \n",
        "  nivel =  (lambdaX-lambda0)/np.log(lambdaX/lambda0)\n",
        "  hypothesis_detected = [1 if y[i]>nivel else 0 for i in range(nb_samples)]\n",
        "  ber = np.append(ber, sum(abs(np.array(hypothesis_detected) - hypothesis))/nb_samples)\n",
        "print(ber)\n",
        "\n",
        "plt.pyplot.semilogy(snrdB,ber)"
      ],
      "execution_count": null,
      "outputs": [
        {
          "output_type": "stream",
          "text": [
            "[3.352e-01 2.326e-01 1.024e-01 2.996e-02 4.980e-03 2.400e-04]\n"
          ],
          "name": "stdout"
        },
        {
          "output_type": "execute_result",
          "data": {
            "text/plain": [
              "[<matplotlib.lines.Line2D at 0x7ffb30f29f60>]"
            ]
          },
          "metadata": {
            "tags": []
          },
          "execution_count": 3
        },
        {
          "output_type": "display_data",
          "data": {
            "image/png": "[encoded data removed]",
            "text/plain": [
              "<Figure size 432x288 with 1 Axes>"
            ]
          },
          "metadata": {
            "tags": [],
            "needs_background": "light"
          }
        }
      ]
    }
  ]
}
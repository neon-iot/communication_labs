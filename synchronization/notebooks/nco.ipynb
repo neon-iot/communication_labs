{
  "nbformat": 4,
  "nbformat_minor": 0,
  "metadata": {
    "colab": {
      "provenance": [],
      "collapsed_sections": []
    },
    "kernelspec": {
      "name": "python3",
      "display_name": "Python 3"
    },
    "language_info": {
      "name": "python"
    }
  },
  "cells": [
    {
      "cell_type": "code",
      "execution_count": null,
      "metadata": {
        "id": "133IRn3TzD9T"
      },
      "outputs": [],
      "source": [
        "def nco(W, iter, mk, mu, NCO): # Gardner numerically controlled oscilator. The basepoint index mk is identified as n.  \n",
        "  W = -(W + 0.5) # Reference: SDR Travis CH6, adding at the input signal the constant 1/n = 0.5\n",
        "  NCO = np.round(np.mod(NCO - W, 1), 6)\n",
        "  #print('NCO: {}, W: {}'.format(NCO, W))\n",
        "  if (NCO - W) < 0:\n",
        "    mk = iter + 1\n",
        "    if W != 0:\n",
        "      mu = NCO/W\n",
        "  return [mk, mu, NCO, W] # The function returns the fractional interval mu."
      ]
    }
  ]
}
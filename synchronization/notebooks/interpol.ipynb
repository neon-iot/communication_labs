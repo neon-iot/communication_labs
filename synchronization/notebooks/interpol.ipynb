{
 "cells": [
  {
   "cell_type": "markdown",
   "metadata": {
    "colab_type": "text",
    "id": "view-in-github"
   },
   "source": [
    "<a href=\"https://colab.research.google.com/github/neon-iot/communication_labs/blob/main/synchronization/notebooks/interpol.ipynb\" target=\"_parent\"><img src=\"https://colab.research.google.com/assets/colab-badge.svg\" alt=\"Open In Colab\"/></a>"
   ]
  },
  {
   "cell_type": "markdown",
   "metadata": {
    "id": "74E6lwqZuPxd"
   },
   "source": [
    "With this function an input vector can be interpolated, considering frequency detection error as interpolation parameter. Two associated parameters, mk (basepoint index) and mu (fractional interval) are used in it. A start point can be assigned to determine the interpolation instant. The formula used is the fourth order cubic Lagrange interpolation."
   ]
  },
  {
   "cell_type": "code",
   "execution_count": 11,
   "metadata": {
    "colab": {
     "base_uri": "https://localhost:8080/"
    },
    "id": "zovSFlB2zHTv",
    "outputId": "10296ec6-3ce7-45a3-be87-21c9917dd38e"
   },
   "outputs": [
    {
     "name": "stdout",
     "output_type": "stream",
     "text": [
      "Drive already mounted at /content/drive; to attempt to forcibly remount, call drive.mount(\"/content/drive\", force_remount=True).\n"
     ]
    }
   ],
   "source": [
    "import warnings; warnings.filterwarnings(\"ignore\")\n",
    "import numpy as np\n",
    "import matplotlib.pyplot as plt\n",
    "\n",
    "from google.colab import drive\n",
    "drive.mount('/content/drive')\n",
    "import sys\n",
    "sys.path.append('/content/drive/MyDrive')\n",
    "import funciones as fn"
   ]
  },
  {
   "cell_type": "markdown",
   "metadata": {
    "id": "Ry3vXgIVvFTr"
   },
   "source": [
    "Testing cases"
   ]
  },
  {
   "cell_type": "code",
   "execution_count": 12,
   "metadata": {
    "colab": {
     "base_uri": "https://localhost:8080/",
     "height": 352
    },
    "id": "99l1huWcvNac",
    "outputId": "b4e7257c-8cd1-417b-87af-d155e2be6333"
   },
   "outputs": [
    {
     "name": "stdout",
     "output_type": "stream",
     "text": [
      "vct_input:  [ 0  1  2  3  4  5  6  7  8  9 10 11]\n",
      "vct_input_xaxis:  [ 0  1  2  3  4  5  6  7  8  9 10 11]\n",
      "vct_X_kTi:  [ 0.+0.j  1.+0.j  2.+0.j  3.+0.j  4.+0.j  5.+0.j  6.+0.j  7.+0.j  8.+0.j\n",
      "  9.+0.j 10.+0.j]\n",
      "vct_X_kTi_xaxis:  [ 0.  1.  2.  3.  4.  5.  6.  7.  8.  9. 10.]\n"
     ]
    },
    {
     "data": {
      "image/png": "[encoded data removed]",
      "text/plain": [
       "<Figure size 432x288 with 1 Axes>"
      ]
     },
     "metadata": {
      "needs_background": "light"
     },
     "output_type": "display_data"
    }
   ],
   "source": [
    "fn.FREQ_SHIFT_FACTOR = 0\n",
    "\n",
    "vct_input = np.arange(0, 12)\n",
    "vct_input_xaxis = np.arange(0, len(vct_input))\n",
    "print(\"vct_input: \", vct_input)\n",
    "print(\"vct_input_xaxis: \", vct_input_xaxis)\n",
    "\n",
    "vct_X_kTi = np.array([]); vct_X_kTi_xaxis = np.array([])\n",
    "for mk in np.arange(0, len(vct_input)-1):\n",
    "  [X_kTi, X_kTi_xaxis] = fn.interpol(vct_input, mk)\n",
    "  vct_X_kTi = np.append(vct_X_kTi, X_kTi); vct_X_kTi_xaxis = np.append(vct_X_kTi_xaxis, X_kTi_xaxis)\n",
    "print(\"vct_X_kTi: \", vct_X_kTi)\n",
    "print(\"vct_X_kTi_xaxis: \", vct_X_kTi_xaxis)\n",
    "\n",
    "plt.stem(vct_input_xaxis[:-1], vct_input[:-1], use_line_collection = True); plt.grid(True)\n",
    "plt.stem(vct_X_kTi_xaxis, vct_X_kTi, linefmt='--r', markerfmt='xr', use_line_collection = True); plt.grid(True)"
   ]
  },
  {
   "cell_type": "code",
   "execution_count": 13,
   "metadata": {
    "colab": {
     "base_uri": "https://localhost:8080/",
     "height": 352
    },
    "id": "CkfLeb4T2zJt",
    "outputId": "73bb6ccd-39fb-4576-b0e5-29b2b7ba4bad"
   },
   "outputs": [
    {
     "name": "stdout",
     "output_type": "stream",
     "text": [
      "vct_input:  [ 0  1  2  3  4  5  6  7  8  9 10 11]\n",
      "vct_input_xaxis:  [ 0  1  2  3  4  5  6  7  8  9 10 11]\n",
      "vct_X_kTi:  [ 0.+0.j  1.+0.j  2.+0.j  3.+0.j  4.+0.j  5.+0.j  6.+0.j  7.+0.j  8.+0.j\n",
      "  9.+0.j 10.+0.j]\n",
      "vct_X_kTi_xaxis:  [0.  0.9 1.8 2.7 3.6 4.5 5.4 6.3 7.2 8.1 9. ]\n"
     ]
    },
    {
     "data": {
      "image/png": "[encoded data removed]",
      "text/plain": [
       "<Figure size 432x288 with 1 Axes>"
      ]
     },
     "metadata": {
      "needs_background": "light"
     },
     "output_type": "display_data"
    }
   ],
   "source": [
    "fn.FREQ_SHIFT_FACTOR = 0.1\n",
    "\n",
    "vct_input = np.arange(0, 12)\n",
    "vct_input_xaxis = np.arange(0, len(vct_input))\n",
    "print(\"vct_input: \", vct_input)\n",
    "print(\"vct_input_xaxis: \", vct_input_xaxis)\n",
    "\n",
    "vct_X_kTi = np.array([]); vct_X_kTi_xaxis = np.array([])\n",
    "for mk in np.arange(0, len(vct_input)-1):\n",
    "  [X_kTi, X_kTi_xaxis] = fn.interpol(vct_input, mk)\n",
    "  vct_X_kTi = np.append(vct_X_kTi, X_kTi); vct_X_kTi_xaxis = np.append(vct_X_kTi_xaxis, X_kTi_xaxis)\n",
    "print(\"vct_X_kTi: \", vct_X_kTi)\n",
    "print(\"vct_X_kTi_xaxis: \", vct_X_kTi_xaxis)\n",
    "\n",
    "plt.stem(vct_input_xaxis[:-1], vct_input[:-1], use_line_collection = True); plt.grid(True)\n",
    "plt.stem(vct_X_kTi_xaxis, vct_X_kTi, linefmt='--r', markerfmt='xr', use_line_collection = True); plt.grid(True)"
   ]
  },
  {
   "cell_type": "code",
   "execution_count": 14,
   "metadata": {
    "colab": {
     "base_uri": "https://localhost:8080/",
     "height": 352
    },
    "id": "zr5bNL3qCzyU",
    "outputId": "e5ee147f-47ee-4a6a-f80b-21415a8b296b"
   },
   "outputs": [
    {
     "name": "stdout",
     "output_type": "stream",
     "text": [
      "vct_input:  [ 0  1  2  3  4  5  6  7  8  9 10 11]\n",
      "vct_input_xaxis:  [ 0  1  2  3  4  5  6  7  8  9 10 11]\n",
      "vct_X_kTi:  [ 0.+0.j  1.+0.j  2.+0.j  3.+0.j  4.+0.j  5.+0.j  6.+0.j  7.+0.j  8.+0.j\n",
      "  9.+0.j 10.+0.j]\n",
      "vct_X_kTi_xaxis:  [ 0.   1.1  2.2  3.3  4.4  5.5  6.6  7.7  8.8  9.9 11. ]\n"
     ]
    },
    {
     "data": {
      "image/png": "[encoded data removed]",
      "text/plain": [
       "<Figure size 432x288 with 1 Axes>"
      ]
     },
     "metadata": {
      "needs_background": "light"
     },
     "output_type": "display_data"
    }
   ],
   "source": [
    "fn.FREQ_SHIFT_FACTOR = -0.1\n",
    "\n",
    "vct_input = np.arange(0, 12)\n",
    "vct_input_xaxis = np.arange(0, len(vct_input))\n",
    "print(\"vct_input: \", vct_input)\n",
    "print(\"vct_input_xaxis: \", vct_input_xaxis)\n",
    "\n",
    "vct_X_kTi = np.array([]); vct_X_kTi_xaxis = np.array([])\n",
    "for mk in np.arange(0, len(vct_input)-1):\n",
    "  [X_kTi, X_kTi_xaxis] = fn.interpol(vct_input, mk)\n",
    "  vct_X_kTi = np.append(vct_X_kTi, X_kTi); vct_X_kTi_xaxis = np.append(vct_X_kTi_xaxis, X_kTi_xaxis)\n",
    "print(\"vct_X_kTi: \", vct_X_kTi)\n",
    "print(\"vct_X_kTi_xaxis: \", vct_X_kTi_xaxis)\n",
    "\n",
    "plt.stem(vct_input_xaxis[:-1], vct_input[:-1], use_line_collection = True); plt.grid(True)\n",
    "plt.stem(vct_X_kTi_xaxis, vct_X_kTi, linefmt='--r', markerfmt='xr', use_line_collection = True); plt.grid(True)"
   ]
  },
  {
   "cell_type": "code",
   "execution_count": 15,
   "metadata": {
    "colab": {
     "base_uri": "https://localhost:8080/",
     "height": 387
    },
    "id": "CCD3gHAG4MG7",
    "outputId": "fefef141-aee5-4098-d476-e70dab7cc3aa"
   },
   "outputs": [
    {
     "name": "stdout",
     "output_type": "stream",
     "text": [
      "vct_input:  [ 0  1  2  3  4  5  6  7  8  9 10]\n",
      "vct_input_xaxis:  [ 0  1  2  3  4  5  6  7  8  9 10]\n",
      "vct_X_kTi:  [ 0.        +0.j  1.31229995+0.j  2.22222222+0.j  3.33333333+0.j\n",
      "  4.44444444+0.j  5.55555556+0.j  6.66666667+0.j  7.77777778+0.j\n",
      "  8.88888889+0.j 10.        +0.j]\n",
      "vct_X_kTi_xaxis:  [ 0.          1.11111111  2.22222222  3.33333333  4.44444444  5.55555556\n",
      "  6.66666667  7.77777778  8.88888889 10.        ]\n"
     ]
    },
    {
     "data": {
      "image/png": "[encoded data removed]",
      "text/plain": [
       "<Figure size 432x288 with 1 Axes>"
      ]
     },
     "metadata": {
      "needs_background": "light"
     },
     "output_type": "display_data"
    }
   ],
   "source": [
    "fn.FREQ_SHIFT_FACTOR = 0\n",
    "mu = 0\n",
    "\n",
    "vct_input = np.arange(0, 11)\n",
    "vct_input_xaxis = np.arange(0, len(vct_input))\n",
    "print(\"vct_input: \", vct_input)\n",
    "print(\"vct_input_xaxis: \", vct_input_xaxis)\n",
    "\n",
    "vct_X_kTi = np.array([]); vct_X_kTi_xaxis = np.array([])\n",
    "for mk in np.arange(0, len(vct_input)-1):\n",
    "  [X_kTi, X_kTi_xaxis] = fn.interpol(vct_input, mk, mu)\n",
    "  vct_X_kTi = np.append(vct_X_kTi, X_kTi); vct_X_kTi_xaxis = np.append(vct_X_kTi_xaxis, X_kTi_xaxis)\n",
    "  mu += 0.111111111111\n",
    "print(\"vct_X_kTi: \", vct_X_kTi)\n",
    "print(\"vct_X_kTi_xaxis: \", vct_X_kTi_xaxis)\n",
    "\n",
    "plt.stem(vct_input_xaxis[:-1], vct_input[:-1], use_line_collection = True); plt.grid(True)\n",
    "plt.stem(vct_X_kTi_xaxis, vct_X_kTi, linefmt='--r', markerfmt='xr', use_line_collection = True); plt.grid(True)"
   ]
  },
  {
   "cell_type": "code",
   "execution_count": 16,
   "metadata": {
    "colab": {
     "base_uri": "https://localhost:8080/",
     "height": 387
    },
    "id": "9YE28ujAC7mS",
    "outputId": "f3225f7e-00fb-4a97-8a19-eff5125c8cfe"
   },
   "outputs": [
    {
     "name": "stdout",
     "output_type": "stream",
     "text": [
      "vct_input:  [ 0  1  2  3  4  5  6  7  8  9 10]\n",
      "vct_input_xaxis:  [ 0  1  2  3  4  5  6  7  8  9 10]\n",
      "vct_X_kTi:  [0.        +0.j 0.68770005+0.j 1.77777778+0.j 2.66666667+0.j\n",
      " 3.55555556+0.j 4.44444444+0.j 5.33333333+0.j 6.22222222+0.j\n",
      " 7.11111111+0.j 8.        +0.j]\n",
      "vct_X_kTi_xaxis:  [0.         0.88888889 1.77777778 2.66666667 3.55555556 4.44444444\n",
      " 5.33333333 6.22222222 7.11111111 8.        ]\n"
     ]
    },
    {
     "data": {
      "image/png": "[encoded data removed]",
      "text/plain": [
       "<Figure size 432x288 with 1 Axes>"
      ]
     },
     "metadata": {
      "needs_background": "light"
     },
     "output_type": "display_data"
    }
   ],
   "source": [
    "fn.FREQ_SHIFT_FACTOR = 0\n",
    "mu = 0\n",
    "\n",
    "vct_input = np.arange(0, 11)\n",
    "vct_input_xaxis = np.arange(0, len(vct_input))\n",
    "print(\"vct_input: \", vct_input)\n",
    "print(\"vct_input_xaxis: \", vct_input_xaxis)\n",
    "\n",
    "vct_X_kTi = np.array([]); vct_X_kTi_xaxis = np.array([])\n",
    "for mk in np.arange(0, len(vct_input)-1):\n",
    "  [X_kTi, X_kTi_xaxis] = fn.interpol(vct_input, mk, mu)\n",
    "  vct_X_kTi = np.append(vct_X_kTi, X_kTi); vct_X_kTi_xaxis = np.append(vct_X_kTi_xaxis, X_kTi_xaxis)\n",
    "  mu += -0.111111111111\n",
    "print(\"vct_X_kTi: \", vct_X_kTi)\n",
    "print(\"vct_X_kTi_xaxis: \", vct_X_kTi_xaxis)\n",
    "\n",
    "plt.stem(vct_input_xaxis[:-1], vct_input[:-1], use_line_collection = True); plt.grid(True)\n",
    "plt.stem(vct_X_kTi_xaxis, vct_X_kTi, linefmt='--r', markerfmt='xr', use_line_collection = True); plt.grid(True)"
   ]
  },
  {
   "cell_type": "code",
   "execution_count": 17,
   "metadata": {
    "colab": {
     "base_uri": "https://localhost:8080/",
     "height": 369
    },
    "id": "BpR5QTEg6NL7",
    "outputId": "5dc50492-0043-4cb6-9929-590db22273df"
   },
   "outputs": [
    {
     "name": "stdout",
     "output_type": "stream",
     "text": [
      "vct_input:  [ 0  1  2  3  4  5  6  7  8  9 10]\n",
      "vct_input_xaxis:  [ 0  1  2  3  4  5  6  7  8  9 10]\n",
      "vct_X_kTi:  [ 0.        +0.j  1.31229995+0.j  2.22222222+0.j  3.33333333+0.j\n",
      "  4.44444444+0.j  5.55555556+0.j  6.66666667+0.j  7.77777778+0.j\n",
      "  8.88888889+0.j 10.        +0.j]\n",
      "vct_X_kTi_xaxis:  [0. 1. 2. 3. 4. 5. 6. 7. 8. 9.]\n"
     ]
    },
    {
     "data": {
      "image/png": "[encoded data removed]",
      "text/plain": [
       "<Figure size 432x288 with 1 Axes>"
      ]
     },
     "metadata": {
      "needs_background": "light"
     },
     "output_type": "display_data"
    }
   ],
   "source": [
    "fn.FREQ_SHIFT_FACTOR = 0.1\n",
    "mu = 0\n",
    "\n",
    "vct_input = np.arange(0, 11)\n",
    "vct_input_xaxis = np.arange(0, len(vct_input))\n",
    "print(\"vct_input: \", vct_input)\n",
    "print(\"vct_input_xaxis: \", vct_input_xaxis)\n",
    "\n",
    "vct_X_kTi = np.array([]); vct_X_kTi_xaxis = np.array([])\n",
    "for mk in np.arange(0, len(vct_input)-1):\n",
    "  [X_kTi, X_kTi_xaxis] = fn.interpol(vct_input, mk, mu)\n",
    "  vct_X_kTi = np.append(vct_X_kTi, X_kTi); vct_X_kTi_xaxis = np.append(vct_X_kTi_xaxis, X_kTi_xaxis)\n",
    "  mu += 0.111111111111\n",
    "print(\"vct_X_kTi: \", vct_X_kTi)\n",
    "print(\"vct_X_kTi_xaxis: \", vct_X_kTi_xaxis)\n",
    "\n",
    "plt.stem(vct_input_xaxis[:-1], vct_input[:-1], use_line_collection = True); plt.grid(True)\n",
    "plt.stem(vct_X_kTi_xaxis, vct_X_kTi, linefmt='--r', markerfmt='xr', use_line_collection = True); plt.grid(True)"
   ]
  },
  {
   "cell_type": "code",
   "execution_count": 18,
   "metadata": {
    "colab": {
     "base_uri": "https://localhost:8080/",
     "height": 387
    },
    "id": "XxJGtYjeDOSS",
    "outputId": "adb3b7bb-60ba-4700-88c9-0f9cfc5b2e3f"
   },
   "outputs": [
    {
     "name": "stdout",
     "output_type": "stream",
     "text": [
      "vct_input:  [ 0  1  2  3  4  5  6  7  8  9 10]\n",
      "vct_input_xaxis:  [ 0  1  2  3  4  5  6  7  8  9 10]\n",
      "vct_X_kTi:  [0.        +0.j 0.68770005+0.j 1.77777778+0.j 2.66666667+0.j\n",
      " 3.55555556+0.j 4.44444444+0.j 5.33333333+0.j 6.22222222+0.j\n",
      " 7.11111111+0.j 8.        +0.j]\n",
      "vct_X_kTi_xaxis:  [0.         0.97777778 1.95555556 2.93333333 3.91111111 4.88888889\n",
      " 5.86666667 6.84444444 7.82222222 8.8       ]\n"
     ]
    },
    {
     "data": {
      "image/png": "[encoded data removed]",
      "text/plain": [
       "<Figure size 432x288 with 1 Axes>"
      ]
     },
     "metadata": {
      "needs_background": "light"
     },
     "output_type": "display_data"
    }
   ],
   "source": [
    "fn.FREQ_SHIFT_FACTOR = -0.1\n",
    "mu = 0\n",
    "\n",
    "vct_input = np.arange(0, 11)\n",
    "vct_input_xaxis = np.arange(0, len(vct_input))\n",
    "print(\"vct_input: \", vct_input)\n",
    "print(\"vct_input_xaxis: \", vct_input_xaxis)\n",
    "\n",
    "vct_X_kTi = np.array([]); vct_X_kTi_xaxis = np.array([])\n",
    "for mk in np.arange(0, len(vct_input)-1):\n",
    "  [X_kTi, X_kTi_xaxis] = fn.interpol(vct_input, mk, mu)\n",
    "  vct_X_kTi = np.append(vct_X_kTi, X_kTi); vct_X_kTi_xaxis = np.append(vct_X_kTi_xaxis, X_kTi_xaxis)\n",
    "  mu += -0.111111111111\n",
    "print(\"vct_X_kTi: \", vct_X_kTi)\n",
    "print(\"vct_X_kTi_xaxis: \", vct_X_kTi_xaxis)\n",
    "\n",
    "plt.stem(vct_input_xaxis[:-1], vct_input[:-1], use_line_collection = True); plt.grid(True)\n",
    "plt.stem(vct_X_kTi_xaxis, vct_X_kTi, linefmt='--r', markerfmt='xr', use_line_collection = True); plt.grid(True)"
   ]
  },
  {
   "cell_type": "markdown",
   "metadata": {},
   "source": [
    "[![CC BY 4.0][cc-by-shield]][cc-by]\n",
    "\n",
    "This work is licensed under a\n",
    "[Creative Commons Attribution 4.0 International License][cc-by].\n",
    "\n",
    "[![CC BY 4.0][cc-by-image]][cc-by]\n",
    "\n",
    "[cc-by]: http://creativecommons.org/licenses/by/4.0/\n",
    "[cc-by-image]: https://i.creativecommons.org/l/by/4.0/88x31.png\n",
    "[cc-by-shield]: https://img.shields.io/badge/License-CC%20BY%204.0-lightgrey.svg\n",
    "\n",
    "![logo_neon_erasmus](https://raw.githubusercontent.com/neon-iot/communication_labs/main/detection_theory/notebooks/images/BannerSupportErasmus_.png)"
   ]
  },
  {
   "cell_type": "code",
   "execution_count": null,
   "metadata": {},
   "outputs": [],
   "source": []
  }
 ],
 "metadata": {
  "colab": {
   "authorship_tag": "ABX9TyNUhqbg0a1wdzNs3vx/aIC6",
   "collapsed_sections": [],
   "include_colab_link": true,
   "provenance": []
  },
  "kernelspec": {
   "display_name": "Python 3 (ipykernel)",
   "language": "python",
   "name": "python3"
  },
  "language_info": {
   "codemirror_mode": {
    "name": "ipython",
    "version": 3
   },
   "file_extension": ".py",
   "mimetype": "text/x-python",
   "name": "python",
   "nbconvert_exporter": "python",
   "pygments_lexer": "ipython3",
   "version": "3.9.13"
  }
 },
 "nbformat": 4,
 "nbformat_minor": 1
}

{
  "nbformat": 4,
  "nbformat_minor": 0,
  "metadata": {
    "colab": {
      "provenance": [],
      "collapsed_sections": []
    },
    "kernelspec": {
      "name": "python3",
      "display_name": "Python 3"
    },
    "language_info": {
      "name": "python"
    }
  },
  "cells": [
    {
      "cell_type": "code",
      "execution_count": null,
      "metadata": {
        "id": "2LYU9jw5yxbW"
      },
      "outputs": [],
      "source": [
        "def code(vct_bitchain):\n",
        "  vct_coded_bits = np.array([])\n",
        "  for it in np.arange(0, len(vct_bitchain), COD_LEN):\n",
        "    symbol = ''.join((vct_bitchain[it:it+COD_LEN].astype(str)))\n",
        "    vct_coded_bits = np.append(vct_coded_bits, symbol)\n",
        "  return vct_coded_bits"
      ]
    }
  ]
}
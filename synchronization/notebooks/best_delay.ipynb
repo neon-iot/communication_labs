{
  "nbformat": 4,
  "nbformat_minor": 0,
  "metadata": {
    "colab": {
      "provenance": [],
      "collapsed_sections": []
    },
    "kernelspec": {
      "name": "python3",
      "display_name": "Python 3"
    },
    "language_info": {
      "name": "python"
    }
  },
  "cells": [
    {
      "cell_type": "code",
      "execution_count": null,
      "metadata": {
        "id": "TckXV_kHyyih"
      },
      "outputs": [],
      "source": [
        "def best_delay(vct_equ_in = np.array([1]), delay_max = 35, pow_noise = 0, vct_h = np.array([1]), show_fig = False):\n",
        "\n",
        "  vct_MSE_delay = np.zeros(delay_max) # delay assignment of the delayed loop, gives the index of the present sample Ak\n",
        "  for it_dl in range(0, delay_max):\n",
        "    vct_MSE_delay[it_dl] = algorithm_LMS(vct_modulated_symbs, it_dl, fig = [], print_1 = False, theoric = False);\n",
        "  best_min = np.argmin(vct_MSE_delay)\n",
        "\n",
        "  if show_fig == True:\n",
        "    plt.figure(num=5, figsize=(10, 4), dpi= 80, facecolor='w', edgecolor='k')\n",
        "    plt.semilogy(vct_MSE_delay, 'b-.') \n",
        "    plt.grid(True)\n",
        "    plt.title('Delay vs symbol MSE')\n",
        "\n",
        "  return best_min # delay value for minimal symbol MSE"
      ]
    }
  ]
}
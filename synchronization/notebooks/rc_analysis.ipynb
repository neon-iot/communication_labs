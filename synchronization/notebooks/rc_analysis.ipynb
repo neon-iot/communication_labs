{
 "cells": [
  {
   "cell_type": "code",
   "execution_count": null,
   "metadata": {
    "id": "eEYDuTeUzooi"
   },
   "outputs": [],
   "source": [
    "def rc_analysis(delta_t = 0, W = 0.5, rolloff = 0, show_fig = [1,2,3], second_rc = False):\n",
    "  # Reference: www.eie.polyu.edu.hk/~em/dtss05pdf/00f%20Eye%20pattern%20and%20equalization.pdf. By Haykin\n",
    "  # BW indicates the bandwidth of the ideal Nyquist pulse (raised cosine with zero roll-off)\n",
    "  # f1 = (1-rolloff)*W # f1 indicates the point in which the flat spectrum starts to decay, being the roll-off the decayment trend.\n",
    "  \n",
    "  signal_span = N\n",
    "  if signal_span % 2 == 0: # also known as filter span in symbols, is the total of samples in integer positions, seen in the channel figure\n",
    "    print('Caution: Parameter signal_span changed to {}. It must be odd.'.format(signal_span+1))\n",
    "  t_max = (signal_span)//2 \n",
    "  vct_t = np.arange(-t_max, t_max+1/SAMPLESxSYM, 1/SAMPLESxSYM) # t_max+1 to consider also last value with its interpolation\n",
    "  vct_n = np.zeros(len(vct_t)).T\n",
    "  for it_t in range(len(vct_t)):\n",
    "    t = vct_t[it_t] + delta_t \n",
    "    vct_n[it_t] = np.sinc(2*W*t) * ( np.cos(2*np.pi*rolloff*W*t) / (1-16*(rolloff**2)*(W**2)*(t**2)) ) # Time-domain impulse response. W = 1/(2T)\n",
    "\n",
    "  [vct_mag, vct_phase, vct_fft_x_axis] = freq_response(vct_n, vct_t, True, second_rc, show_fig)\n",
    "\n",
    "  return [vct_n, vct_mag, vct_phase, vct_fft_x_axis]"
   ]
  },
  {
   "cell_type": "markdown",
   "metadata": {},
   "source": [
    "[![CC BY 4.0][cc-by-shield]][cc-by]\n",
    "\n",
    "This work is licensed under a\n",
    "[Creative Commons Attribution 4.0 International License][cc-by].\n",
    "\n",
    "[![CC BY 4.0][cc-by-image]][cc-by]\n",
    "\n",
    "[cc-by]: http://creativecommons.org/licenses/by/4.0/\n",
    "[cc-by-image]: https://i.creativecommons.org/l/by/4.0/88x31.png\n",
    "[cc-by-shield]: https://img.shields.io/badge/License-CC%20BY%204.0-lightgrey.svg\n",
    "\n",
    "![logo_neon_erasmus](https://raw.githubusercontent.com/neon-iot/communication_labs/main/detection_theory/notebooks/images/BannerSupportErasmus_.png)"
   ]
  },
  {
   "cell_type": "code",
   "execution_count": null,
   "metadata": {},
   "outputs": [],
   "source": []
  }
 ],
 "metadata": {
  "colab": {
   "collapsed_sections": [],
   "provenance": []
  },
  "kernelspec": {
   "display_name": "Python 3 (ipykernel)",
   "language": "python",
   "name": "python3"
  },
  "language_info": {
   "codemirror_mode": {
    "name": "ipython",
    "version": 3
   },
   "file_extension": ".py",
   "mimetype": "text/x-python",
   "name": "python",
   "nbconvert_exporter": "python",
   "pygments_lexer": "ipython3",
   "version": "3.9.13"
  }
 },
 "nbformat": 4,
 "nbformat_minor": 1
}

{
  "nbformat": 4,
  "nbformat_minor": 0,
  "metadata": {
    "colab": {
      "provenance": [],
      "collapsed_sections": []
    },
    "kernelspec": {
      "name": "python3",
      "display_name": "Python 3"
    },
    "language_info": {
      "name": "python"
    }
  },
  "cells": [
    {
      "cell_type": "code",
      "execution_count": null,
      "metadata": {
        "id": "PPgKCOfdzhrR"
      },
      "outputs": [],
      "source": [
        "def upsample(input_x = np.array([[1],[2],[3]]), x_inter = 2, ending_zeroes = False): \n",
        "  # Upsampling function\n",
        "  upsampled_array = np.insert(input_x, [1], [[0]*(x_inter-1) for i in input_x], axis=1) # insert zeros after each inner array (so after each element).\n",
        "  if x_inter == 1 or ending_zeroes == True:\n",
        "    output_x = transform(upsampled_array)\n",
        "  else:\n",
        "    output_x = transform(upsampled_array)[:-x_inter+1] # Transforms array of one-element arrays to vector. Also, ending zeros are deleted.\n",
        "  return output_x # return upsampled output"
      ]
    }
  ]
}
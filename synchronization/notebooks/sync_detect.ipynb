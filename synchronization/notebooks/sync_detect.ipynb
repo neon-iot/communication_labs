{
 "cells": [
  {
   "cell_type": "code",
   "execution_count": null,
   "metadata": {
    "id": "0DCrKF4rzk1d"
   },
   "outputs": [],
   "source": [
    "def sync_detect(vct_interp):\n",
    "  vct_symbs = np.array(list(ALPHABET.values()), dtype=np.complex_) # creo vector de valores del alfabeto\n",
    "  vct_dist = np.zeros(len(vct_symbs), dtype = np.complex_); vct_dist_sum = np.zeros(UPS_VALUE//2, dtype = np.complex_);\n",
    "  for p in range(UPS_VALUE//2): # elijo primera muestra del path (camino del interpolador) definido abajo\n",
    "    path = downsample(input_x = vct_interp, x_decim = UPS_VALUE//2, first = p) # muestras de path a tiempo de simbolo\n",
    "    for sample in path[TRAINING_END:2*TRAINING_END]: # por cada muestra del camino seleccionado (inside an convergence interval to avoid incorrect selection)\n",
    "      for s in range(len(vct_symbs)): # calculo menor distancia de muestra a simbolo mas proximo\n",
    "        symbol = vct_symbs[s]\n",
    "        vct_dist[s] = np.sqrt( (sample - symbol)*np.conj(sample - symbol) )  # estaba como distancia al cuadrado, se le corrigió con np.sqrt\n",
    "      dist = np.min(vct_dist) # de todas las distancias entre la muestra (interp out) y los simbolos, elijo la minima\n",
    "      vct_dist_sum[p] += dist # se suman las distancias minimas de cada muestra (en todos los path p)\n",
    "  selection = np.argmin(vct_dist_sum) # se selecciona el path en que la suma de las distancias minimas es menor\n",
    "  vct_out = downsample(input_x = vct_interp, x_decim = UPS_VALUE//2, first = selection)\n",
    "  return vct_out"
   ]
  },
  {
   "cell_type": "markdown",
   "metadata": {},
   "source": [
    "[![CC BY 4.0][cc-by-shield]][cc-by]\n",
    "\n",
    "This work is licensed under a\n",
    "[Creative Commons Attribution 4.0 International License][cc-by].\n",
    "\n",
    "[![CC BY 4.0][cc-by-image]][cc-by]\n",
    "\n",
    "[cc-by]: http://creativecommons.org/licenses/by/4.0/\n",
    "[cc-by-image]: https://i.creativecommons.org/l/by/4.0/88x31.png\n",
    "[cc-by-shield]: https://img.shields.io/badge/License-CC%20BY%204.0-lightgrey.svg\n",
    "\n",
    "![logo_neon_erasmus](https://raw.githubusercontent.com/neon-iot/communication_labs/main/detection_theory/notebooks/images/BannerSupportErasmus_.png)"
   ]
  },
  {
   "cell_type": "code",
   "execution_count": null,
   "metadata": {},
   "outputs": [],
   "source": []
  }
 ],
 "metadata": {
  "colab": {
   "collapsed_sections": [],
   "provenance": []
  },
  "kernelspec": {
   "display_name": "Python 3 (ipykernel)",
   "language": "python",
   "name": "python3"
  },
  "language_info": {
   "codemirror_mode": {
    "name": "ipython",
    "version": 3
   },
   "file_extension": ".py",
   "mimetype": "text/x-python",
   "name": "python",
   "nbconvert_exporter": "python",
   "pygments_lexer": "ipython3",
   "version": "3.9.13"
  }
 },
 "nbformat": 4,
 "nbformat_minor": 1
}

{
  "nbformat": 4,
  "nbformat_minor": 0,
  "metadata": {
    "colab": {
      "provenance": [],
      "collapsed_sections": []
    },
    "kernelspec": {
      "name": "python3",
      "display_name": "Python 3"
    },
    "language_info": {
      "name": "python"
    }
  },
  "cells": [
    {
      "cell_type": "code",
      "execution_count": null,
      "metadata": {
        "id": "TIQeuF4MyuB7"
      },
      "outputs": [],
      "source": [
        "def downsample(input_x = np.array([1,2,3,4,5,6,7,8]), x_decim = 2, first = 0):\n",
        "  output_x = np.array([input_x[int(i)] for i in np.arange(first, len(input_x), x_decim)], dtype=np.complex_) # take spaced elements of vector using list comprehension\n",
        "  return output_x # return downsampled output"
      ]
    }
  ]
}
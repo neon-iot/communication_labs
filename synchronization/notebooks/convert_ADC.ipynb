{
 "cells": [
  {
   "cell_type": "code",
   "execution_count": null,
   "metadata": {
    "id": "srx9ZmyByw6J"
   },
   "outputs": [],
   "source": [
    "def convert_ADC(vct_in, down_value = 1): \n",
    "  \n",
    "  vct_y = vct_in         \n",
    "  vct_x = np.arange(0, len(vct_y))\n",
    "\n",
    "  symbol_phase_shift = - PHASE_SHIFT_FACTOR * UPS_VALUE\n",
    "\n",
    "  symbol_freq = 1/UPS_VALUE\n",
    "  symbol_freq_shift = symbol_freq * FREQ_SHIFT_FACTOR\n",
    "  freq_with_error = symbol_freq + symbol_freq_shift\n",
    "  symbol_period_with_error = 1/freq_with_error \n",
    "  sample_period_with_error = symbol_period_with_error/UPS_VALUE\n",
    "\n",
    "  vct_out_x = np.array([])\n",
    "  for iter in np.arange(0, len(vct_y), down_value):\n",
    "    value_out_x = iter*sample_period_with_error + symbol_phase_shift \n",
    "    vct_out_x = np.append(vct_out_x, value_out_x)\n",
    "\n",
    "  fun_ADC = interpolate.interp1d(vct_x, vct_y, kind = 'cubic', fill_value = 'extrapolate')\n",
    "  vct_out_y = fun_ADC(vct_out_x)\n",
    "\n",
    "  return [vct_out_y, vct_out_x]"
   ]
  },
  {
   "cell_type": "markdown",
   "metadata": {},
   "source": [
    "[![CC BY 4.0][cc-by-shield]][cc-by]\n",
    "\n",
    "This work is licensed under a\n",
    "[Creative Commons Attribution 4.0 International License][cc-by].\n",
    "\n",
    "[![CC BY 4.0][cc-by-image]][cc-by]\n",
    "\n",
    "[cc-by]: http://creativecommons.org/licenses/by/4.0/\n",
    "[cc-by-image]: https://i.creativecommons.org/l/by/4.0/88x31.png\n",
    "[cc-by-shield]: https://img.shields.io/badge/License-CC%20BY%204.0-lightgrey.svg\n",
    "\n",
    "![logo_neon_erasmus](https://raw.githubusercontent.com/neon-iot/communication_labs/main/detection_theory/notebooks/images/BannerSupportErasmus_.png)"
   ]
  },
  {
   "cell_type": "code",
   "execution_count": null,
   "metadata": {},
   "outputs": [],
   "source": []
  }
 ],
 "metadata": {
  "colab": {
   "collapsed_sections": [],
   "provenance": []
  },
  "kernelspec": {
   "display_name": "Python 3 (ipykernel)",
   "language": "python",
   "name": "python3"
  },
  "language_info": {
   "codemirror_mode": {
    "name": "ipython",
    "version": 3
   },
   "file_extension": ".py",
   "mimetype": "text/x-python",
   "name": "python",
   "nbconvert_exporter": "python",
   "pygments_lexer": "ipython3",
   "version": "3.9.13"
  }
 },
 "nbformat": 4,
 "nbformat_minor": 1
}

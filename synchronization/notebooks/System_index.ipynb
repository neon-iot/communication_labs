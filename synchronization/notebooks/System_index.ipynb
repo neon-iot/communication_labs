{
 "cells": [
  {
   "cell_type": "markdown",
   "metadata": {
    "id": "NKQ_rZSB-Mpv"
   },
   "source": [
    "## Index\n",
    "\n",
    "### [Introduction](introduction.ipynb)\n",
    "\n",
    "### Functions\n",
    "- [ber_ser](ber_ser.ipynb)\n",
    "- [best_delay](best_delay.ipynb)\n",
    "- [binary_to_gray](binary_to_gray.ipynb)\n",
    "- [code](code.ipynb)\n",
    "- [convert_ADC](convert_ADC.ipynb)\n",
    "- [decode](decode.ipynb)\n",
    "- [demodulate](demodulate.ipynb)\n",
    "- [det_lag](det_lag.ipynb)\n",
    "- [detect](detect.ipynb)\n",
    "- [downsample](downsample.ipynb)\n",
    "- [equalize](equalize.ipynb)\n",
    "- [estimate_errors](estimate_errors.ipynb)\n",
    "- [eye_diagram](eye_diagram.ipynb)\n",
    "- [freq_response](freq_response.ipynb)\n",
    "- [fun_asymp](fun_asymp.ipynb)\n",
    "- [fun_c_opt](fun_c_opt.ipynb)\n",
    "- [interpol](interpol.ipynb)\n",
    "- [loop_filter](loop_filter.ipynb)\n",
    "- [modulate](modulate.ipynb)\n",
    "- [nco](nco.ipynb)\n",
    "- [process_chan](process_chan.ipynb)\n",
    "- [rc_analysis](rc_analysis.ipynb)\n",
    "- [rcos_bixio](rcos_bixio.ipynb)\n",
    "- [receive](receive.ipynb)\n",
    "- [source](source.ipynb)\n",
    "- [superimposed](superimposed.ipynb)\n",
    "- [sync_detect](sync_detect.ipynb)\n",
    "- [sync_recover](sync_recover.ipynb)\n",
    "- [ted](ted.ipynb)\n",
    "- [transform](transform.ipynb)\n",
    "- [upsample](upsample.ipynb)\n",
    "\n"
   ]
  },
  {
   "cell_type": "markdown",
   "metadata": {},
   "source": [
    "[![CC BY 4.0][cc-by-shield]][cc-by]\n",
    "\n",
    "This work is licensed under a\n",
    "[Creative Commons Attribution 4.0 International License][cc-by].\n",
    "\n",
    "[![CC BY 4.0][cc-by-image]][cc-by]\n",
    "\n",
    "[cc-by]: http://creativecommons.org/licenses/by/4.0/\n",
    "[cc-by-image]: https://i.creativecommons.org/l/by/4.0/88x31.png\n",
    "[cc-by-shield]: https://img.shields.io/badge/License-CC%20BY%204.0-lightgrey.svg\n",
    "\n",
    "![logo_neon_erasmus](https://raw.githubusercontent.com/neon-iot/communication_labs/main/detection_theory/notebooks/images/BannerSupportErasmus_.png)"
   ]
  },
  {
   "cell_type": "code",
   "execution_count": null,
   "metadata": {},
   "outputs": [],
   "source": []
  }
 ],
 "metadata": {
  "colab": {
   "collapsed_sections": [],
   "provenance": []
  },
  "kernelspec": {
   "display_name": "Python 3 (ipykernel)",
   "language": "python",
   "name": "python3"
  },
  "language_info": {
   "codemirror_mode": {
    "name": "ipython",
    "version": 3
   },
   "file_extension": ".py",
   "mimetype": "text/x-python",
   "name": "python",
   "nbconvert_exporter": "python",
   "pygments_lexer": "ipython3",
   "version": "3.9.13"
  }
 },
 "nbformat": 4,
 "nbformat_minor": 1
}

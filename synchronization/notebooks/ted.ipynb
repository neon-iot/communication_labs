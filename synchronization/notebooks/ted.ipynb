{
  "nbformat": 4,
  "nbformat_minor": 0,
  "metadata": {
    "colab": {
      "provenance": [],
      "collapsed_sections": []
    },
    "kernelspec": {
      "name": "python3",
      "display_name": "Python 3"
    },
    "language_info": {
      "name": "python"
    }
  },
  "cells": [
    {
      "cell_type": "code",
      "execution_count": null,
      "metadata": {
        "id": "bBiptqQEzjpP"
      },
      "outputs": [],
      "source": [
        "def ted(vct_in): # QPSK Adapted Gardner 2nd paper TED\n",
        "  vct_I = vct_in.real; vct_Q = vct_in.imag;\n",
        "  error_n = 0.5*( vct_I[1]*(np.sign(vct_I[0]) - np.sign(vct_I[2])) + vct_Q[1]*(np.sign(vct_Q[0]) - np.sign(vct_Q[2])) ) \n",
        "  #print('vct_I: {}, vct_Q: {}'.format(vct_I, vct_Q))\n",
        "  #print('error_n: {}\\n'.format(error_n))\n",
        "  return error_n"
      ]
    }
  ]
}
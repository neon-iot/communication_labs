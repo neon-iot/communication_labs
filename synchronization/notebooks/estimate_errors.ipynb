{
 "cells": [
  {
   "cell_type": "code",
   "execution_count": null,
   "metadata": {
    "id": "jTBDP5PFzJ-g"
   },
   "outputs": [],
   "source": [
    "def estimate_errors(vct_bits_tx, vct_bits_rx, vct_symbs_tx, vct_symbs_rx, pow_noise):\n",
    "  bit_errors = 0; symb_errors = 0;\n",
    "  ending_symbs = 10 # to avoid symbols (or bits) errors due to truncation\n",
    "  lag = det_lag(vct_bits_tx[0:100], vct_bits_rx[0:100]) # lag = -2 # bits vectors lag is COD_LEN(=2) times symbols vectors lag\n",
    "\n",
    "  vct_bits_tx = vct_bits_tx[TRAINING_END*COD_LEN : -ending_symbs*COD_LEN -1]\n",
    "  vct_bits_rx = vct_bits_rx[TRAINING_END*COD_LEN : -ending_symbs*COD_LEN -1]\n",
    "  vct_symbs_tx = vct_symbs_tx[TRAINING_END : -ending_symbs -1]\n",
    "  vct_symbs_rx = vct_symbs_rx[TRAINING_END : -ending_symbs -1]\n",
    "\n",
    "  if lag < 0: # synchronyze transmitted and received vectors\n",
    "    vct_bits_tx = vct_bits_tx[abs(lag):-1]\n",
    "    vct_symbs_tx = vct_symbs_tx[abs(lag)//2:-1] # abs(lag)//2 because lag is always even\n",
    "  else:\n",
    "    vct_bits_rx = vct_bits_rx[abs(lag):-1]\n",
    "    vct_symbs_rx = vct_symbs_rx[abs(lag)//2:-1]\n",
    "  if len(vct_bits_tx) > len(vct_bits_rx): # yielding vectors with the same length\n",
    "    vct_bits_tx = vct_bits_tx[:len(vct_bits_rx)]\n",
    "    vct_symbs_tx = vct_symbs_tx[:len(vct_symbs_rx)]\n",
    "  if len(vct_bits_tx) < len(vct_bits_rx):\n",
    "    vct_bits_rx = vct_bits_rx[:len(vct_bits_tx)]\n",
    "    vct_symbs_rx = vct_symbs_rx[:len(vct_symbs_tx)]\n",
    "\n",
    "  # with np.printoptions(threshold=np.inf):\n",
    "  #   print('lag ')\n",
    "  #   print(lag)\n",
    "  #   print( ' vct_bits_tx ' )\n",
    "  #   print(  vct_bits_tx  )\n",
    "  #   print( ' vct_bits_rx ' )\n",
    "  #   print(  vct_bits_rx  )\n",
    "  #   print( ' vct_bits_tx[TRAINING_END*COD_LEN:-1][0:50] ' )\n",
    "  #   print(  vct_bits_tx[TRAINING_END*COD_LEN:-1][0:50]  )\n",
    "  #   print( ' vct_bits_rx[TRAINING_END*COD_LEN:-1][0:50] ' )\n",
    "  #   print(  vct_bits_rx[TRAINING_END*COD_LEN:-1][0:50]  )\n",
    "  #   input()\n",
    "\n",
    "  #if pow_noise < 0.02: # Print for DEBUG\n",
    "  #  output.clear() # clean console\n",
    "  #  with np.printoptions(threshold=np.inf, linewidth=np.inf): # threshold prints all values in a large array, linewidth prints all in one line\n",
    "  #    print('vct_bits_tx(I) & vct_bits_rx(II): ')\n",
    "  #    print(np.array([vct_bits_tx, vct_bits_rx]), sep='\\n') # print the two complete vectors in two rows\n",
    "  #    #input()\n",
    "  #    #!kill -9 -1 # stop program\n",
    "\n",
    "  for it_b in np.arange(len(vct_bits_tx)): \n",
    "    if vct_bits_tx[it_b] != vct_bits_rx[it_b]: # bit error\n",
    "      bit_errors += 1\n",
    "  for it_s in np.arange(len(vct_symbs_tx)): \n",
    "    if vct_symbs_tx[it_s] != vct_symbs_rx[it_s]: # symbol error\n",
    "      symb_errors += 1\n",
    "\n",
    "  ber_point = bit_errors/len(vct_bits_tx)\n",
    "  ser_point = symb_errors/len(vct_symbs_tx)\n",
    "\n",
    "  return [ber_point, ser_point]"
   ]
  },
  {
   "cell_type": "markdown",
   "metadata": {},
   "source": [
    "[![CC BY 4.0][cc-by-shield]][cc-by]\n",
    "\n",
    "This work is licensed under a\n",
    "[Creative Commons Attribution 4.0 International License][cc-by].\n",
    "\n",
    "[![CC BY 4.0][cc-by-image]][cc-by]\n",
    "\n",
    "[cc-by]: http://creativecommons.org/licenses/by/4.0/\n",
    "[cc-by-image]: https://i.creativecommons.org/l/by/4.0/88x31.png\n",
    "[cc-by-shield]: https://img.shields.io/badge/License-CC%20BY%204.0-lightgrey.svg\n",
    "\n",
    "![logo_neon_erasmus](https://raw.githubusercontent.com/neon-iot/communication_labs/main/detection_theory/notebooks/images/BannerSupportErasmus_.png)"
   ]
  },
  {
   "cell_type": "code",
   "execution_count": null,
   "metadata": {},
   "outputs": [],
   "source": []
  }
 ],
 "metadata": {
  "colab": {
   "collapsed_sections": [],
   "provenance": []
  },
  "kernelspec": {
   "display_name": "Python 3 (ipykernel)",
   "language": "python",
   "name": "python3"
  },
  "language_info": {
   "codemirror_mode": {
    "name": "ipython",
    "version": 3
   },
   "file_extension": ".py",
   "mimetype": "text/x-python",
   "name": "python",
   "nbconvert_exporter": "python",
   "pygments_lexer": "ipython3",
   "version": "3.9.13"
  }
 },
 "nbformat": 4,
 "nbformat_minor": 1
}

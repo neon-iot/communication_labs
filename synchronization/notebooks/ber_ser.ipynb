{
 "cells": [
  {
   "cell_type": "code",
   "execution_count": null,
   "metadata": {
    "id": "icVf5YfPyzJw"
   },
   "outputs": [],
   "source": [
    "def ber_ser(vct_h = np.array([1]), asymp = True, EbNodB_MAX = 15):\n",
    "# Ref: https://www.mathworks.com/help/comm/ug/awgn-channel.html\n",
    "\n",
    "  vct_EbNodB = np.arange(EbNodB_MAX)\n",
    "  vct_EsNodB = np.array([])\n",
    "  vct_ber = np.zeros(EbNodB_MAX)\n",
    "  vct_ser = np.zeros(EbNodB_MAX)\n",
    "\n",
    "  sum_values = 0   # the average power of the symbols is determined in this block\n",
    "  for val in ALPHABET.values():\n",
    "    sum_values += val*np.conj(val)\n",
    "  pow_symbol = np.round(sum_values.real/len(ALPHABET),10) # pow_symbol = 1. sum_values is already real, the .real is to avoid warnings\n",
    "\n",
    "  # Modulation correction number\n",
    "  if 'j' not in str(list(ALPHABET.values())):\n",
    "    factor = 0.5 # real case modulation\n",
    "  else:\n",
    "    factor = 1 # complex case modulation\n",
    "\n",
    "  Tsymbol_over_Tsample = 1 # or UPS_VALUE = 4 ?\n",
    "\n",
    "  for EbNodB in vct_EbNodB: # for EbNodB: 14, pow_noise is 0.019905358527674864\n",
    "\n",
    "    EsNodB = EbNodB + 10*np.log10(COD_LEN)   # EsNodB = EbNodB + 10*log10(k), where k is the number of information bits\n",
    "    vct_EsNodB = np.append(vct_EsNodB, EsNodB)\n",
    "    pow_noise = pow_symbol/(10**( (EsNodB-10*np.log10(factor*Tsymbol_over_Tsample))/10 ))   # EsNodB = 10*log10(pow_symbol/pow_noise) + 10*log10(Tsymbol/Tsample)\n",
    "    #output.clear() ###printing###\n",
    "    #print('Execution:',np.round(100*(EbNodB+1)/EbNodB_MAX,2),'% completed.') ###printing###\n",
    "    [temp_ber, temp_ser] = receive(pow_noise = pow_noise, vct_h = vct_h, show_fig = False)\n",
    "    vct_ber[EbNodB], vct_ser[EbNodB] = temp_ber, temp_ser\n",
    "\n",
    "  plt.figure(figsize=(10, 4), dpi= 80, facecolor='w', edgecolor='k')\n",
    "  \n",
    "  ax5 = plt.subplot(1,2,1)\n",
    "  ax5.set_title('Bit Error Rate (BER) vs EbN0')\n",
    "  ax5.semilogy(vct_EbNodB, vct_ber, 'b*')\n",
    "  if asymp == True:\n",
    "      ax5.semilogy(fun_asymp(data = True, max_dB = EbNodB_MAX, modulation = 'QAM', order = 2**COD_LEN, show_fig = False)[0], 'r.-') # theoric asymptote\n",
    "  ax5.grid(True)\n",
    "\n",
    "  ax6 = plt.subplot(1,2,2)\n",
    "  ax6.set_title('Symbol Error Rate (SER) vs EsN0')\n",
    "  ax6.semilogy(vct_EsNodB, vct_ser, 'g*')\n",
    "  if asymp == True:\n",
    "      ax6.semilogy(fun_asymp(data = True, max_dB = EbNodB_MAX, modulation = 'QAM', order = 2**COD_LEN, show_fig = False)[1], 'r.-') # theoric asymptote\n",
    "  ax6.grid(True)"
   ]
  },
  {
   "cell_type": "markdown",
   "metadata": {},
   "source": [
    "[![CC BY 4.0][cc-by-shield]][cc-by]\n",
    "\n",
    "This work is licensed under a\n",
    "[Creative Commons Attribution 4.0 International License][cc-by].\n",
    "\n",
    "[![CC BY 4.0][cc-by-image]][cc-by]\n",
    "\n",
    "[cc-by]: http://creativecommons.org/licenses/by/4.0/\n",
    "[cc-by-image]: https://i.creativecommons.org/l/by/4.0/88x31.png\n",
    "[cc-by-shield]: https://img.shields.io/badge/License-CC%20BY%204.0-lightgrey.svg\n",
    "\n",
    "![logo_neon_erasmus](https://raw.githubusercontent.com/neon-iot/communication_labs/main/detection_theory/notebooks/images/BannerSupportErasmus_.png)"
   ]
  },
  {
   "cell_type": "code",
   "execution_count": null,
   "metadata": {},
   "outputs": [],
   "source": []
  }
 ],
 "metadata": {
  "colab": {
   "collapsed_sections": [],
   "provenance": []
  },
  "kernelspec": {
   "display_name": "Python 3 (ipykernel)",
   "language": "python",
   "name": "python3"
  },
  "language_info": {
   "codemirror_mode": {
    "name": "ipython",
    "version": 3
   },
   "file_extension": ".py",
   "mimetype": "text/x-python",
   "name": "python",
   "nbconvert_exporter": "python",
   "pygments_lexer": "ipython3",
   "version": "3.9.13"
  }
 },
 "nbformat": 4,
 "nbformat_minor": 1
}

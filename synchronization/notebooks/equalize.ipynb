{
  "nbformat": 4,
  "nbformat_minor": 0,
  "metadata": {
    "colab": {
      "provenance": [],
      "collapsed_sections": []
    },
    "kernelspec": {
      "name": "python3",
      "display_name": "Python 3"
    },
    "language_info": {
      "name": "python"
    }
  },
  "cells": [
    {
      "cell_type": "code",
      "execution_count": null,
      "metadata": {
        "id": "p48XRZRQzKfh"
      },
      "outputs": [],
      "source": [
        "def equalize(vct_out_sync, vct_h, pow_noise, vct_ak):\n",
        "  # LMS equalizer and symbol detector\n",
        "\n",
        "  [vct_c_opt, vct_alpha, matrix_phi] = fun_c_opt(N//2+1, downsample(vct_h, SAMPLESxSYM), pow_noise) # Theoric coefficients\n",
        "  \n",
        "  selected_delay = 1   # ver de implementar selected_delay = best_delay(vct_out_sync, 15, pow_noise, vct_h, True);\n",
        "  vct_c = np.zeros(N, dtype=np.complex_) # Equalizer coefficients initialization\n",
        "  matrix_c = np.zeros((N, SYMBOLS), dtype=np.complex_)\n",
        "  vct_equalized = np.array([]); vct_detected_symbs = np.array([])\n",
        "  variable_step = STEP; step_change = SYMBOLS//4\n",
        "\n",
        "  vct_Ek = np.zeros((SYMBOLS, 1), dtype=np.complex_) # Symbols error vector for plotting\n",
        "  Ek_SAMPLES = SYMBOLS//10 # Symbols error quantity for the moving average filter\n",
        "  vct_MSE_symb = np.zeros((SYMBOLS-Ek_SAMPLES+1, 1)) # Symbols MSE vector for plotting\n",
        "\n",
        "  vct_Q = np.zeros((SYMBOLS, 1), dtype=np.complex_) # Coefficients error vector for plotting\n",
        "  Q_SAMPLES = SYMBOLS//10 # Coefficients error quantity for the moving average filter\n",
        "  vct_MSE_coef = np.zeros((SYMBOLS-Q_SAMPLES+1, 1)) # Coefficients MSE vector for plotting\n",
        "\n",
        "  for it_mc in np.arange(0, len(vct_out_sync)-N+1):\n",
        "    \n",
        "    Ak_delayed = vct_ak[selected_delay + N//2 + it_mc]\n",
        "    vct_rk = vct_out_sync[0 +it_mc : N + it_mc]\n",
        "    Yk_equalized = vct_c.T @ vct_rk\n",
        "\n",
        "    # Detection of the symbol\n",
        "    Ak_detected = detect(Yk_equalized, form = 'scalar')\n",
        "    # print('equalized: ', Yk_equalized, 'detected: ', Ak_detected)\n",
        "\n",
        "    # Symbols error calculation \n",
        "    if it_mc < TRAINING_END:\n",
        "      Ek = Ak_delayed - Yk_equalized # training error (eq. 9.7)\n",
        "    else:\n",
        "      Ek = Ak_detected - Yk_equalized # real error\n",
        "\n",
        "    ### Coefficients error calculation ###########################\n",
        "    Q = (vct_c - vct_c_opt).sum() # (eq. 9.31)\n",
        "\n",
        "    # Coefficients update \n",
        "    vct_c += variable_step * Ek * np.conj(vct_rk) # (eq. 9.53)\n",
        "\n",
        "    # Update of the variable factor Beta: 4 steps \n",
        "    if it_mc > step_change:\n",
        "      variable_step *= 0.5\n",
        "      step_change += step_change\n",
        "\n",
        "    # Construction of arrays for plotting \n",
        "    matrix_c[:, it_mc] = vct_c.T\n",
        "    vct_equalized = np.append(vct_equalized, Yk_equalized) # ver, tiene N menos simbolos\n",
        "    vct_detected_symbs = np.append(vct_detected_symbs, Ak_detected)\n",
        "    vct_Ek[it_mc] = Ek\n",
        "    vct_Q[it_mc] = Q\n",
        "\n",
        "    # Moving Average Filters \n",
        "    # For MSE among transmitted and detected symbols\n",
        "    if it_mc >= Ek_SAMPLES:\n",
        "      vct_MSE_symb[it_mc-Ek_SAMPLES] = ( (vct_Ek[it_mc-Ek_SAMPLES : it_mc+1] \\\n",
        "      * np.conj( vct_Ek[it_mc-Ek_SAMPLES : it_mc+1] )).sum(axis=0)/Ek_SAMPLES ).real\n",
        "\n",
        "    # For MSE among actual and optimal coefficients\n",
        "    if (it_mc >= Q_SAMPLES):\n",
        "      vct_MSE_coef[it_mc-Q_SAMPLES] = ( (vct_Q[it_mc-Q_SAMPLES : it_mc+1] \\\n",
        "      * np.conj( vct_Q[it_mc-Q_SAMPLES : it_mc+1] )).sum(axis=0)/Q_SAMPLES ).real\n",
        "\n",
        "  return [vct_detected_symbs, vct_c, Ek_SAMPLES, Q_SAMPLES, vct_MSE_symb, vct_MSE_coef, matrix_c, vct_c_opt]"
      ]
    }
  ]
}
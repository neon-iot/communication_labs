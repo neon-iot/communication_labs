{
  "nbformat": 4,
  "nbformat_minor": 0,
  "metadata": {
    "colab": {
      "provenance": [],
      "collapsed_sections": []
    },
    "kernelspec": {
      "name": "python3",
      "display_name": "Python 3"
    },
    "language_info": {
      "name": "python"
    }
  },
  "cells": [
    {
      "cell_type": "code",
      "execution_count": null,
      "metadata": {
        "id": "lh1rCBHRzpbH"
      },
      "outputs": [],
      "source": [
        "def process_chan(pow_noise = 0, vct_ak_for_conv = np.array([1]), vct_h_for_conv = np.array([1])):\n",
        "  vct_convolved = np.convolve(vct_h_for_conv, vct_ak_for_conv, 'same')\n",
        "  #np.random.seed(1) # setting seed 2\n",
        "  vct_awgn = np.sqrt(0.5*pow_noise)*( np.random.randn(len(vct_convolved)) + 1j*np.random.randn(len(vct_convolved)) ) # the sqrt(0.5) because it is complex. Upsampling must not affect the noise power\n",
        "  vct_processed = vct_convolved + vct_awgn\n",
        "  vct_processed_x_axis = np.arange(0, len(vct_processed), 1)\n",
        "  return [vct_processed, vct_processed_x_axis, vct_convolved]"
      ]
    }
  ]
}
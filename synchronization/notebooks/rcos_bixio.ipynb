{
  "nbformat": 4,
  "nbformat_minor": 0,
  "metadata": {
    "colab": {
      "provenance": [],
      "collapsed_sections": []
    },
    "kernelspec": {
      "name": "python3",
      "display_name": "Python 3"
    },
    "language_info": {
      "name": "python"
    }
  },
  "cells": [
    {
      "cell_type": "code",
      "execution_count": null,
      "metadata": {
        "id": "EfW47Zjlzn5f"
      },
      "outputs": [],
      "source": [
        "def rcos_bixio(rolloff = 0, show_fig = [1,2,3], second_rc = False):\n",
        "\n",
        "  signal_span = N\n",
        "  if signal_span % 2 == 0: # also known as filter span in symbols, is the total of samples in integer positions, seen in the channel figure\n",
        "    print('Caution: Parameter signal_span changed to {}. It must be odd.'.format(signal_span+1))\n",
        "  beta = rolloff; T = 1; t_max = signal_span//2 # SPAN = N, beta is roll-off, T = 1 is period\n",
        "  vct_t = np.arange(-t_max, t_max+1/SAMPLESxSYM, 1/SAMPLESxSYM) # t_max+1 to consider also last value with its interpolation\n",
        "  if rolloff == 0:\n",
        "    phi_t = np.sqrt(1/T)*np.sinc(vct_t/T) # debe ser asi porque sin t queda constante. Revisar\n",
        "  else:\n",
        "    phi_t = (4*beta/(np.pi*np.sqrt(T)))* ( np.cos((1+beta)*np.pi*vct_t/T) + ((1-beta)*np.pi/(4*beta))*np.sinc((1-beta)*vct_t/T) )/(1-(4*beta*vct_t/T)**2) # root raised cosine. Eq. 5.14 Bixio\n",
        "  rc_t = np.convolve(phi_t, np.conj(phi_t), 'same') # raised cosine function\n",
        "  vct_n = rc_t/SAMPLESxSYM\n",
        "\n",
        "  [vct_mag, vct_phase, vct_fft_x_axis] = freq_response(vct_n, vct_t, True, second_rc, show_fig)\n",
        "\n",
        "  return [vct_n, vct_mag, vct_phase, vct_fft_x_axis]"
      ]
    }
  ]
}
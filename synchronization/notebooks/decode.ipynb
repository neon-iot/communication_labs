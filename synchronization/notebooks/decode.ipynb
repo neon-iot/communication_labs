{
  "nbformat": 4,
  "nbformat_minor": 0,
  "metadata": {
    "colab": {
      "provenance": [],
      "collapsed_sections": []
    },
    "kernelspec": {
      "name": "python3",
      "display_name": "Python 3"
    },
    "language_info": {
      "name": "python"
    }
  },
  "cells": [
    {
      "cell_type": "code",
      "execution_count": null,
      "metadata": {
        "id": "gQkfUzibywUv"
      },
      "outputs": [],
      "source": [
        "def decode(vct_demodulated_bits):\n",
        "  decoded_bits_str = ''.join(list(vct_demodulated_bits))\n",
        "  vct_decoded_bits = np.array(list(decoded_bits_str)).astype(int)\n",
        "  return vct_decoded_bits"
      ]
    }
  ]
}
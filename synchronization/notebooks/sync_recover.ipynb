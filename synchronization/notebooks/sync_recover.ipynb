{
 "cells": [
  {
   "cell_type": "code",
   "execution_count": null,
   "metadata": {
    "id": "dFhtNXmEzkNQ"
   },
   "outputs": [],
   "source": [
    "def sync_recover(vct_ADCout, vct_ADCout_x_axis):\n",
    "\n",
    "  mk = 0; mu = 0; NCO = 0; W_in = -1; integral_n = 0; position_prev = 0;\n",
    "  vct_iter = np.array([]); vct_mu = np.array([]); vct_interp = np.array([]); vct_mk_plus_mu = np.array([]); \n",
    "  vct_error_n = np.array([]); vct_error_n_x = np.array([]); vct_W = np.array([]);\n",
    "\n",
    "  for iter in np.arange(2, SYMBOLS*UPS_VALUE -2):\n",
    "\n",
    "    vct_iter = np.append(vct_iter, iter);\n",
    "\n",
    "    [mk, mu, NCO, W] = nco_0(W_in, iter, mk, mu, NCO) \n",
    "    vct_mu = np.append(vct_mu, mu);\n",
    "    #mu_fixed = 1.00; mu = mu_fixed # Conmutador. Descomentar para prueba de error de fase a lazo abierto. Comentar para lazo cerrado.\n",
    "\n",
    "    [sample_interp, sample_position] = interpol(vct_ADCout, mk, mu, vct_ADCout_x_axis[0])\n",
    "\n",
    "    if (iter > 2) and (np.abs(sample_position - position_prev) > 1) : # last condition as Travis Trigger's TED\n",
    "      #print('mk: {}, mu: {}'.format(mk, mu))\n",
    "      #print('sample_interp: {}, sample_position: {}'.format(sample_interp, sample_position))\n",
    "      vct_interp = np.append(vct_interp, sample_interp); vct_mk_plus_mu = np.append(vct_mk_plus_mu, sample_position);\n",
    "      position_prev = sample_position; \n",
    "      \n",
    "      if (len(vct_interp) >= (UPS_VALUE-1)) and (len(vct_interp)+1) % (UPS_VALUE//2) == 0: \n",
    "        \n",
    "        error_n = ted( np.array([vct_interp[-(UPS_VALUE//2+1)], vct_interp[-(UPS_VALUE//4+1)], vct_interp[-1]]) )\n",
    "        vct_error_n = np.append(vct_error_n, error_n); vct_error_n_x = np.append(vct_error_n_x, sample_position);\n",
    "  \n",
    "        [W_out, integral_n] = loop_filter(error_n, integral_n)\n",
    "        vct_W = np.append(vct_W, W_out); \n",
    "        W_in = W_out # Conmutador. Comentar para prueba de error de frecuencia a lazo abierto. Descomentar para lazo cerrado.\n",
    "  \n",
    "  return [vct_iter, vct_mu, vct_interp, vct_mk_plus_mu, vct_error_n, vct_error_n_x, vct_W]"
   ]
  },
  {
   "cell_type": "markdown",
   "metadata": {},
   "source": [
    "[![CC BY 4.0][cc-by-shield]][cc-by]\n",
    "\n",
    "This work is licensed under a\n",
    "[Creative Commons Attribution 4.0 International License][cc-by].\n",
    "\n",
    "[![CC BY 4.0][cc-by-image]][cc-by]\n",
    "\n",
    "[cc-by]: http://creativecommons.org/licenses/by/4.0/\n",
    "[cc-by-image]: https://i.creativecommons.org/l/by/4.0/88x31.png\n",
    "[cc-by-shield]: https://img.shields.io/badge/License-CC%20BY%204.0-lightgrey.svg\n",
    "\n",
    "![logo_neon_erasmus](https://raw.githubusercontent.com/neon-iot/communication_labs/main/detection_theory/notebooks/images/BannerSupportErasmus_.png)"
   ]
  },
  {
   "cell_type": "code",
   "execution_count": null,
   "metadata": {},
   "outputs": [],
   "source": []
  }
 ],
 "metadata": {
  "colab": {
   "collapsed_sections": [],
   "provenance": []
  },
  "kernelspec": {
   "display_name": "Python 3 (ipykernel)",
   "language": "python",
   "name": "python3"
  },
  "language_info": {
   "codemirror_mode": {
    "name": "ipython",
    "version": 3
   },
   "file_extension": ".py",
   "mimetype": "text/x-python",
   "name": "python",
   "nbconvert_exporter": "python",
   "pygments_lexer": "ipython3",
   "version": "3.9.13"
  }
 },
 "nbformat": 4,
 "nbformat_minor": 1
}

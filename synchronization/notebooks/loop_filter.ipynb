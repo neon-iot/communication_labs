{
  "nbformat": 4,
  "nbformat_minor": 0,
  "metadata": {
    "colab": {
      "provenance": [],
      "collapsed_sections": [],
      "authorship_tag": "ABX9TyNqrUw6H/0wbqLZqNKuQ0Sn",
      "include_colab_link": true
    },
    "kernelspec": {
      "name": "python3",
      "display_name": "Python 3"
    },
    "language_info": {
      "name": "python"
    }
  },
  "cells": [
    {
      "cell_type": "markdown",
      "metadata": {
        "id": "view-in-github",
        "colab_type": "text"
      },
      "source": [
        "<a href=\"https://colab.research.google.com/github/neon-iot/communication_labs/blob/main/synchronization/notebooks/loop_filter.ipynb\" target=\"_parent\"><img src=\"https://colab.research.google.com/assets/colab-badge.svg\" alt=\"Open In Colab\"/></a>"
      ]
    },
    {
      "cell_type": "markdown",
      "source": [
        "Gardner loop filter. The type of filter is proportional plus integer, determined by parameters kp and pi, respectively. "
      ],
      "metadata": {
        "id": "8PSHmvYByIXe"
      }
    },
    {
      "cell_type": "code",
      "execution_count": 2,
      "metadata": {
        "id": "g1Yx_hkezGII",
        "colab": {
          "base_uri": "https://localhost:8080/"
        },
        "outputId": "f1f54c0b-d6cd-4d2c-b845-b938d2d30a08"
      },
      "outputs": [
        {
          "output_type": "stream",
          "name": "stdout",
          "text": [
            "Drive already mounted at /content/drive; to attempt to forcibly remount, call drive.mount(\"/content/drive\", force_remount=True).\n"
          ]
        }
      ],
      "source": [
        "import warnings; warnings.filterwarnings(\"ignore\")\n",
        "import numpy as np\n",
        "import matplotlib.pyplot as plt\n",
        "\n",
        "from google.colab import drive\n",
        "drive.mount('/content/drive')\n",
        "import sys\n",
        "sys.path.append('/content/drive/MyDrive')\n",
        "import funciones as fn"
      ]
    },
    {
      "cell_type": "markdown",
      "source": [
        "Testing"
      ],
      "metadata": {
        "id": "Kb3Ak9lCyXTM"
      }
    },
    {
      "cell_type": "code",
      "source": [
        "import numpy as np\n",
        "import matplotlib.pyplot as plt\n",
        "error_n = 0.5\n",
        "integral_n = 0.1\n",
        "vct_W = np.array([])\n",
        "fn.KP = 0.1\n",
        "fn.KI = 0.01\n",
        "\n",
        "for i in range(10):\n",
        "  [W, integral_n] = fn.loop_filter(error_n, integral_n)\n",
        "  print('W: ', W, '\\nintegral_n: ', integral_n)\n",
        "  vct_W = np.append(vct_W, W)\n",
        "\n",
        "plt.plot(vct_W, '*')\n",
        "plt.grid('True')"
      ],
      "metadata": {
        "colab": {
          "base_uri": "https://localhost:8080/",
          "height": 612
        },
        "id": "yrLynBKTF21-",
        "outputId": "e40fdd81-8933-413e-ac5c-aea5af8ba587"
      },
      "execution_count": 7,
      "outputs": [
        {
          "output_type": "stream",
          "name": "stdout",
          "text": [
            "W:  -0.944 \n",
            "integral_n:  0.6\n",
            "W:  -0.939 \n",
            "integral_n:  1.1\n",
            "W:  -0.9339999999999999 \n",
            "integral_n:  1.6\n",
            "W:  -0.929 \n",
            "integral_n:  2.1\n",
            "W:  -0.9239999999999999 \n",
            "integral_n:  2.6\n",
            "W:  -0.919 \n",
            "integral_n:  3.1\n",
            "W:  -0.914 \n",
            "integral_n:  3.6\n",
            "W:  -0.909 \n",
            "integral_n:  4.1\n",
            "W:  -0.904 \n",
            "integral_n:  4.6\n",
            "W:  -0.899 \n",
            "integral_n:  5.1\n"
          ]
        },
        {
          "output_type": "display_data",
          "data": {
            "text/plain": [
              "<Figure size 432x288 with 1 Axes>"
            ],
            "image/png": "[encoded data removed]"
          },
          "metadata": {
            "needs_background": "light"
          }
        }
      ]
    },
    {
      "cell_type": "code",
      "source": [
        "import numpy as np\n",
        "import matplotlib.pyplot as plt\n",
        "error_n = 0.5\n",
        "integral_n = 0\n",
        "vct_W = np.array([])\n",
        "fn.KP = 0.5 \n",
        "fn.KI = 0.02 \n",
        "\n",
        "for i in range(10):\n",
        "  [W, integral_n] = fn.loop_filter(error_n, integral_n)\n",
        "  print('W: ', W, '\\nintegral_n: ', integral_n)\n",
        "  vct_W = np.append(vct_W, W)\n",
        "\n",
        "plt.plot(vct_W, '*')\n",
        "plt.grid('True')"
      ],
      "metadata": {
        "colab": {
          "base_uri": "https://localhost:8080/",
          "height": 612
        },
        "id": "jVlH8ekLF3bN",
        "outputId": "56c6d841-2013-40a5-dbe6-e32523be3847"
      },
      "execution_count": 6,
      "outputs": [
        {
          "output_type": "stream",
          "name": "stdout",
          "text": [
            "W:  -0.74 \n",
            "integral_n:  0.5\n",
            "W:  -0.73 \n",
            "integral_n:  1.0\n",
            "W:  -0.72 \n",
            "integral_n:  1.5\n",
            "W:  -0.71 \n",
            "integral_n:  2.0\n",
            "W:  -0.7 \n",
            "integral_n:  2.5\n",
            "W:  -0.69 \n",
            "integral_n:  3.0\n",
            "W:  -0.6799999999999999 \n",
            "integral_n:  3.5\n",
            "W:  -0.6699999999999999 \n",
            "integral_n:  4.0\n",
            "W:  -0.66 \n",
            "integral_n:  4.5\n",
            "W:  -0.65 \n",
            "integral_n:  5.0\n"
          ]
        },
        {
          "output_type": "display_data",
          "data": {
            "text/plain": [
              "<Figure size 432x288 with 1 Axes>"
            ],
            "image/png": "[encoded data removed]"
          },
          "metadata": {
            "needs_background": "light"
          }
        }
      ]
    }
  ]
}
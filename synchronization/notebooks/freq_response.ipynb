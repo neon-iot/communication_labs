{
  "nbformat": 4,
  "nbformat_minor": 0,
  "metadata": {
    "colab": {
      "provenance": [],
      "collapsed_sections": []
    },
    "kernelspec": {
      "name": "python3",
      "display_name": "Python 3"
    },
    "language_info": {
      "name": "python"
    }
  },
  "cells": [
    {
      "cell_type": "code",
      "execution_count": null,
      "metadata": {
        "id": "q04b5OUtzI_w"
      },
      "outputs": [],
      "source": [
        "def freq_response(vct_n = np.array([1,0,0,0,0]), vct_t = np.array([0]), raised_cos = False, second_rc = False, show_fig = [1, 2, 3]):\n",
        "  \n",
        "  signal_span = N\n",
        "\n",
        "  vct_fft = ( np.fft.fftshift(np.fft.fft(vct_n)/SAMPLESxSYM ) )\n",
        "  vct_fft_x_axis = np.fft.fftshift( np.fft.fftfreq(len(vct_fft), 1/SAMPLESxSYM ) ) # frequency vector \n",
        "  \n",
        "  vct_mag = np.abs(vct_fft) # magnitude vector\n",
        "  vct_phase = np.angle(vct_fft) # phase vector \n",
        "  for iter in range(len(vct_mag)):\n",
        "    if vct_mag[iter] < 0.05:\n",
        "      vct_phase[iter] = 0 # undetermined case for phase\n",
        "  \n",
        "  value_marker = 'b.'\n",
        "  value_line = 'b'\n",
        "  value_mface= 'r' \n",
        "  \n",
        "  if second_rc == True:\n",
        "    vct_mag = np.roll(vct_mag, signal_span - 1 ) \n",
        "    vct_phase = np.roll(vct_phase, signal_span - 1 )\n",
        "    value_marker = 'gx'\n",
        "    value_line = 'g'\n",
        "    value_mface= 'r'\n",
        "\n",
        "    try:\n",
        "      show_fig.remove(1)\n",
        "    except:\n",
        "      pass\n",
        "\n",
        "  # Falta adaptar graficos para canales complejos, serian 6 curvas, 3 para cada parte real o imaginaria. Ejemplo:\n",
        "    # Stem plot of the channel\n",
        "    # plt.figure(8, ([20, 5])); \n",
        "    # plt.subplot(1,2,1)\n",
        "    # plt.title('Channel impulse response. Real part.')\n",
        "    # plt.stem(vct_h.real, use_line_collection=True)\n",
        "    # plt.grid(True)\n",
        "    # plt.subplot(1,2,2)\n",
        "    # plt.title('Channel impulse response. Imaginary part.')\n",
        "    # plt.stem(vct_h.imag, use_line_collection=True)\n",
        "    # plt.grid(True)\n",
        "\n",
        "  if 1 in show_fig:\n",
        "    plt.figure(31, ([6, 3])); plt.title('Time Domain'); plt.grid(True);\n",
        "    if raised_cos == True:\n",
        "      plt.stem(vct_t, vct_n, markerfmt = value_marker, linefmt = value_line, basefmt = value_mface, use_line_collection=True)\n",
        "    else:\n",
        "      plt.stem(vct_n, markerfmt = value_marker, linefmt = value_line, basefmt = value_mface, use_line_collection=True)\n",
        "\n",
        "  if 2 in show_fig and 3 in show_fig:\n",
        "    plt.figure(32, ([12, 3]));\n",
        "    plt.subplot(1,2,1); plt.grid(True); plt.title('Freq Domain. Magnitude'); \n",
        "    if raised_cos == True: plt.xlim((-1, 1))\n",
        "    plt.stem(vct_fft_x_axis, vct_mag, markerfmt = value_marker, linefmt = value_line, basefmt = value_mface, use_line_collection=True);\n",
        "    plt.subplot(1,2,2); plt.grid(True); plt.title('Freq Domain. Phase');\n",
        "    if raised_cos == True: plt.xlim((-1, 1))\n",
        "    plt.stem(vct_fft_x_axis, vct_phase, markerfmt = value_marker, linefmt = value_line, basefmt = value_mface, use_line_collection=True);\n",
        "\n",
        "  elif 2 in show_fig:\n",
        "    plt.figure(32, ([6, 3])); plt.grid(True); plt.title('Freq Domain. Magnitude'); \n",
        "    if raised_cos == True: plt.xlim((-1, 1))\n",
        "    plt.stem(vct_fft_x_axis, vct_mag, markerfmt = value_marker, linefmt = value_line, basefmt = value_mface, use_line_collection=True);\n",
        "\n",
        "  elif 3 in show_fig:\n",
        "    plt.figure(32, ([6, 3])); plt.grid(True); plt.title('Freq Domain. Phase');\n",
        "    if raised_cos == True: plt.xlim((-1, 1))\n",
        "    plt.stem(vct_fft_x_axis, vct_phase, markerfmt = value_marker, linefmt = value_line, basefmt = value_mface, use_line_collection=True);\n",
        "\n",
        "  return [vct_mag, vct_phase, vct_fft_x_axis]"
      ]
    }
  ]
}
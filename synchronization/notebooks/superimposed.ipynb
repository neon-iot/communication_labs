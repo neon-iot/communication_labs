{
 "cells": [
  {
   "cell_type": "code",
   "execution_count": null,
   "metadata": {
    "id": "ElQPblJ7zlqJ"
   },
   "outputs": [],
   "source": [
    "def superimposed(delta_t = 0, W = 0.5, rolloff = 0, show_fig = [1,2,3]): \n",
    "  \n",
    "  [vct_n, vct_mag_1, vct_phase_1, vct_fft_x_axis_1] = rc_analysis(delta_t, W, rolloff, show_fig, False);\n",
    "  [vct_n, vct_mag_2, vct_phase_2, vct_fft_x_axis_2] = rc_analysis(delta_t, W, rolloff, show_fig, True);\n",
    "\n",
    "  complex_1 = vct_mag_1*( np.cos(vct_phase_1) + 1j*np.sin(vct_phase_1) )\n",
    "  complex_2 = vct_mag_2*( np.cos(vct_phase_2) + 1j*np.sin(vct_phase_2) )\n",
    "  complex_sum = complex_1 + complex_2\n",
    "\n",
    "  vct_mag = np.abs( complex_sum )\n",
    "  vct_phase = np.angle( complex_sum )\n",
    "  vct_fft_x_axis = vct_fft_x_axis_1\n",
    "\n",
    "  if 4 in show_fig:\n",
    "    plt.figure(4, ([12, 3]));\n",
    "    plt.subplot(1,2,1); plt.grid(True); plt.title('Freq Domain. Magnitude');\n",
    "    plt.xlim((-1, 1))\n",
    "    plt.stem(vct_fft_x_axis, vct_mag, markerfmt = '.', use_line_collection=True);\n",
    "    plt.subplot(1,2,2); plt.grid(True); plt.title('Freq Domain. Phase');\n",
    "    plt.xlim((-1, 1))\n",
    "    plt.stem(vct_fft_x_axis, vct_phase, markerfmt = '.', use_line_collection=True);\n",
    "\n",
    "  signal_span = N\n",
    "  t_max = signal_span//2; sampling_rate = SAMPLESxSYM;\n",
    "  vct_t = np.arange(-t_max, t_max+1/SAMPLESxSYM, 1/SAMPLESxSYM) # t_max+1 to consider also last value with its interpolation\n",
    "  vct_n = np.fft.ifft( np.fft.fftshift((complex_sum)*sampling_rate) )\n",
    "  \n",
    "  if 5 in show_fig:\n",
    "    plt.figure(5, ([6, 3])); plt.title('Time Domain of the sum'); plt.grid(True);   # Impulse response of the sum\n",
    "    plt.stem(vct_t, vct_n, markerfmt = 'b.', linefmt = 'b', basefmt = 'r', use_line_collection=True)\n",
    "\n",
    "  return vct_n"
   ]
  },
  {
   "cell_type": "markdown",
   "metadata": {},
   "source": [
    "[![CC BY 4.0][cc-by-shield]][cc-by]\n",
    "\n",
    "This work is licensed under a\n",
    "[Creative Commons Attribution 4.0 International License][cc-by].\n",
    "\n",
    "[![CC BY 4.0][cc-by-image]][cc-by]\n",
    "\n",
    "[cc-by]: http://creativecommons.org/licenses/by/4.0/\n",
    "[cc-by-image]: https://i.creativecommons.org/l/by/4.0/88x31.png\n",
    "[cc-by-shield]: https://img.shields.io/badge/License-CC%20BY%204.0-lightgrey.svg\n",
    "\n",
    "![logo_neon_erasmus](https://raw.githubusercontent.com/neon-iot/communication_labs/main/detection_theory/notebooks/images/BannerSupportErasmus_.png)"
   ]
  },
  {
   "cell_type": "code",
   "execution_count": null,
   "metadata": {},
   "outputs": [],
   "source": []
  }
 ],
 "metadata": {
  "colab": {
   "collapsed_sections": [],
   "provenance": []
  },
  "kernelspec": {
   "display_name": "Python 3 (ipykernel)",
   "language": "python",
   "name": "python3"
  },
  "language_info": {
   "codemirror_mode": {
    "name": "ipython",
    "version": 3
   },
   "file_extension": ".py",
   "mimetype": "text/x-python",
   "name": "python",
   "nbconvert_exporter": "python",
   "pygments_lexer": "ipython3",
   "version": "3.9.13"
  }
 },
 "nbformat": 4,
 "nbformat_minor": 1
}

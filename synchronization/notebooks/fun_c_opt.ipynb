{
 "cells": [
  {
   "cell_type": "code",
   "execution_count": null,
   "metadata": {
    "id": "OYtmcOaOzHrB"
   },
   "outputs": [],
   "source": [
    "def fun_c_opt(delay, vct_h, pow_noise):\n",
    "\n",
    "    ITER = SYMBOLS\n",
    "    vct_ak_th = np.zeros(((N + len(vct_h) + delay), 1), dtype=np.complex_) \n",
    "    Ak = vct_ak_th[delay]\n",
    "    vct_rk_th = np.zeros((N, 1), dtype=np.complex_)     \n",
    "    vct_alpha_it = np.zeros((N, 1, ITER), dtype=np.complex_)\n",
    "    matrix_phi_it = np.zeros((N, N, ITER), dtype=np.complex_)\n",
    "\n",
    "    for it_mc in range(1, ITER  +1):\n",
    "\n",
    "      vct_ak_th[1:] = vct_ak_th[0:-1]\n",
    "      vct_ak_th[0] = (np.random.randint(0,1 +1) + np.random.randint(0,1 +1)*1j)*2-1 # Complex random numbers generation\n",
    "      vct_ak_for_conv = vct_ak_th[0:N]\n",
    "      Ak = vct_ak_th[delay] \n",
    "      \n",
    "      awgn = np.sqrt(0.5 * pow_noise) * (np.random.randn() + 1j * np.random.randn()) # the sqrt(0.5) because it is complex\n",
    "\n",
    "      vct_rk_th[1:] = vct_rk_th[0:-1] \n",
    "      vct_rk_th[0] = vct_h.T @ vct_ak_for_conv + awgn\n",
    "\n",
    "      vct_alpha_it[:, :, it_mc -1] = Ak * np.conj(vct_rk_th) # eq. 9.9\n",
    "      matrix_phi_it[:, :, it_mc -1] = np.conj(vct_rk_th) @ vct_rk_th.T\n",
    "\n",
    "    vct_alpha = vct_alpha_it.sum(axis=2)/ITER\n",
    "    matrix_phi = matrix_phi_it.sum(axis=2)/ITER # The Toeplitz matrices are added in order to calculate average Hermitian Toeplitz matrix.\n",
    "    inv_matrix_phi = np.linalg.pinv(matrix_phi) # Moore-Penrose pseudo inverse, to avoid singular matrix error when vectors has two equal elements\n",
    "    vct_c_opt = (inv_matrix_phi @ vct_alpha).T[0] # eq. 9.16\n",
    "      \n",
    "    return [vct_c_opt, vct_alpha, matrix_phi]"
   ]
  },
  {
   "cell_type": "markdown",
   "metadata": {},
   "source": [
    "[![CC BY 4.0][cc-by-shield]][cc-by]\n",
    "\n",
    "This work is licensed under a\n",
    "[Creative Commons Attribution 4.0 International License][cc-by].\n",
    "\n",
    "[![CC BY 4.0][cc-by-image]][cc-by]\n",
    "\n",
    "[cc-by]: http://creativecommons.org/licenses/by/4.0/\n",
    "[cc-by-image]: https://i.creativecommons.org/l/by/4.0/88x31.png\n",
    "[cc-by-shield]: https://img.shields.io/badge/License-CC%20BY%204.0-lightgrey.svg\n",
    "\n",
    "![logo_neon_erasmus](https://raw.githubusercontent.com/neon-iot/communication_labs/main/detection_theory/notebooks/images/BannerSupportErasmus_.png)"
   ]
  },
  {
   "cell_type": "code",
   "execution_count": null,
   "metadata": {},
   "outputs": [],
   "source": []
  }
 ],
 "metadata": {
  "colab": {
   "collapsed_sections": [],
   "provenance": []
  },
  "kernelspec": {
   "display_name": "Python 3 (ipykernel)",
   "language": "python",
   "name": "python3"
  },
  "language_info": {
   "codemirror_mode": {
    "name": "ipython",
    "version": 3
   },
   "file_extension": ".py",
   "mimetype": "text/x-python",
   "name": "python",
   "nbconvert_exporter": "python",
   "pygments_lexer": "ipython3",
   "version": "3.9.13"
  }
 },
 "nbformat": 4,
 "nbformat_minor": 1
}

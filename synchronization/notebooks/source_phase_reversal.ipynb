{
  "nbformat": 4,
  "nbformat_minor": 0,
  "metadata": {
    "colab": {
      "provenance": [],
      "collapsed_sections": [],
      "authorship_tag": "ABX9TyOgFCs6mJrLlpl44gvTMUXL",
      "include_colab_link": true
    },
    "kernelspec": {
      "name": "python3",
      "display_name": "Python 3"
    },
    "language_info": {
      "name": "python"
    }
  },
  "cells": [
    {
      "cell_type": "markdown",
      "metadata": {
        "id": "view-in-github",
        "colab_type": "text"
      },
      "source": [
        "<a href=\"https://colab.research.google.com/github/neon-iot/communication_labs/blob/main/synchronization/notebooks/source_phase_reversal.ipynb\" target=\"_parent\"><img src=\"https://colab.research.google.com/assets/colab-badge.svg\" alt=\"Open In Colab\"/></a>"
      ]
    },
    {
      "cell_type": "markdown",
      "source": [
        "This function allows us to generate a vector output of alternating bits, unlike the conventional source that generates random bits."
      ],
      "metadata": {
        "id": "ksobdDuBLlkk"
      }
    },
    {
      "cell_type": "code",
      "source": [
        "# Libraries\n",
        "import numpy as np\n",
        "\n",
        "# Parameters\n",
        "SYMBOLS = 5\n",
        "COD_LEN = 2\n",
        "\n",
        "def source_phase_reversal():\n",
        "  vct_bitchain = np.array([])\n",
        "  for i in range(0, SYMBOLS):\n",
        "    if i % 2 == 0:\n",
        "      codeword = np.tile(0, COD_LEN)\n",
        "    else:\n",
        "      codeword = np.tile(1, COD_LEN)\n",
        "    vct_bitchain = np.append(vct_bitchain, codeword)\n",
        "  vct_output = np.array(vct_bitchain, dtype=int)\n",
        "  return vct_output"
      ],
      "metadata": {
        "id": "FkZ9DqsEKh_3"
      },
      "execution_count": 2,
      "outputs": []
    },
    {
      "cell_type": "markdown",
      "source": [
        "Test case"
      ],
      "metadata": {
        "id": "wV1I9K7gKisE"
      }
    },
    {
      "cell_type": "code",
      "execution_count": 4,
      "metadata": {
        "colab": {
          "base_uri": "https://localhost:8080/"
        },
        "id": "AyKiyfPYKZI0",
        "outputId": "258af5fd-e034-4169-b1a0-fc077893747f"
      },
      "outputs": [
        {
          "output_type": "stream",
          "name": "stdout",
          "text": [
            "SOURCE TESTS\n",
            "\n",
            "SYMBOLS: 4 ; COD_LEN: 1 \n",
            "source 1:  [1 0 1 0] \n",
            "source 2:  [0 1 0 1] \n",
            "\n",
            "SYMBOLS: 5 ; COD_LEN: 1 \n",
            "source 1:  [1 1 0 0 1] \n",
            "source 2:  [0 1 0 1 0] \n",
            "\n",
            "SYMBOLS: 4 ; COD_LEN: 2 \n",
            "source 1:  [0 0 1 1 0 0 1 0] \n",
            "source 2:  [0 0 1 1 0 0 1 1] \n",
            "\n",
            "SYMBOLS: 5 ; COD_LEN: 2 \n",
            "source 1:  [1 1 0 0 0 0 0 1 1 1] \n",
            "source 2:  [0 0 1 1 0 0 1 1 0 0] \n",
            "\n",
            "SYMBOLS: 4 ; COD_LEN: 3 \n",
            "source 1:  [0 1 1 0 1 1 0 1 1 1 0 0] \n",
            "source 2:  [0 0 0 1 1 1 0 0 0 1 1 1] \n",
            "\n",
            "SYMBOLS: 5 ; COD_LEN: 3 \n",
            "source 1:  [1 1 1 0 1 0 1 1 1 1 1 0 0 0 0] \n",
            "source 2:  [0 0 0 1 1 1 0 0 0 1 1 1 0 0 0] \n",
            "\n",
            "MODULATE TESTS\n",
            "\n",
            "SYMBOLS: 5 ; COD_LEN: 2\n",
            "\n",
            "PHASE_REVERSAL:  False ;\n",
            "mod 1:  [-0.70710678-0.70710678j -0.70710678-0.70710678j -0.70710678+0.70710678j\n",
            "  0.70710678-0.70710678j  0.70710678-0.70710678j]\n",
            "\n",
            "PHASE_REVERSAL:  True ;\n",
            "mod 2:  [-0.70710678-0.70710678j  0.70710678+0.70710678j -0.70710678-0.70710678j\n",
            "  0.70710678+0.70710678j -0.70710678-0.70710678j]\n"
          ]
        }
      ],
      "source": [
        "# Random source independent from phase reversal source (located at modulation function).\n",
        "\n",
        "def source():\n",
        "  #np.random.seed(0) # setting seed 1 \n",
        "  vct_bitchain = np.random.randint(0, 2, SYMBOLS*COD_LEN)\n",
        "  return vct_bitchain\n",
        "\n",
        "def code(vct_bitchain):\n",
        "  vct_coded_bits = np.array([])\n",
        "  for it in np.arange(0, len(vct_bitchain), COD_LEN):\n",
        "    symbol = ''.join((vct_bitchain[it:it+COD_LEN].astype(str)))\n",
        "    vct_coded_bits = np.append(vct_coded_bits, symbol)\n",
        "  return vct_coded_bits\n",
        "\n",
        "def modulate(vct_coded_bits):\n",
        "  if PHASE_REVERSAL == True:\n",
        "    vct_coded_bits = code(source_phase_reversal())\n",
        "  vct_ak = np.array([])\n",
        "  for it in np.arange(0, len(vct_coded_bits)):\n",
        "    ak = complex(ALPHABET[vct_coded_bits[it]])\n",
        "    vct_ak = np.append(vct_ak, ak)\n",
        "  return vct_ak\n",
        "\n",
        "# SOURCE TEST CASES\n",
        "print(\"SOURCE TESTS\\n\")\n",
        "\n",
        "COD_LEN = 1; SYMBOLS = 4; \n",
        "print(\"SYMBOLS:\", SYMBOLS, \"; COD_LEN:\", COD_LEN, '\\nsource 1: ', source(), '\\nsource 2: ', source_phase_reversal(), '\\n')\n",
        "SYMBOLS = 5; \n",
        "print(\"SYMBOLS:\", SYMBOLS, \"; COD_LEN:\", COD_LEN, '\\nsource 1: ', source(), '\\nsource 2: ', source_phase_reversal(), '\\n')\n",
        "COD_LEN = 2; SYMBOLS = 4; \n",
        "print(\"SYMBOLS:\", SYMBOLS, \"; COD_LEN:\", COD_LEN, '\\nsource 1: ', source(), '\\nsource 2: ', source_phase_reversal(), '\\n')\n",
        "SYMBOLS = 5; \n",
        "print(\"SYMBOLS:\", SYMBOLS, \"; COD_LEN:\", COD_LEN, '\\nsource 1: ', source(), '\\nsource 2: ', source_phase_reversal(), '\\n')\n",
        "COD_LEN = 3; SYMBOLS = 4; \n",
        "print(\"SYMBOLS:\", SYMBOLS, \"; COD_LEN:\", COD_LEN, '\\nsource 1: ', source(), '\\nsource 2: ', source_phase_reversal(), '\\n')\n",
        "SYMBOLS = 5; \n",
        "print(\"SYMBOLS:\", SYMBOLS, \"; COD_LEN:\", COD_LEN, '\\nsource 1: ', source(), '\\nsource 2: ', source_phase_reversal(), '\\n')\n",
        "\n",
        "# MODULATE TEST CASE\n",
        "print(\"MODULATE TESTS\\n\"); \n",
        "\n",
        "R2 = np.sqrt(2); ALPHABET = {'00':(-1-1j)/R2, '01':(-1+1j)/R2, '10':(1-1j)/R2, '11':(1+1j)/R2};\n",
        "SYMBOLS = 5; COD_LEN = 2; \n",
        "print(\"SYMBOLS:\", SYMBOLS, \"; COD_LEN:\", COD_LEN)\n",
        "PHASE_REVERSAL = False; mod1 = modulate(code(source()))\n",
        "print('\\nPHASE_REVERSAL: ', PHASE_REVERSAL, ';\\nmod 1: ', mod1)\n",
        "PHASE_REVERSAL = True; mod2 = modulate(code(source()))\n",
        "print('\\nPHASE_REVERSAL: ', PHASE_REVERSAL, ';\\nmod 2: ', mod2)"
      ]
    }
  ]
}
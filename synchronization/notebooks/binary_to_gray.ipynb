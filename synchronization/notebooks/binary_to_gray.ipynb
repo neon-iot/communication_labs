{
  "nbformat": 4,
  "nbformat_minor": 0,
  "metadata": {
    "colab": {
      "provenance": [],
      "collapsed_sections": []
    },
    "kernelspec": {
      "name": "python3",
      "display_name": "Python 3"
    },
    "language_info": {
      "name": "python"
    }
  },
  "cells": [
    {
      "cell_type": "code",
      "execution_count": null,
      "metadata": {
        "id": "7s2HSK49yx52"
      },
      "outputs": [],
      "source": [
        "def binary_to_gray(n):\n",
        "   #Convert Binary to Gray codeword and return it. Reference: https://www.sanfoundry.com/python-program-convert-binary-gray-code/\n",
        "    n = int(n, 2) # a binary number (second arg expresses base 2) is converted to int\n",
        "    n ^= (n >> 1)\n",
        "    return bin(n)[2:]"
      ]
    }
  ]
}
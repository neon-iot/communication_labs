{
  "nbformat": 4,
  "nbformat_minor": 0,
  "metadata": {
    "colab": {
      "provenance": [],
      "collapsed_sections": []
    },
    "kernelspec": {
      "name": "python3",
      "display_name": "Python 3"
    },
    "language_info": {
      "name": "python"
    }
  },
  "cells": [
    {
      "cell_type": "markdown",
      "source": [
        "This function allow us to generate a symbols vector, as source to any communication system, either constituted by random symbols from an alphabet or by two phase reversal symbols. \n",
        "\n",
        "Output length given by symb x COD_LEN"
      ],
      "metadata": {
        "id": "o-nCjwe_cAlo"
      }
    },
    {
      "cell_type": "code",
      "execution_count": null,
      "metadata": {
        "id": "rifCccZWzmUX"
      },
      "outputs": [],
      "source": [
        "# Libraries\n",
        "import numpy as np\n",
        "\n",
        "# Parameters\n",
        "global COD_LEN, PHASE_REVERSAL\n",
        "COD_LEN = 1 # Different symbols in alphabet.\n",
        "PHASE_REVERSAL = False\n",
        "\n",
        "def source(symb = 100):\n",
        "  if PHASE_REVERSAL == True:\n",
        "    vct_bitchain = np.tile(np.concatenate((np.tile(0,COD_LEN),np.tile(1,COD_LEN))), symb//2)\n",
        "  else:\n",
        "    #np.random.seed(0) # set seed to obtain same pseudo-random vector every time simulation is performed\n",
        "    vct_bitchain = np.random.randint(0, 2, symb*COD_LEN)\n",
        "  return vct_bitchain"
      ]
    },
    {
      "cell_type": "markdown",
      "source": [
        "Use cases"
      ],
      "metadata": {
        "id": "rGGu9WsKdsrQ"
      }
    },
    {
      "cell_type": "code",
      "source": [
        "COD_LEN = 1\n",
        "PHASE_REVERSAL = False\n",
        "print(source(symb = 5))"
      ],
      "metadata": {
        "colab": {
          "base_uri": "https://localhost:8080/"
        },
        "id": "x_5STvUFc1-4",
        "outputId": "47881da7-e237-432a-9f48-d67cfb9abd05"
      },
      "execution_count": null,
      "outputs": [
        {
          "output_type": "stream",
          "name": "stdout",
          "text": [
            "[1 1 0 1 0]\n"
          ]
        }
      ]
    },
    {
      "cell_type": "code",
      "source": [
        "COD_LEN = 1\n",
        "PHASE_REVERSAL = False\n",
        "print(source(symb = 10))"
      ],
      "metadata": {
        "colab": {
          "base_uri": "https://localhost:8080/"
        },
        "id": "DR4_522Ddu1Q",
        "outputId": "9dc57f62-7433-4bfd-d190-49d3974bef94"
      },
      "execution_count": null,
      "outputs": [
        {
          "output_type": "stream",
          "name": "stdout",
          "text": [
            "[1 1 0 0 0 0 1 0 1 0]\n"
          ]
        }
      ]
    },
    {
      "cell_type": "code",
      "source": [
        "COD_LEN = 2\n",
        "PHASE_REVERSAL = False\n",
        "print(source(symb = 10)) "
      ],
      "metadata": {
        "colab": {
          "base_uri": "https://localhost:8080/"
        },
        "id": "zDPOCgKGeG3f",
        "outputId": "fb572a0b-807d-44c6-9418-6a21e6b7356e"
      },
      "execution_count": null,
      "outputs": [
        {
          "output_type": "stream",
          "name": "stdout",
          "text": [
            "[1 1 0 0 0 0 1 1 0 0 0 1 0 1 0 1 0 1 1 1]\n"
          ]
        }
      ]
    },
    {
      "cell_type": "code",
      "source": [
        "COD_LEN = 1\n",
        "PHASE_REVERSAL = True\n",
        "print(source(symb = 10))"
      ],
      "metadata": {
        "colab": {
          "base_uri": "https://localhost:8080/"
        },
        "id": "lkyfMkzVelMQ",
        "outputId": "d820c94e-903a-4809-e035-11a60ec062e3"
      },
      "execution_count": null,
      "outputs": [
        {
          "output_type": "stream",
          "name": "stdout",
          "text": [
            "[0 1 0 1 0 1 0 1 0 1]\n"
          ]
        }
      ]
    },
    {
      "cell_type": "code",
      "source": [
        "COD_LEN = 2\n",
        "PHASE_REVERSAL = True\n",
        "print(source(symb = 10))"
      ],
      "metadata": {
        "colab": {
          "base_uri": "https://localhost:8080/"
        },
        "id": "WU4ow-H-eQVX",
        "outputId": "0be52613-1643-41e8-f3bc-3168571510eb"
      },
      "execution_count": null,
      "outputs": [
        {
          "output_type": "stream",
          "name": "stdout",
          "text": [
            "[0 0 1 1 0 0 1 1 0 0 1 1 0 0 1 1 0 0 1 1]\n"
          ]
        }
      ]
    },
    {
      "cell_type": "code",
      "source": [
        "COD_LEN = 8\n",
        "PHASE_REVERSAL = True\n",
        "print(source(symb = 10))"
      ],
      "metadata": {
        "colab": {
          "base_uri": "https://localhost:8080/"
        },
        "id": "zLTFShlie1np",
        "outputId": "b3f604cf-07ee-466a-841d-ae0b7ae3ed6a"
      },
      "execution_count": null,
      "outputs": [
        {
          "output_type": "stream",
          "name": "stdout",
          "text": [
            "[0 0 0 0 0 0 0 0 1 1 1 1 1 1 1 1 0 0 0 0 0 0 0 0 1 1 1 1 1 1 1 1 0 0 0 0 0\n",
            " 0 0 0 1 1 1 1 1 1 1 1 0 0 0 0 0 0 0 0 1 1 1 1 1 1 1 1 0 0 0 0 0 0 0 0 1 1\n",
            " 1 1 1 1 1 1]\n"
          ]
        }
      ]
    }
  ]
}
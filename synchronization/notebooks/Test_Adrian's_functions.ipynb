{
  "nbformat": 4,
  "nbformat_minor": 0,
  "metadata": {
    "colab": {
      "provenance": [],
      "authorship_tag": "ABX9TyOPjFe/vCZldENcw+Dth2cm",
      "include_colab_link": true
    },
    "kernelspec": {
      "name": "python3",
      "display_name": "Python 3"
    },
    "language_info": {
      "name": "python"
    }
  },
  "cells": [
    {
      "cell_type": "markdown",
      "metadata": {
        "id": "view-in-github",
        "colab_type": "text"
      },
      "source": [
        "<a href=\"https://colab.research.google.com/github/neon-iot/communication_labs/blob/main/synchronization/notebooks/Test_Adrian's_functions.ipynb\" target=\"_parent\"><img src=\"https://colab.research.google.com/assets/colab-badge.svg\" alt=\"Open In Colab\"/></a>"
      ]
    },
    {
      "cell_type": "code",
      "execution_count": 1,
      "metadata": {
        "id": "jCgkWluCHtQY"
      },
      "outputs": [],
      "source": [
        "import numpy as np\n",
        "import funciones as fn # import help functions\n",
        "fn._global_fun() # instantiate global variables\n",
        "PI = np.pi; R2 = np.sqrt(2);"
      ]
    },
    {
      "cell_type": "code",
      "source": [
        "fn.SYMBOLS = 4\n",
        "fn.COD_LEN = 2\n",
        "fn.UPS_VALUE= 2\n",
        "\n",
        "vct_bits_source = fn.source()  \n",
        "print (\"bits \" , vct_bits_source)\n",
        "vct_coded_bits=fn.code(vct_bits_source)\n",
        "print (\"coded bits \" , vct_coded_bits,\"shape\", vct_coded_bits.shape)\n",
        "vct_ak = fn.modulate(vct_coded_bits)\n",
        "print (\"symbols \" , vct_ak)\n",
        "vct_ak_for_conv = fn.upsample(fn.transform(vct_ak, True), fn.UPS_VALUE, True)\n",
        "print (\"up sample \" , vct_ak_for_conv,\"shape\", vct_ak_for_conv.shape )\n",
        "\n",
        "vct_h = fn.channel_raised_cos(BW = 0.5, rolloff = 0.7, show_fig = [])\n",
        "vct_h_for_conv = fn.downsample(vct_h, fn.SAMPLESxSYM//fn.UPS_VALUE)\n",
        "pow_noise = 0\n",
        "[vct_processed, vct_processed_x_axis, vct_convolved] = fn.process_chan(pow_noise, vct_ak_for_conv, vct_h_for_conv)\n",
        "[vct_ADCout, vct_ADCout_x_axis] = fn.convert_ADC(vct_processed)\n",
        "print(vct_ADCout.shape)"
      ],
      "metadata": {
        "colab": {
          "base_uri": "https://localhost:8080/"
        },
        "id": "cDg40SMoIgkH",
        "outputId": "4586265e-bd3d-4965-f5c7-547bf0c426bf"
      },
      "execution_count": 30,
      "outputs": [
        {
          "output_type": "stream",
          "name": "stdout",
          "text": [
            "bits  [0 1 1 1 1 1 1 0]\n",
            "coded bits  ['01' '11' '11' '10'] shape (4,)\n",
            "symbols  [-1.-1.j  1.+1.j -1.-1.j  1.+1.j]\n",
            "up sample  [-1.-1.j  0.+0.j  1.+1.j  0.+0.j -1.-1.j  0.+0.j  1.+1.j  0.+0.j] shape (8,)\n",
            "(49,)\n"
          ]
        }
      ]
    },
    {
      "cell_type": "code",
      "source": [
        "fn.source()"
      ],
      "metadata": {
        "id": "Br9-IZdJSmpU"
      },
      "execution_count": null,
      "outputs": []
    }
  ]
}
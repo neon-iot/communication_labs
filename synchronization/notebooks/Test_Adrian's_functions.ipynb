{
 "cells": [
  {
   "cell_type": "markdown",
   "metadata": {
    "colab_type": "text",
    "id": "view-in-github"
   },
   "source": [
    "<a href=\"https://colab.research.google.com/drive/1D3eSNYKsO4_T_t4x6PzgU7Rc_7sLGhYn\" target=\"_parent\"><img src=\"https://colab.research.google.com/assets/colab-badge.svg\" alt=\"Open In Colab\"/></a>"
   ]
  },
  {
   "cell_type": "code",
   "execution_count": 1,
   "metadata": {
    "id": "jCgkWluCHtQY"
   },
   "outputs": [],
   "source": [
    "import numpy as np\n",
    "import funciones as fn # import help functions\n",
    "fn._global_fun() # instantiate global variables\n",
    "PI = np.pi; R2 = np.sqrt(2);"
   ]
  },
  {
   "cell_type": "code",
   "execution_count": 30,
   "metadata": {
    "colab": {
     "base_uri": "https://localhost:8080/"
    },
    "id": "cDg40SMoIgkH",
    "outputId": "4586265e-bd3d-4965-f5c7-547bf0c426bf"
   },
   "outputs": [
    {
     "name": "stdout",
     "output_type": "stream",
     "text": [
      "bits  [0 1 1 1 1 1 1 0]\n",
      " coded bits  ['01' '11' '11' '10'] shape (4,)\n",
      "symbols  [-1.-1.j  1.+1.j -1.-1.j  1.+1.j]\n",
      "up sample  [-1.-1.j  0.+0.j  1.+1.j  0.+0.j -1.-1.j  0.+0.j  1.+1.j  0.+0.j] shape (8,)\n",
      "(49,)\n"
     ]
    }
   ],
   "source": [
    "fn.SYMBOLS = 4\n",
    "fn.COD_LEN = 2\n",
    "fn.UPS_VALUE= 2\n",
    "\n",
    "vct_bits_source = fn.source()  \n",
    "print (\"bits \" , vct_bits_source)\n",
    "vct_coded_bits=fn.code(vct_bits_source)\n",
    "print (\"coded bits \" , vct_coded_bits,\"shape\", vct_coded_bits.shape)\n",
    "vct_ak = fn.modulate(vct_coded_bits)\n",
    "print (\"symbols \" , vct_ak)\n",
    "vct_ak_for_conv = fn.upsample(fn.transform(vct_ak, True), fn.UPS_VALUE, True)\n",
    "print (\"up sample \" , vct_ak_for_conv,\"shape\", vct_ak_for_conv.shape )\n",
    "\n",
    "vct_h = fn.channel_raised_cos(BW = 0.5, rolloff = 0.7, show_fig = [])\n",
    "vct_h_for_conv = fn.downsample(vct_h, fn.SAMPLESxSYM//fn.UPS_VALUE)\n",
    "pow_noise = 0\n",
    "[vct_processed, vct_processed_x_axis, vct_convolved] = fn.process_chan(pow_noise, vct_ak_for_conv, vct_h_for_conv)\n",
    "[vct_ADCout, vct_ADCout_x_axis] = fn.convert_ADC(vct_processed)\n",
    "print(vct_ADCout.shape)"
   ]
  },
  {
   "cell_type": "code",
   "execution_count": null,
   "metadata": {
    "id": "Br9-IZdJSmpU"
   },
   "outputs": [],
   "source": [
    "fn.source()"
   ]
  },
  {
   "cell_type": "markdown",
   "metadata": {},
   "source": [
    "[![CC BY 4.0][cc-by-shield]][cc-by]\n",
    "\n",
    "This work is licensed under a\n",
    "[Creative Commons Attribution 4.0 International License][cc-by].\n",
    "\n",
    "[![CC BY 4.0][cc-by-image]][cc-by]\n",
    "\n",
    "[cc-by]: http://creativecommons.org/licenses/by/4.0/\n",
    "[cc-by-image]: https://i.creativecommons.org/l/by/4.0/88x31.png\n",
    "[cc-by-shield]: https://img.shields.io/badge/License-CC%20BY%204.0-lightgrey.svg\n",
    "\n",
    "![logo_neon_erasmus](https://raw.githubusercontent.com/neon-iot/communication_labs/main/detection_theory/notebooks/images/BannerSupportErasmus_.png)"
   ]
  },
  {
   "cell_type": "code",
   "execution_count": null,
   "metadata": {},
   "outputs": [],
   "source": []
  }
 ],
 "metadata": {
  "colab": {
   "authorship_tag": "ABX9TyOPjFe/vCZldENcw+Dth2cm",
   "include_colab_link": true,
   "provenance": []
  },
  "kernelspec": {
   "display_name": "Python 3 (ipykernel)",
   "language": "python",
   "name": "python3"
  },
  "language_info": {
   "codemirror_mode": {
    "name": "ipython",
    "version": 3
   },
   "file_extension": ".py",
   "mimetype": "text/x-python",
   "name": "python",
   "nbconvert_exporter": "python",
   "pygments_lexer": "ipython3",
   "version": "3.9.13"
  }
 },
 "nbformat": 4,
 "nbformat_minor": 1
}

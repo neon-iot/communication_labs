{
 "cells": [
  {
   "cell_type": "code",
   "execution_count": null,
   "metadata": {
    "id": "G4Ve1wwZyu0_"
   },
   "outputs": [],
   "source": [
    "def detect(equalized_input = np.array([1]), form = 'vectorial'): # detection for either scalar or vectorial input\n",
    "  \n",
    "  def symb_detect(Yk_equalized): # symbol detection\n",
    "    while np.abs(Yk_equalized) > 10**12:\n",
    "      Yk_equalized *= 10**-1 # to avoid detection error with a very large value\n",
    "    Ak_detected = list(ALPHABET.values())[0] # initializes detection with first symbol in alphabet\n",
    "    det_difference = np.inf # initial difference\n",
    "    for it_dt in range(len(ALPHABET)): # for the entire alphabet\n",
    "      it_key = str(bin(it_dt)[2:]) # starting from 2 because binary numbers in python starts with 0b...\n",
    "      while COD_LEN != len(it_key): # to solve leading zeros problem\n",
    "        it_key='0'+it_key\n",
    "      if abs(ALPHABET[it_key] - Yk_equalized) < det_difference : \n",
    "        det_difference = abs(ALPHABET[it_key] - Yk_equalized) # distance between equalized and constellation point\n",
    "        Ak_detected = ALPHABET[it_key] # the detected symbol corresponds to the smaller distance\n",
    "    return Ak_detected\n",
    "  \n",
    "  if form == 'vectorial':\n",
    "    detected_output = np.zeros(len(equalized_input), dtype=np.complex_)\n",
    "    for it in np.arange(len(equalized_input)):\n",
    "      detected_output[it] = symb_detect(equalized_input[it])\n",
    "  elif form == 'scalar':\n",
    "    try:\n",
    "      detected_output = symb_detect(equalized_input) # for normal cases\n",
    "    except ValueError:\n",
    "      detected_output = symb_detect(equalized_input[0]) # for cases in which type of equalized_input:  <class 'numpy.ndarray'> of one element\n",
    "  else:\n",
    "    print('Incorrect input at argument form. Type vectorial or scalar.')\n",
    "\n",
    "  return detected_output"
   ]
  },
  {
   "cell_type": "markdown",
   "metadata": {},
   "source": [
    "[![CC BY 4.0][cc-by-shield]][cc-by]\n",
    "\n",
    "This work is licensed under a\n",
    "[Creative Commons Attribution 4.0 International License][cc-by].\n",
    "\n",
    "[![CC BY 4.0][cc-by-image]][cc-by]\n",
    "\n",
    "[cc-by]: http://creativecommons.org/licenses/by/4.0/\n",
    "[cc-by-image]: https://i.creativecommons.org/l/by/4.0/88x31.png\n",
    "[cc-by-shield]: https://img.shields.io/badge/License-CC%20BY%204.0-lightgrey.svg\n",
    "\n",
    "![logo_neon_erasmus](https://raw.githubusercontent.com/neon-iot/communication_labs/main/detection_theory/notebooks/images/BannerSupportErasmus_.png)"
   ]
  },
  {
   "cell_type": "code",
   "execution_count": null,
   "metadata": {},
   "outputs": [],
   "source": []
  }
 ],
 "metadata": {
  "colab": {
   "collapsed_sections": [],
   "provenance": []
  },
  "kernelspec": {
   "display_name": "Python 3 (ipykernel)",
   "language": "python",
   "name": "python3"
  },
  "language_info": {
   "codemirror_mode": {
    "name": "ipython",
    "version": 3
   },
   "file_extension": ".py",
   "mimetype": "text/x-python",
   "name": "python",
   "nbconvert_exporter": "python",
   "pygments_lexer": "ipython3",
   "version": "3.9.13"
  }
 },
 "nbformat": 4,
 "nbformat_minor": 1
}
